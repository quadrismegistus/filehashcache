{
 "cells": [
  {
   "cell_type": "markdown",
   "metadata": {},
   "source": [
    "# HashStash\n",
    "\n",
    "HashStash is a versatile caching library for Python that supports multiple storage engines, serializers, and encoding options. It provides a simple dictionary-like interface for caching data with various backend options. HashStash is designed to be easy to use, flexible, and efficient.\n",
    "\n",
    "## Features\n",
    "\n",
    "### Convenient usage\n",
    "- Dictionary-like interface, except absolutely anything can be either a key or value (even unhashable entities like sets or unpicklable entities like lambdas, local functions, etc)\n",
    "\n",
    "- Multiprocessing support: connection pooling, multiprocessing locks, etc\n",
    "\n",
    "- Function decorators like `@stashed_result`, which cache the results of function calls\n",
    "\n",
    "- Context managers for temporary caches\n",
    "\n",
    "- Easy dataframe assembly from cached contents\n",
    "\n",
    "### Multiple storage engines\n",
    "\n",
    "- File-based\n",
    "    - \"__pairtree__\" (no dependencies, no database; just organized folder and file structure; very fast)\n",
    "    - \"__[lmdb](https://pypi.org/project/lmdb/)__\" (single file, very efficient, slightly faster than pairtree)\n",
    "    - \"__[diskcache](https://pypi.org/project/diskcache/)__\" (similar to pairtree, but slower)\n",
    "    - \"__sqlite__\" (using [sqlitedict](https://pypi.org/project/sqlitedict/))\n",
    "\n",
    "- Server-based\n",
    "    - \"__redis__\" (using [redis-py](https://pypi.org/project/redis/))\n",
    "    - \"__mongo__\" (using [pymongo](https://pypi.org/project/pymongo/))\n",
    "\n",
    "- In-memory\n",
    "    - \"__memory__\" (shared memory, using [ultradict](https://pypi.org/project/ultradict/))\n",
    "\n",
    "### Multiple serializers\n",
    "\n",
    "- Transportable between Python versions\n",
    "    - \"__hashstash__\"\n",
    "        - Custom, no dependencies\n",
    "        - Can serialize nearly anything, even lambdas or functions defined within functions\n",
    "        - Serializes pandas dataframes using pyarrow if available\n",
    "        - Faster than jsonpickle but with larger file sizes\n",
    "        - Mostly JSON-based, with some binary data\n",
    "    - \"__[jsonpickle](https://pypi.org/project/jsonpickle/)__\"\n",
    "        - Flexible, battle-tested, but slowest\n",
    "\n",
    "- Not transportable between Python versions\n",
    "    - \"__pickle__\"\n",
    "        - Standard library\n",
    "        - By far the fastest\n",
    "        - But dangerous to use when sharing data across projects or Python versions \n",
    "\n",
    "### Compression and encoding options\n",
    "- External compressors (with depedencies):\n",
    "    - \"__[lz4](<https://pypi.org/project/python-lz4/)>)__\" (fastest)\n",
    "    - \"__[blosc](https://pypi.org/project/blosc/)__\"\n",
    "\n",
    "- Built-in compressors (no dependencies):\n",
    "    - \"__zlib__\"\n",
    "    - \"__gzip__\"\n",
    "    - \"__bz2__\" (smallest file size, but slowest)"
   ]
  },
  {
   "cell_type": "markdown",
   "metadata": {},
   "source": [
    "## Installation\n",
    "\n",
    "HashStash requires no dependencies by default, but you can install optional dependencies to get the best performance.\n",
    "\n",
    "* Default installation: `pip install hashstash`\n",
    "\n",
    "* Installation with only the optimal dependencies (lmdb + lz4 + pyarrow): `pip install hashstash[best]`\n",
    "\n",
    "* Full installation with all optional dependencies: `pip install hashstash[all]`\n",
    "\n",
    "* Installation with specific optional dependencies:\n",
    "\n",
    "    - For pandas dataframe serialization and support: `pip install hashstash[dataframe]`\n",
    "\n",
    "    - For file-based engines: `pip install hashstash[filebased]`\n",
    "\n",
    "    - For server-based engines: `pip install hashstash[servers]`\n",
    "\n",
    "    - For all engine types: `pip install hashstash[engines]`\n",
    "\n",
    "    - For specific engines:\n",
    "        - `pip install hashstash[redis]`\n",
    "        - `pip install hashstash[mongo]`\n",
    "        - `pip install hashstash[lmdb]`\n",
    "        - `pip install hashstash[sqlite]`\n",
    "        - `pip install hashstash[diskcache]`\n",
    "        - `pip install hashstash[memory]`\n",
    "\n",
    "    - For development: `pip install hashstash[dev]`\n",
    "\n",
    "Note: You can combine multiple optional dependencies, e.g., `pip install hashstash[dataframe,filebased]`"
   ]
  },
  {
   "cell_type": "markdown",
   "metadata": {},
   "source": [
    "## Usage\n",
    "\n",
    "Here's a quick example of how to use HashStash. \n",
    "\n",
    "### Creating a stash"
   ]
  },
  {
   "cell_type": "code",
   "execution_count": 1,
   "metadata": {},
   "outputs": [
    {
     "data": {
      "text/html": [
       "<pre>PairtreeHashStash</pre><table border=\"1\" class=\"dataframe\"><thead><tr><th>Config</th><th>Param</th><th>Value</th></tr></thead><tbody><tr><td><b>Path</b></td><td>Root Dir</td><td><i>/Users/ryan/.cache/hashstash/project_cache</i></td></tr><tr><td><b></b></td><td>Dbname</td><td><i>sub_cache</i></td></tr><tr><td><b></b></td><td>Filename</td><td><i>pairtree.hashstash.lz4.db</i></td></tr><tr><td><b>Engine</b></td><td>Engine</td><td><i>pairtree</i></td></tr><tr><td><b></b></td><td>Serializer</td><td><i>hashstash</i></td></tr><tr><td><b></b></td><td>Compress</td><td><i>lz4</i></td></tr></tbody></table>"
      ],
      "text/plain": [
       "PairtreeHashStash(~/.cache/hashstash/project_cache/sub_cache/pairtree.hashstash.lz4.db)"
      ]
     },
     "execution_count": 1,
     "metadata": {},
     "output_type": "execute_result"
    }
   ],
   "source": [
    "from hashstash import HashStash\n",
    "\n",
    "# Create a stash instance\n",
    "stash = HashStash()\n",
    "\n",
    "# or customize:\n",
    "stash = HashStash(\n",
    "    # naming\n",
    "    root_dir=\"project_stash\",    # root directory of the stash (default: default_stash)\n",
    "                                 # if not an absolute path, will be ~/.cache/hashstash/[root_dir]\n",
    "    dbname=\"sub_stash\",          # name of \"database\" or subfolder (default: main)\n",
    "    \n",
    "    # engines\n",
    "    engine=\"pairtree\",           # or lmdb, sqlite, diskcache, redis, mongo, or memory\n",
    "    serializer=\"hashstash\",      # or jsonpickle or pickle\n",
    "    compress='lz4',              # or blosc, bz2, gzip, zlib, or raw\n",
    "    b64=False,                   # base64 encode keys and values\n",
    "\n",
    "    # storage options\n",
    "    append_mode=False,           # store all versions of a key/value pair\n",
    ")\n",
    "\n",
    "# clear for this readme\n",
    "stash.clear()\n",
    "\n",
    "# show stash config\n",
    "stash"
   ]
  },
  {
   "cell_type": "markdown",
   "metadata": {},
   "source": [
    "### Stashing objects\n",
    "\n",
    "Literally anything can be a key or value, including functions, dataframes, dictionaries, etc."
   ]
  },
  {
   "cell_type": "code",
   "execution_count": 2,
   "metadata": {},
   "outputs": [
    {
     "name": "stdout",
     "output_type": "stream",
     "text": [
      "KEY: cat >>> VALUE: {'goodness': 'good'}\n",
      "KEY: {'goodness': 'bad'} >>> VALUE: dog\n"
     ]
    }
   ],
   "source": [
    "# store arbitrary objects in keys and values, even unhashable ones\n",
    "stash[\"cat\"] = {\"goodness\":\"good\"}\n",
    "stash[{\"goodness\":\"bad\"}] = 'dog'\n",
    "\n",
    "for key, value in stash.items():\n",
    "    print(f'KEY: {key} >>> VALUE: {value}')"
   ]
  },
  {
   "cell_type": "code",
   "execution_count": 3,
   "metadata": {},
   "outputs": [
    {
     "data": {
      "text/plain": [
       "(True, True)"
      ]
     },
     "execution_count": 3,
     "metadata": {},
     "output_type": "execute_result"
    }
   ],
   "source": [
    "# Even dataframes can be a key or value\n",
    "import pandas as pd\n",
    "df = pd.DataFrame({\n",
    "    \"name\":[\"cat\",\"dog\"],\n",
    "    \"goodness\":[\"good\",\"bad\"]\n",
    "})\n",
    "stash[\"cat-dog\"] = df\n",
    "stash[df] = \"cat-dog\"\n",
    "\n",
    "stash[df] == \"cat-dog\", stash[\"cat-dog\"].equals(df)"
   ]
  },
  {
   "cell_type": "markdown",
   "metadata": {},
   "source": [
    "### Other dictionary operations\n",
    "\n",
    "HashStash fully implements the dictionary-like `MutableMapping` interface, providing the following methods:\n",
    "\n",
    "- `__setitem__(key: Any, value: Any)`: Set an item in the cache\n",
    "\n",
    "- `__getitem__(key: Any) -> Any`: Get an item from the cache\n",
    "\n",
    "- `__contains__(key: Any) -> bool`: Check if a key exists in the cache\n",
    "\n",
    "- `get(key: Any, default: Any = None) -> Any`: Get an item with a default value\n",
    "\n",
    "- `clear() -> None`: Clear all items from the cache\n",
    "\n",
    "- `__len__() -> int`: Return the number of items in the cache\n",
    "\n",
    "- `__iter__()`: Iterate over all keys in the cache\n",
    "\n",
    "- `keys()`: Return an iterator over the cache keys\n",
    "\n",
    "- `values()`: Return an iterator over the cache values\n",
    "\n",
    "- `items()`: Return an iterator over the cache key-value pairs\n",
    "\n",
    "- `update(other=None, **kwargs)`: Update the cache with key-value pairs from another dictionary or keyword arguments\n",
    "\n",
    "- `setdefault(key, default=None)`: Set a key with a default value if it doesn't exist, and return the value\n",
    "\n",
    "- `pop(key, default=None)`: Remove and return the value for a key, or return the default if the key doesn't exist\n",
    "\n",
    "- `popitem()`: Remove and return a (key, value) pair from the cache\n",
    "\n",
    "There are also extra dictionary-like functions for convenience:\n",
    "\n",
    "- `keys_l()`: Return a list of all keys in the cache\n",
    "\n",
    "- `values_l()`: Return a list of all values in the cache\n",
    "\n",
    "- `items_l()`: Return a list of all key-value pairs in the cache"
   ]
  },
  {
   "cell_type": "markdown",
   "metadata": {},
   "source": [
    "### Function decorators\n",
    "\n",
    "HashStash provides a `@stashed_result` decorator for caching the results of function calls."
   ]
  },
  {
   "cell_type": "code",
   "execution_count": 41,
   "metadata": {},
   "outputs": [
    {
     "name": "stdout",
     "output_type": "stream",
     "text": [
      "I am now performing some time consuming calculation\n",
      "{'args': (5,), 'kwargs': {}} >>> 10\n"
     ]
    },
    {
     "data": {
      "text/plain": [
       "True"
      ]
     },
     "execution_count": 41,
     "metadata": {},
     "output_type": "execute_result"
    }
   ],
   "source": [
    "from hashstash import stashed_result\n",
    "\n",
    "@stashed_result                 # or @my_stash.stashed_result; or @stashed_result(**stash_config)\n",
    "def expensive_computation(x):\n",
    "    print('I am now performing some time consuming calculation')\n",
    "    return x * 2\n",
    "\n",
    "# as soon as function is decorated, you can access its stash as an attribute of the function\n",
    "expensive_computation.stash\n",
    "\n",
    "# clear it for this readme\n",
    "expensive_computation.stash.clear()\n",
    "\n",
    "# first call will compute and cache the result\n",
    "expensive_computation(5)\n",
    "\n",
    "# subsequent calls will return the cached result -- will not print\n",
    "expensive_computation(5)\n",
    "\n",
    "# you can iterate over results like any other stash\n",
    "for key,value in expensive_computation.stash.items():\n",
    "    print(f'{key} >>> {value}')\n",
    "\n",
    "# you can get the results using *args, **kwargs using .get_func\n",
    "(\n",
    "    expensive_computation.stash.get_func(5) \n",
    "    == expensive_computation.stash.get({'args': (5,), 'kwargs': {}})\n",
    "    == expensive_computation(5)\n",
    ")"
   ]
  },
  {
   "cell_type": "markdown",
   "metadata": {},
   "source": [
    "### Assembling DataFrames\n",
    "\n",
    "HashStash can assemble DataFrames from cached contents, even nested ones:"
   ]
  },
  {
   "cell_type": "code",
   "execution_count": 5,
   "metadata": {},
   "outputs": [
    {
     "data": {
      "text/html": [
       "<div>\n",
       "<style scoped>\n",
       "    .dataframe tbody tr th:only-of-type {\n",
       "        vertical-align: middle;\n",
       "    }\n",
       "\n",
       "    .dataframe tbody tr th {\n",
       "        vertical-align: top;\n",
       "    }\n",
       "\n",
       "    .dataframe thead th {\n",
       "        text-align: right;\n",
       "    }\n",
       "</style>\n",
       "<table border=\"1\" class=\"dataframe\">\n",
       "  <thead>\n",
       "    <tr style=\"text-align: right;\">\n",
       "      <th></th>\n",
       "      <th>name</th>\n",
       "      <th>goodness</th>\n",
       "      <th>etc.age</th>\n",
       "      <th>etc.goes_to.heaven</th>\n",
       "    </tr>\n",
       "    <tr>\n",
       "      <th>_key</th>\n",
       "      <th></th>\n",
       "      <th></th>\n",
       "      <th></th>\n",
       "      <th></th>\n",
       "    </tr>\n",
       "  </thead>\n",
       "  <tbody>\n",
       "    <tr>\n",
       "      <th>Animal 1</th>\n",
       "      <td>cat</td>\n",
       "      <td>good</td>\n",
       "      <td>5</td>\n",
       "      <td>True</td>\n",
       "    </tr>\n",
       "    <tr>\n",
       "      <th>Animal 2</th>\n",
       "      <td>dog</td>\n",
       "      <td>bad</td>\n",
       "      <td>9</td>\n",
       "      <td>True</td>\n",
       "    </tr>\n",
       "    <tr>\n",
       "      <th>Animal 3</th>\n",
       "      <td>cat</td>\n",
       "      <td>bad</td>\n",
       "      <td>9</td>\n",
       "      <td>False</td>\n",
       "    </tr>\n",
       "    <tr>\n",
       "      <th>Animal 4</th>\n",
       "      <td>cat</td>\n",
       "      <td>bad</td>\n",
       "      <td>2</td>\n",
       "      <td>False</td>\n",
       "    </tr>\n",
       "    <tr>\n",
       "      <th>Animal 5</th>\n",
       "      <td>cat</td>\n",
       "      <td>bad</td>\n",
       "      <td>9</td>\n",
       "      <td>False</td>\n",
       "    </tr>\n",
       "    <tr>\n",
       "      <th>...</th>\n",
       "      <td>...</td>\n",
       "      <td>...</td>\n",
       "      <td>...</td>\n",
       "      <td>...</td>\n",
       "    </tr>\n",
       "    <tr>\n",
       "      <th>Animal 96</th>\n",
       "      <td>dog</td>\n",
       "      <td>good</td>\n",
       "      <td>3</td>\n",
       "      <td>True</td>\n",
       "    </tr>\n",
       "    <tr>\n",
       "      <th>Animal 97</th>\n",
       "      <td>cat</td>\n",
       "      <td>bad</td>\n",
       "      <td>4</td>\n",
       "      <td>False</td>\n",
       "    </tr>\n",
       "    <tr>\n",
       "      <th>Animal 98</th>\n",
       "      <td>dog</td>\n",
       "      <td>bad</td>\n",
       "      <td>3</td>\n",
       "      <td>True</td>\n",
       "    </tr>\n",
       "    <tr>\n",
       "      <th>Animal 99</th>\n",
       "      <td>cat</td>\n",
       "      <td>good</td>\n",
       "      <td>6</td>\n",
       "      <td>True</td>\n",
       "    </tr>\n",
       "    <tr>\n",
       "      <th>Animal 100</th>\n",
       "      <td>cat</td>\n",
       "      <td>good</td>\n",
       "      <td>6</td>\n",
       "      <td>True</td>\n",
       "    </tr>\n",
       "  </tbody>\n",
       "</table>\n",
       "<p>100 rows × 4 columns</p>\n",
       "</div>"
      ],
      "text/plain": [
       "           name goodness  etc.age  etc.goes_to.heaven\n",
       "_key                                                 \n",
       "Animal 1    cat     good        5                True\n",
       "Animal 2    dog      bad        9                True\n",
       "Animal 3    cat      bad        9               False\n",
       "Animal 4    cat      bad        2               False\n",
       "Animal 5    cat      bad        9               False\n",
       "...         ...      ...      ...                 ...\n",
       "Animal 96   dog     good        3                True\n",
       "Animal 97   cat      bad        4               False\n",
       "Animal 98   dog      bad        3                True\n",
       "Animal 99   cat     good        6                True\n",
       "Animal 100  cat     good        6                True\n",
       "\n",
       "[100 rows x 4 columns]"
      ]
     },
     "execution_count": 5,
     "metadata": {},
     "output_type": "execute_result"
    }
   ],
   "source": [
    "stash = HashStash(engine='memory', dbname='assembling_dfs').clear()\n",
    "\n",
    "# populate stash with random animals\n",
    "import random\n",
    "for n in range(100):\n",
    "    stash[f'Animal {n+1}'] = {\n",
    "        'name': (cat_or_dog := random.choice(['cat', 'dog'])), \n",
    "        'goodness': (goodness := random.choice(['good', 'bad'])),\n",
    "        'etc': {\n",
    "            'age': random.randint(1, 10),\n",
    "            'goes_to':{\n",
    "                'heaven':cat_or_dog=='dog' or goodness=='good',\n",
    "            }\n",
    "        }\n",
    "    }\n",
    "\n",
    "# assemble list of flattened dictionaries from cached contents\n",
    "stash.ld         # or stash.assemble_ld()\n",
    "\n",
    "# assemble dataframe from flattened dictionaries of cached contents\n",
    "stash.df         # or stash.assemble_df()"
   ]
  },
  {
   "cell_type": "markdown",
   "metadata": {},
   "source": [
    "### Append mode\n",
    "\n",
    "Keep track of all versions of a key/value pair. All engines can track version number; \"pairtree\" tracks timestamp as well."
   ]
  },
  {
   "cell_type": "code",
   "execution_count": 46,
   "metadata": {},
   "outputs": [
    {
     "data": {
      "text/plain": [
       "[{'goodness': 'good'}, {'goodness': 'bad'}]"
      ]
     },
     "execution_count": 46,
     "metadata": {},
     "output_type": "execute_result"
    }
   ],
   "source": [
    "stash = HashStash(\"readme_append_mode\", engine='pairtree', append_mode=True).clear()\n",
    "stash[\"cat\"] = {\"goodness\": \"good\"}\n",
    "stash[\"cat\"] = {\"goodness\": \"bad\"}\n",
    "stash.get_all(\"cat\")"
   ]
  },
  {
   "cell_type": "code",
   "execution_count": 47,
   "metadata": {},
   "outputs": [
    {
     "data": {
      "text/plain": [
       "{'goodness': 'bad'}"
      ]
     },
     "execution_count": 47,
     "metadata": {},
     "output_type": "execute_result"
    }
   ],
   "source": [
    "# .get() will always return latest version\n",
    "stash.get(\"cat\")"
   ]
  },
  {
   "cell_type": "code",
   "execution_count": 48,
   "metadata": {},
   "outputs": [
    {
     "data": {
      "text/plain": [
       "[{'_version': 1,\n",
       "  '_timestamp': 1725618315.274457,\n",
       "  '_value': {'goodness': 'good'}},\n",
       " {'_version': 2,\n",
       "  '_timestamp': 1725618315.274704,\n",
       "  '_value': {'goodness': 'bad'}}]"
      ]
     },
     "execution_count": 48,
     "metadata": {},
     "output_type": "execute_result"
    }
   ],
   "source": [
    "# Include version number (and timestamp if pairtree engine)\n",
    "stash.get_all(\"cat\", with_metadata=True)"
   ]
  },
  {
   "cell_type": "code",
   "execution_count": 49,
   "metadata": {},
   "outputs": [
    {
     "data": {
      "text/html": [
       "<div>\n",
       "<style scoped>\n",
       "    .dataframe tbody tr th:only-of-type {\n",
       "        vertical-align: middle;\n",
       "    }\n",
       "\n",
       "    .dataframe tbody tr th {\n",
       "        vertical-align: top;\n",
       "    }\n",
       "\n",
       "    .dataframe thead th {\n",
       "        text-align: right;\n",
       "    }\n",
       "</style>\n",
       "<table border=\"1\" class=\"dataframe\">\n",
       "  <thead>\n",
       "    <tr style=\"text-align: right;\">\n",
       "      <th></th>\n",
       "      <th></th>\n",
       "      <th></th>\n",
       "      <th>goodness</th>\n",
       "    </tr>\n",
       "    <tr>\n",
       "      <th>_key</th>\n",
       "      <th>_version</th>\n",
       "      <th>_timestamp</th>\n",
       "      <th></th>\n",
       "    </tr>\n",
       "  </thead>\n",
       "  <tbody>\n",
       "    <tr>\n",
       "      <th rowspan=\"2\" valign=\"top\">cat</th>\n",
       "      <th>1</th>\n",
       "      <th>1.725618e+09</th>\n",
       "      <td>good</td>\n",
       "    </tr>\n",
       "    <tr>\n",
       "      <th>2</th>\n",
       "      <th>1.725618e+09</th>\n",
       "      <td>bad</td>\n",
       "    </tr>\n",
       "  </tbody>\n",
       "</table>\n",
       "</div>"
      ],
      "text/plain": [
       "                           goodness\n",
       "_key _version _timestamp           \n",
       "cat  1        1.725618e+09     good\n",
       "     2        1.725618e+09      bad"
      ]
     },
     "execution_count": 49,
     "metadata": {},
     "output_type": "execute_result"
    }
   ],
   "source": [
    "# Include metadata in assembled dataframe\n",
    "stash.assemble_df(with_metadata=True)"
   ]
  },
  {
   "cell_type": "markdown",
   "metadata": {},
   "source": [
    "### Temporary Caches\n",
    "\n",
    "HashStash provides a `tmp` method for creating temporary caches that are automatically cleaned up. The temporary cache is automatically cleared and removed after the with block:"
   ]
  },
  {
   "cell_type": "code",
   "execution_count": 9,
   "metadata": {},
   "outputs": [
    {
     "name": "stdout",
     "output_type": "stream",
     "text": [
      "True\n",
      "False\n"
     ]
    }
   ],
   "source": [
    "stash = HashStash()\n",
    "\n",
    "with stash.tmp() as tmp_stash:\n",
    "    tmp_stash[\"key\"] = \"value\"\n",
    "    print(\"key\" in tmp_stash)\n",
    "    \n",
    "print(\"key\" in tmp_stash)"
   ]
  },
  {
   "cell_type": "markdown",
   "metadata": {},
   "source": [
    "### Utilities"
   ]
  },
  {
   "cell_type": "markdown",
   "metadata": {},
   "source": [
    "#### Serialization\n",
    "\n",
    "HashStash supports multiple serialization methods:\n",
    "\n",
    "- `serialize`: Serializes Python objects\n",
    "- `deserialize`: Deserializes data back into Python objects"
   ]
  },
  {
   "cell_type": "code",
   "execution_count": 50,
   "metadata": {},
   "outputs": [
    {
     "data": {
      "text/plain": [
       "True"
      ]
     },
     "execution_count": 50,
     "metadata": {},
     "output_type": "execute_result"
    }
   ],
   "source": [
    "from hashstash import serialize, deserialize\n",
    "\n",
    "data = pd.DataFrame({\"name\": [\"cat\", \"dog\"], \"goodness\": [\"good\", \"bad\"]})\n",
    "serialized_data = serialize(data, serializer=\"hashstash\") # or jsonpickle or pickle\n",
    "deserialized_data = deserialize(serialized_data, serializer=\"hashstash\")\n",
    "\n",
    "data.equals(deserialized_data)"
   ]
  },
  {
   "cell_type": "markdown",
   "metadata": {},
   "source": [
    "### Encoding and Compression\n",
    "\n",
    "HashStash provides functions for encoding and compressing data:\n",
    "\n",
    "- `encode`: Encodes and optionally compresses data\n",
    "- `decode`: Decodes and decompresses data\n",
    "\n",
    "These functions are used internally by HashStash but can also be used directly:"
   ]
  },
  {
   "cell_type": "code",
   "execution_count": 51,
   "metadata": {},
   "outputs": [
    {
     "data": {
      "text/plain": [
       "True"
      ]
     },
     "execution_count": 51,
     "metadata": {},
     "output_type": "execute_result"
    }
   ],
   "source": [
    "from hashstash import encode, decode\n",
    "\n",
    "data = b\"Hello, World!\"\n",
    "encoded_data = encode(data, compress='lz4', b64=True)\n",
    "decoded_data = decode(encoded_data, compress='lz4', b64=True)\n",
    "\n",
    "data == decoded_data"
   ]
  },
  {
   "cell_type": "markdown",
   "metadata": {},
   "source": [
    "## Profiling\n",
    "\n",
    "### Engines\n",
    "\n",
    "LMDB is the fastest engine, followed by the custom \"pairtree\" implementation.\n",
    "\n",
    "![Engines](./figures/fig.comparing_engines.png)\n",
    "\n",
    "### Serializers\n",
    "\n",
    "Pickle is by far the fastest serializer, but it is not transportable between Python versions. HashStash is generally faster than jsonpickle, and can serialize more data types (including lambdas and functions within functions), but it produces larger file sizes.\n",
    "\n",
    "![Serializers](./figures/fig.comparing_serializers_size_speed.png)\n",
    "\n",
    "### Encodings\n",
    "\n",
    "LZ4 is the fastest compressor, but it requires an external dependency. BZ2 is the slowest, but it provides the best compression ratio.\n",
    "\n",
    "![Compressors](./figures/fig.comparing_encodings_size_speed.png)\n",
    "\n",
    "### All together\n",
    "\n",
    "LMDB engine, with pickle serializer, with no compression (raw) or LZ4 or blosc compression is the fastest combination of parameters; followed by pairtree with the same. \n",
    "\n",
    "![All together](./figures/fig.comparing_engines_serializers_encodings.png)"
   ]
  },
  {
   "cell_type": "markdown",
   "metadata": {},
   "source": [
    "## Development\n",
    "\n",
    "### Tests\n",
    "\n",
    "To run the tests, clone this repository and run  `pytest` in the root project directory.\n",
    "\n",
    "### Contributing\n",
    "\n",
    "Contributions are welcome! Please feel free to submit a Pull Request.\n",
    "\n",
    "### License\n",
    "\n",
    "This project is licensed under the GNU License."
   ]
  }
 ],
 "metadata": {
  "kernelspec": {
   "display_name": "venv",
   "language": "python",
   "name": "python3"
  },
  "language_info": {
   "codemirror_mode": {
    "name": "ipython",
    "version": 3
   },
   "file_extension": ".py",
   "mimetype": "text/x-python",
   "name": "python",
   "nbconvert_exporter": "python",
   "pygments_lexer": "ipython3",
   "version": "3.10.7"
  }
 },
 "nbformat": 4,
 "nbformat_minor": 2
}
