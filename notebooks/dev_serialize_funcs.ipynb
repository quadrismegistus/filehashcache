{
 "cells": [
  {
   "cell_type": "code",
   "execution_count": 1,
   "metadata": {},
   "outputs": [],
   "source": [
    "import sys; sys.path.insert(0,'..')\n",
    "from hashstash import *\n",
    "# logger.setLevel('DEBUG')\n",
    "from hashstash.serializers.custom import _serialize_custom, _deserialize_custom\n",
    "from hashstash.profilers.engine_profiler import HashStashProfiler"
   ]
  },
  {
   "cell_type": "code",
   "execution_count": 2,
   "metadata": {},
   "outputs": [
    {
     "name": "stdout",
     "output_type": "stream",
     "text": [
      "\u001b[92mkey = {'args': (10,), 'kwargs': {}}\u001b[0m\n",
      "\u001b[92mkey = {\"args\": {\"__py__\": \"builtins.tuple\", \"__data__\": [10]}, \"kwargs\": {}}\u001b[0m\n",
      "\u001b[92mkey = b'eJyrVkosSi9WslKoVoqPL6iMjwcylZJKM3NKMvOK9UpKC3JSlXQUgHIpiSWJYNloQ4PYWqBQdjlMZ20tACyXFs8='\u001b[0m\n",
      "\u001b[92mStash miss for bark_instance_stashed. Executing function.\u001b[0m\n",
      "bark bark bark bark bark \n",
      "\u001b[92mCaching result for bark_instance_stashed under {\"args\": {\"__py__\": \"builtins.tuple\", \"__data__\": [10]}, \"kwargs\": {}}\u001b[0m\n"
     ]
    }
   ],
   "source": [
    "func_d=FunctionSerializer.serialize(Dog.bark_instance_stashed)\n",
    "FunctionSerializer.deserialize(func_d)(10)"
   ]
  },
  {
   "cell_type": "code",
   "execution_count": 8,
   "metadata": {},
   "outputs": [
    {
     "name": "stdout",
     "output_type": "stream",
     "text": [
      "('{\"__py__\": \"hashstash.profilers.engine_profiler.HashStashProfiler.profile\", '\n",
      " '\"__pytype__\": \"method\", \"__cls__\": {\"__py__\": '\n",
      " '\"hashstash.profilers.engine_profiler.HashStashProfiler\", \"__pytype__\": '\n",
      " '\"class\"}}')\n"
     ]
    }
   ],
   "source": [
    "pprint(serialize(HashStashProfiler.profile))"
   ]
  },
  {
   "cell_type": "code",
   "execution_count": 5,
   "metadata": {},
   "outputs": [
    {
     "name": "stdout",
     "output_type": "stream",
     "text": [
      "bark bark \n"
     ]
    }
   ],
   "source": [
    "ClassSerializer.deserialize(ClassSerializer.serialize(Dog))('rexxx').bark_instance()"
   ]
  },
  {
   "cell_type": "code",
   "execution_count": 6,
   "metadata": {},
   "outputs": [],
   "source": [
    "# f2=FunctionSerializer.deserialize(FunctionSerializer.serialize(Dog.bark_classmethod_stashed))\n",
    "# f2(10)"
   ]
  },
  {
   "cell_type": "code",
   "execution_count": 7,
   "metadata": {},
   "outputs": [
    {
     "ename": "NameError",
     "evalue": "name 'func' is not defined",
     "output_type": "error",
     "traceback": [
      "\u001b[0;31m---------------------------------------------------------------------------\u001b[0m",
      "\u001b[0;31mNameError\u001b[0m                                 Traceback (most recent call last)",
      "Cell \u001b[0;32mIn[7], line 1\u001b[0m\n\u001b[0;32m----> 1\u001b[0m \u001b[43mfunc\u001b[49m(\u001b[38;5;241m10\u001b[39m)\n",
      "\u001b[0;31mNameError\u001b[0m: name 'func' is not defined"
     ]
    }
   ],
   "source": [
    "func(10)"
   ]
  },
  {
   "cell_type": "code",
   "execution_count": null,
   "metadata": {},
   "outputs": [
    {
     "data": {
      "text/plain": [
       "{'__py__': '__main__.Dog.bark_instance',\n",
       " '__type__': 'instancemethod',\n",
       " '__self__': {'__py__': '__main__.Dog',\n",
       "  '__class__': {'__py__': '__main__.Dog',\n",
       "   '__bases__': ['builtins.object'],\n",
       "   '__methods__': {'__init__': {'__py__': '__main__.Dog.__init__',\n",
       "     '__type__': 'method',\n",
       "     '__source__': \"def __init__(self, name='rex') -> None:\\n    self.name = name\"},\n",
       "    'bark_instance': {'__py__': '__main__.Dog.bark_instance',\n",
       "     '__type__': 'method',\n",
       "     '__source__': \"def bark_instance(self, n=2):\\n    print('bark '*n)\"},\n",
       "    'bark_classmetod': {'__py__': '__main__.Dog.bark_classmetod',\n",
       "     '__type__': 'method',\n",
       "     '__source__': \"@classmethod\\ndef bark_classmetod(cls, n=5):\\n    print('bark '*n)\"},\n",
       "    'bark_instance_stashed': {'__py__': '__main__.Dog.bark_instance_stashed',\n",
       "     '__type__': 'method',\n",
       "     '__source__': \"@stashed_result\\ndef bark_instance_stashed(cls, n=5):\\n    print('bark '*n)\"},\n",
       "    'bark_classmethod_stashed': {'__py__': '__main__.Dog.bark_classmethod_stashed',\n",
       "     '__type__': 'method',\n",
       "     '__source__': \"@classmethod\\n@stashed_result\\ndef bark_classmethod_stashed(cls, n=5):\\n    print('bark '*n)\"}},\n",
       "   '__attrs__': {'goestoheaven': True}},\n",
       "  '__state__': {'name': 'rex'}},\n",
       " '__source__': \"def bark_instance(self, n=2):\\n    print('bark '*n)\"}"
      ]
     },
     "execution_count": 19,
     "metadata": {},
     "output_type": "execute_result"
    }
   ],
   "source": [
    "FunctionSerializer.serialize(Dog().bark_instance)"
   ]
  },
  {
   "cell_type": "code",
   "execution_count": null,
   "metadata": {},
   "outputs": [
    {
     "data": {
      "text/plain": [
       "{'__py__': '__main__.Dog.bark_classmetod',\n",
       " '__type__': 'classmethod',\n",
       " '__class__': {'__py__': '__main__.Dog',\n",
       "  '__bases__': ['builtins.object'],\n",
       "  '__methods__': {'__init__': {'__py__': '__main__.Dog.__init__',\n",
       "    '__type__': 'method',\n",
       "    '__source__': \"def __init__(self, name='rex') -> None:\\n    self.name = name\"},\n",
       "   'bark_instance': {'__py__': '__main__.Dog.bark_instance',\n",
       "    '__type__': 'method',\n",
       "    '__source__': \"def bark_instance(self, n=2):\\n    print('bark '*n)\"},\n",
       "   'bark_classmetod': {'__py__': '__main__.Dog.bark_classmetod',\n",
       "    '__type__': 'method',\n",
       "    '__source__': \"@classmethod\\ndef bark_classmetod(cls, n=5):\\n    print('bark '*n)\"},\n",
       "   'bark_instance_stashed': {'__py__': '__main__.Dog.bark_instance_stashed',\n",
       "    '__type__': 'method',\n",
       "    '__source__': \"@stashed_result\\ndef bark_instance_stashed(cls, n=5):\\n    print('bark '*n)\"},\n",
       "   'bark_classmethod_stashed': {'__py__': '__main__.Dog.bark_classmethod_stashed',\n",
       "    '__type__': 'method',\n",
       "    '__source__': \"@classmethod\\n@stashed_result\\ndef bark_classmethod_stashed(cls, n=5):\\n    print('bark '*n)\"}},\n",
       "  '__attrs__': {'goestoheaven': True}},\n",
       " '__source__': \"@classmethod\\ndef bark_classmetod(cls, n=5):\\n    print('bark '*n)\"}"
      ]
     },
     "execution_count": 28,
     "metadata": {},
     "output_type": "execute_result"
    }
   ],
   "source": [
    "FunctionSerializer.serialize(Dog.bark_classmetod)"
   ]
  },
  {
   "cell_type": "code",
   "execution_count": null,
   "metadata": {},
   "outputs": [
    {
     "name": "stdout",
     "output_type": "stream",
     "text": [
      "bark bark bark bark bark bark bark bark bark bark \n"
     ]
    }
   ],
   "source": [
    "ClassSerializer.deserialize(ClassSerializer.serialize(Dog)).bark_classmetod(10)"
   ]
  },
  {
   "cell_type": "code",
   "execution_count": null,
   "metadata": {},
   "outputs": [
    {
     "name": "stdout",
     "output_type": "stream",
     "text": [
      "\u001b[92mFunctionSerializer.serialize()  <<<  <bound method Dog.bark_classmetod of <class 'hashstash.Dog'>>\u001b[0m\n",
      "\u001b[92mFunctionSerializer.serialize()  >>>  {'__py__': 'hashstash.Dog.bark_classmetod', '__type__': 'classmethod'}\u001b[0m\n"
     ]
    },
    {
     "data": {
      "text/plain": [
       "{'__py__': 'hashstash.Dog.bark_classmetod', '__type__': 'classmethod'}"
      ]
     },
     "execution_count": 5,
     "metadata": {},
     "output_type": "execute_result"
    }
   ],
   "source": [
    "FunctionSerializer.serialize(Dog.bark_classmetod)"
   ]
  },
  {
   "cell_type": "code",
   "execution_count": null,
   "metadata": {},
   "outputs": [
    {
     "name": "stdout",
     "output_type": "stream",
     "text": [
      "\u001b[92mFunctionSerializer.serialize()  <<<  <bound method Dog.bark_classmethod_stashed of <class '__main__.Dog'>>\u001b[0m\n",
      "\u001b[92mFunctionSerializer.serialize()  >>>  {'__py__': '__main__.Dog.bark_classmethod_stashed', '__type__': 'classmethod', '__source__': \"def bark_classmethod_stashed(cls, n=5):\\n    print('bark '*n)\", '__closure__': {'func': '<function bark_classmethod_stashed>', 'get_obj_nice_name': '<function get_obj_nice_name>', 'level': 10}}\u001b[0m\n"
     ]
    },
    {
     "data": {
      "text/plain": [
       "{'__py__': '__main__.Dog.bark_classmethod_stashed',\n",
       " '__type__': 'classmethod',\n",
       " '__source__': \"def bark_classmethod_stashed(cls, n=5):\\n    print('bark '*n)\",\n",
       " '__closure__': {'func': '<function bark_classmethod_stashed>',\n",
       "  'get_obj_nice_name': '<function get_obj_nice_name>',\n",
       "  'level': 10}}"
      ]
     },
     "execution_count": 18,
     "metadata": {},
     "output_type": "execute_result"
    }
   ],
   "source": [
    "FunctionSerializer.serialize(Dog.bark_classmethod_stashed)"
   ]
  },
  {
   "cell_type": "code",
   "execution_count": null,
   "metadata": {},
   "outputs": [
    {
     "name": "stdout",
     "output_type": "stream",
     "text": [
      "\u001b[92mFunctionSerializer.serialize()  <<<  <bound method Dog.bark_instance_stashed of <__main__.Dog object at 0x104087ac0>>\u001b[0m\n",
      "\u001b[92mFunctionSerializer.serialize()  >>>  {'__py__': '__main__.Dog.bark_instance_stashed', '__type__': 'instancemethod', '__self__': {'__py__': '__main__.Dog', '__class__': '__main__.Dog', '__state__': {'name': 'rex'}}, '__source__': \"def bark_instance_stashed(cls, n=5):\\n    print('bark '*n)\", '__closure__': {'func': '<function bark_instance_stashed>', 'get_obj_nice_name': '<function get_obj_nice_name>', 'level': 10}}\u001b[0m\n"
     ]
    },
    {
     "data": {
      "text/plain": [
       "{'__py__': '__main__.Dog.bark_instance_stashed',\n",
       " '__type__': 'instancemethod',\n",
       " '__self__': {'__py__': '__main__.Dog',\n",
       "  '__class__': '__main__.Dog',\n",
       "  '__state__': {'name': 'rex'}},\n",
       " '__source__': \"def bark_instance_stashed(cls, n=5):\\n    print('bark '*n)\",\n",
       " '__closure__': {'func': '<function bark_instance_stashed>',\n",
       "  'get_obj_nice_name': '<function get_obj_nice_name>',\n",
       "  'level': 10}}"
      ]
     },
     "execution_count": 17,
     "metadata": {},
     "output_type": "execute_result"
    }
   ],
   "source": [
    "FunctionSerializer.serialize(Dog().bark_instance_stashed)"
   ]
  },
  {
   "cell_type": "code",
   "execution_count": null,
   "metadata": {},
   "outputs": [
    {
     "name": "stdout",
     "output_type": "stream",
     "text": [
      "\u001b[92mFunctionSerializer.serialize()  <<<  <bound method Dog.bark_classmethod_stashed of <class '__main__.Dog'>>\u001b[0m\n",
      "\u001b[92mFunctionSerializer.serialize()  >>>  {'__py__': '__main__.Dog.bark_classmethod_stashed', '__type__': 'classmethod', '__source__': \"def bark_classmethod_stashed(cls, n=5):\\n    print('bark '*n)\", '__closure__': {'func': '<function bark_classmethod_stashed>', 'get_obj_nice_name': '<function get_obj_nice_name>', 'level': 10}}\u001b[0m\n"
     ]
    },
    {
     "data": {
      "text/plain": [
       "{'__py__': '__main__.Dog.bark_classmethod_stashed',\n",
       " '__type__': 'classmethod',\n",
       " '__source__': \"def bark_classmethod_stashed(cls, n=5):\\n    print('bark '*n)\",\n",
       " '__closure__': {'func': '<function bark_classmethod_stashed>',\n",
       "  'get_obj_nice_name': '<function get_obj_nice_name>',\n",
       "  'level': 10}}"
      ]
     },
     "execution_count": 16,
     "metadata": {},
     "output_type": "execute_result"
    }
   ],
   "source": [
    "FunctionSerializer.serialize(Dog.bark_classmethod_stashed)"
   ]
  },
  {
   "cell_type": "code",
   "execution_count": null,
   "metadata": {},
   "outputs": [
    {
     "name": "stdout",
     "output_type": "stream",
     "text": [
      "\u001b[92mFunctionSerializer.serialize()  <<<  <function Dog.bark_instance at 0x1042d6320>\u001b[0m\n",
      "\u001b[92mFunctionSerializer.serialize()  >>>  {'__py__': '__main__.Dog.bark_instance', '__type__': 'method', '__source__': \"def bark_instance(self, n=2):\\n    print('bark '*n)\"}\u001b[0m\n"
     ]
    },
    {
     "data": {
      "text/plain": [
       "{'__py__': '__main__.Dog.bark_instance',\n",
       " '__type__': 'method',\n",
       " '__source__': \"def bark_instance(self, n=2):\\n    print('bark '*n)\"}"
      ]
     },
     "execution_count": 15,
     "metadata": {},
     "output_type": "execute_result"
    }
   ],
   "source": [
    "FunctionSerializer.serialize(Dog.bark_instance)"
   ]
  },
  {
   "cell_type": "code",
   "execution_count": null,
   "metadata": {},
   "outputs": [
    {
     "name": "stdout",
     "output_type": "stream",
     "text": [
      "\u001b[92mFunctionSerializer.serialize()  <<<  <bound method Dog.bark_classmetod of <class '__main__.Dog'>>\u001b[0m\n",
      "\u001b[92mFunctionSerializer.serialize()  >>>  {'__py__': '__main__.Dog.bark_classmetod', '__type__': 'classmethod', '__source__': \"def bark_classmetod(cls, n=5):\\n    print('bark '*n)\"}\u001b[0m\n"
     ]
    },
    {
     "data": {
      "text/plain": [
       "{'__py__': '__main__.Dog.bark_classmetod',\n",
       " '__type__': 'classmethod',\n",
       " '__source__': \"def bark_classmetod(cls, n=5):\\n    print('bark '*n)\"}"
      ]
     },
     "execution_count": 9,
     "metadata": {},
     "output_type": "execute_result"
    }
   ],
   "source": [
    "FunctionSerializer.serialize(Dog.bark_classmetod)"
   ]
  },
  {
   "cell_type": "code",
   "execution_count": null,
   "metadata": {},
   "outputs": [
    {
     "data": {
      "text/plain": [
       "True"
      ]
     },
     "execution_count": 10,
     "metadata": {},
     "output_type": "execute_result"
    }
   ],
   "source": [
    "is_method(Dog.bark_instance)"
   ]
  },
  {
   "cell_type": "code",
   "execution_count": null,
   "metadata": {},
   "outputs": [],
   "source": [
    "def f(x):\n",
    "    print(x)\n"
   ]
  },
  {
   "cell_type": "code",
   "execution_count": null,
   "metadata": {},
   "outputs": [
    {
     "data": {
      "text/plain": [
       "'f'"
      ]
     },
     "execution_count": 12,
     "metadata": {},
     "output_type": "execute_result"
    }
   ],
   "source": [
    "f.__qualname__"
   ]
  },
  {
   "cell_type": "code",
   "execution_count": null,
   "metadata": {},
   "outputs": [
    {
     "ename": "AttributeError",
     "evalue": "'Dog' object has no attribute 'bark'",
     "output_type": "error",
     "traceback": [
      "\u001b[0;31m---------------------------------------------------------------------------\u001b[0m",
      "\u001b[0;31mAttributeError\u001b[0m                            Traceback (most recent call last)",
      "Cell \u001b[0;32mIn[13], line 1\u001b[0m\n\u001b[0;32m----> 1\u001b[0m \u001b[43mdeserialize\u001b[49m\u001b[43m(\u001b[49m\u001b[43mserialize\u001b[49m\u001b[43m(\u001b[49m\u001b[43mDog\u001b[49m\u001b[43m(\u001b[49m\u001b[43m)\u001b[49m\u001b[43m)\u001b[49m\u001b[43m)\u001b[49m\u001b[38;5;241;43m.\u001b[39;49m\u001b[43mbark\u001b[49m\n",
      "\u001b[0;31mAttributeError\u001b[0m: 'Dog' object has no attribute 'bark'"
     ]
    }
   ],
   "source": [
    "deserialize(serialize(Dog())).bark"
   ]
  },
  {
   "cell_type": "code",
   "execution_count": null,
   "metadata": {},
   "outputs": [
    {
     "data": {
      "text/plain": [
       "{'__call__': <method-wrapper '__call__' of function object at 0x106c856c0>,\n",
       " '__class__': function,\n",
       " '__closure__': None,\n",
       " '__code__': <code object bark at 0x102053c00, file \"/Users/ryan/github/hashstash/notebooks/../hashstash/__init__.py\", line 15>,\n",
       " '__defaults__': (2,),\n",
       " '__delattr__': <method-wrapper '__delattr__' of function object at 0x106c856c0>,\n",
       " '__dir__': <function function.__dir__()>,\n",
       " '__doc__': None,\n",
       " '__eq__': <method-wrapper '__eq__' of function object at 0x106c856c0>,\n",
       " '__format__': <function function.__format__(format_spec, /)>,\n",
       " '__ge__': <method-wrapper '__ge__' of function object at 0x106c856c0>,\n",
       " '__get__': <method-wrapper '__get__' of function object at 0x106c856c0>,\n",
       " '__getattribute__': <method-wrapper '__getattribute__' of function object at 0x106c856c0>,\n",
       " '__gt__': <method-wrapper '__gt__' of function object at 0x106c856c0>,\n",
       " '__hash__': <method-wrapper '__hash__' of function object at 0x106c856c0>,\n",
       " '__init__': <method-wrapper '__init__' of function object at 0x106c856c0>,\n",
       " '__init_subclass__': <function function.__init_subclass__>,\n",
       " '__kwdefaults__': None,\n",
       " '__le__': <method-wrapper '__le__' of function object at 0x106c856c0>,\n",
       " '__lt__': <method-wrapper '__lt__' of function object at 0x106c856c0>,\n",
       " '__module__': 'hashstash',\n",
       " '__name__': 'bark',\n",
       " '__ne__': <method-wrapper '__ne__' of function object at 0x106c856c0>,\n",
       " '__new__': <function function.__new__(*args, **kwargs)>,\n",
       " '__qualname__': 'Dog.bark',\n",
       " '__reduce__': <function function.__reduce__()>,\n",
       " '__reduce_ex__': <function function.__reduce_ex__(protocol, /)>,\n",
       " '__repr__': <method-wrapper '__repr__' of function object at 0x106c856c0>,\n",
       " '__setattr__': <method-wrapper '__setattr__' of function object at 0x106c856c0>,\n",
       " '__sizeof__': <function function.__sizeof__()>,\n",
       " '__str__': <method-wrapper '__str__' of function object at 0x106c856c0>,\n",
       " '__subclasshook__': <function function.__subclasshook__>}"
      ]
     },
     "execution_count": 62,
     "metadata": {},
     "output_type": "execute_result"
    }
   ],
   "source": [
    "get_dict(Dog.bark)"
   ]
  },
  {
   "cell_type": "code",
   "execution_count": null,
   "metadata": {},
   "outputs": [
    {
     "data": {
      "text/plain": [
       "'hashstash.Dog.bark'"
      ]
     },
     "execution_count": 65,
     "metadata": {},
     "output_type": "execute_result"
    }
   ],
   "source": [
    "get_obj_addr(Dog.bark)"
   ]
  },
  {
   "cell_type": "code",
   "execution_count": null,
   "metadata": {},
   "outputs": [],
   "source": [
    "func=Dog().bark"
   ]
  },
  {
   "cell_type": "code",
   "execution_count": null,
   "metadata": {},
   "outputs": [
    {
     "ename": "AttributeError",
     "evalue": "'function' object has no attribute '__self__'",
     "output_type": "error",
     "traceback": [
      "\u001b[0;31m---------------------------------------------------------------------------\u001b[0m",
      "\u001b[0;31mAttributeError\u001b[0m                            Traceback (most recent call last)",
      "Cell \u001b[0;32mIn[58], line 1\u001b[0m\n\u001b[0;32m----> 1\u001b[0m \u001b[43mserialize\u001b[49m\u001b[43m(\u001b[49m\u001b[43mDog\u001b[49m\u001b[38;5;241;43m.\u001b[39;49m\u001b[43mbark\u001b[49m\u001b[43m)\u001b[49m\n",
      "Cell \u001b[0;32mIn[56], line 48\u001b[0m, in \u001b[0;36mserialize\u001b[0;34m(func)\u001b[0m\n\u001b[1;32m     47\u001b[0m \u001b[38;5;28;01mdef\u001b[39;00m \u001b[38;5;21mserialize\u001b[39m(func):\n\u001b[0;32m---> 48\u001b[0m     \u001b[38;5;28;01mreturn\u001b[39;00m \u001b[43mFunctionSerializer\u001b[49m\u001b[38;5;241;43m.\u001b[39;49m\u001b[43mserialize\u001b[49m\u001b[43m(\u001b[49m\u001b[43mfunc\u001b[49m\u001b[43m)\u001b[49m\n",
      "Cell \u001b[0;32mIn[56], line 20\u001b[0m, in \u001b[0;36mFunctionSerializer.serialize\u001b[0;34m(obj)\u001b[0m\n\u001b[1;32m     12\u001b[0m     \u001b[38;5;28;01mreturn\u001b[39;00m {\n\u001b[1;32m     13\u001b[0m         \u001b[38;5;124m'\u001b[39m\u001b[38;5;124m__py__\u001b[39m\u001b[38;5;124m'\u001b[39m: full_name,\n\u001b[1;32m     14\u001b[0m         \u001b[38;5;124m'\u001b[39m\u001b[38;5;124m__cls__\u001b[39m\u001b[38;5;124m'\u001b[39m: ClassSerializer\u001b[38;5;241m.\u001b[39mserialize(obj\u001b[38;5;241m.\u001b[39m\u001b[38;5;18m__self__\u001b[39m),\n\u001b[1;32m     15\u001b[0m     }\n\u001b[1;32m     17\u001b[0m \u001b[38;5;28;01mif\u001b[39;00m inspect\u001b[38;5;241m.\u001b[39mismethod(obj) \u001b[38;5;129;01mor\u001b[39;00m is_method(obj):\n\u001b[1;32m     18\u001b[0m     \u001b[38;5;28;01mreturn\u001b[39;00m {\n\u001b[1;32m     19\u001b[0m         \u001b[38;5;124m'\u001b[39m\u001b[38;5;124m__py__\u001b[39m\u001b[38;5;124m'\u001b[39m: full_name,\n\u001b[0;32m---> 20\u001b[0m         \u001b[38;5;124m'\u001b[39m\u001b[38;5;124m__self__\u001b[39m\u001b[38;5;124m'\u001b[39m: InstanceSerializer\u001b[38;5;241m.\u001b[39mserialize(\u001b[43mobj\u001b[49m\u001b[38;5;241;43m.\u001b[39;49m\u001b[38;5;18;43m__self__\u001b[39;49m),\n\u001b[1;32m     21\u001b[0m     }\n\u001b[1;32m     24\u001b[0m \u001b[38;5;28;01mif\u001b[39;00m can_import_object(obj) \u001b[38;5;129;01mand\u001b[39;00m obj\u001b[38;5;241m.\u001b[39m\u001b[38;5;18m__module__\u001b[39m \u001b[38;5;241m!=\u001b[39m \u001b[38;5;124m'\u001b[39m\u001b[38;5;124m__main__\u001b[39m\u001b[38;5;124m'\u001b[39m:\n\u001b[1;32m     25\u001b[0m     \u001b[38;5;28;01mreturn\u001b[39;00m {\u001b[38;5;124m'\u001b[39m\u001b[38;5;124m__py__\u001b[39m\u001b[38;5;124m'\u001b[39m: full_name}\n",
      "\u001b[0;31mAttributeError\u001b[0m: 'function' object has no attribute '__self__'"
     ]
    }
   ],
   "source": [
    "serialize(Dog.bark)"
   ]
  },
  {
   "cell_type": "code",
   "execution_count": null,
   "metadata": {},
   "outputs": [
    {
     "data": {
      "text/plain": [
       "{'__py__': 'hashstash.Dog.bark'}"
      ]
     },
     "execution_count": 52,
     "metadata": {},
     "output_type": "execute_result"
    }
   ],
   "source": [
    "serialize(Dog.bark)"
   ]
  },
  {
   "cell_type": "code",
   "execution_count": null,
   "metadata": {},
   "outputs": [
    {
     "data": {
      "text/plain": [
       "mappingproxy({'n': <Parameter \"n=2\">})"
      ]
     },
     "execution_count": 35,
     "metadata": {},
     "output_type": "execute_result"
    }
   ],
   "source": [
    "inspect.isme"
   ]
  },
  {
   "cell_type": "code",
   "execution_count": null,
   "metadata": {},
   "outputs": [
    {
     "data": {
      "text/plain": [
       "False"
      ]
     },
     "execution_count": 30,
     "metadata": {},
     "output_type": "execute_result"
    }
   ],
   "source": [
    "is_classmethod(Dog().bark)"
   ]
  },
  {
   "cell_type": "code",
   "execution_count": null,
   "metadata": {},
   "outputs": [
    {
     "data": {
      "text/plain": [
       "{'__py__': 'hashstash.Dog.bark'}"
      ]
     },
     "execution_count": 14,
     "metadata": {},
     "output_type": "execute_result"
    }
   ],
   "source": [
    "serialize(Dog().bark)"
   ]
  },
  {
   "cell_type": "code",
   "execution_count": null,
   "metadata": {},
   "outputs": [
    {
     "data": {
      "text/plain": [
       "{'__py__': 'hashstash.Dog.bark2'}"
      ]
     },
     "execution_count": 15,
     "metadata": {},
     "output_type": "execute_result"
    }
   ],
   "source": [
    "serialize(Dog.bark2)"
   ]
  },
  {
   "cell_type": "code",
   "execution_count": null,
   "metadata": {},
   "outputs": [
    {
     "name": "stdout",
     "output_type": "stream",
     "text": [
      "\u001b[92m[80.72s] wrapped function <function Dog.bark3 at 0x106c86290> -> <function Dog.bark3 at 0x106c86170>\u001b[0m\n",
      "\u001b[92mwrapped function <function Dog.bark3 at 0x106c86170> -> <function Dog.bark3 at 0x106c85ea0>\u001b[0m\n",
      "\u001b[92mwrapped function <function Dog.bark3 at 0x106c86290> -> <function Dog.bark3 at 0x106c86170>\u001b[0m\n",
      "\u001b[92mwrapped function <function Dog.bark3 at 0x106c86170> -> <function Dog.bark3 at 0x106c85ea0>\u001b[0m\n"
     ]
    },
    {
     "data": {
      "text/plain": [
       "{'__py__': 'hashstash.Dog.bark3'}"
      ]
     },
     "execution_count": 16,
     "metadata": {},
     "output_type": "execute_result"
    }
   ],
   "source": [
    "serialize(Dog.bark3)"
   ]
  },
  {
   "cell_type": "code",
   "execution_count": null,
   "metadata": {},
   "outputs": [
    {
     "name": "stdout",
     "output_type": "stream",
     "text": [
      "\u001b[92m[0.35s] wrapped function <bound method Dog.bark4 of <class 'hashstash.Dog'>> -> <function Dog.bark4 at 0x106c863b0>\u001b[0m\n",
      "\u001b[92mwrapped function <function Dog.bark4 at 0x106c863b0> -> <function Dog.bark4 at 0x106c86050>\u001b[0m\n",
      "\u001b[92mwrapped function <bound method Dog.bark4 of <class 'hashstash.Dog'>> -> <function Dog.bark4 at 0x106c863b0>\u001b[0m\n",
      "\u001b[92mwrapped function <function Dog.bark4 at 0x106c863b0> -> <function Dog.bark4 at 0x106c86050>\u001b[0m\n"
     ]
    },
    {
     "data": {
      "text/plain": [
       "{'__py__': 'hashstash.Dog.bark4'}"
      ]
     },
     "execution_count": 17,
     "metadata": {},
     "output_type": "execute_result"
    }
   ],
   "source": [
    "serialize(Dog.bark4)"
   ]
  },
  {
   "cell_type": "code",
   "execution_count": null,
   "metadata": {},
   "outputs": [
    {
     "data": {
      "text/plain": [
       "hashstash.Dog"
      ]
     },
     "execution_count": 23,
     "metadata": {},
     "output_type": "execute_result"
    }
   ],
   "source": [
    "is_classmethod(Dog.bark4)\n",
    "Dog.bark2.__self__"
   ]
  },
  {
   "cell_type": "code",
   "execution_count": null,
   "metadata": {},
   "outputs": [],
   "source": []
  }
 ],
 "metadata": {
  "kernelspec": {
   "display_name": "venv",
   "language": "python",
   "name": "python3"
  },
  "language_info": {
   "codemirror_mode": {
    "name": "ipython",
    "version": 3
   },
   "file_extension": ".py",
   "mimetype": "text/x-python",
   "name": "python",
   "nbconvert_exporter": "python",
   "pygments_lexer": "ipython3",
   "version": "3.10.7"
  }
 },
 "nbformat": 4,
 "nbformat_minor": 2
}
