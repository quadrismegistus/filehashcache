{
 "cells": [
  {
   "cell_type": "code",
   "execution_count": 1,
   "metadata": {},
   "outputs": [],
   "source": [
    "import sys; sys.path.append('..')\n",
    "from hashstash import *"
   ]
  },
  {
   "cell_type": "code",
   "execution_count": 2,
   "metadata": {},
   "outputs": [],
   "source": [
    "# def f(x):\n",
    "#     print(x,end=' -> ',flush=True)\n",
    "#     xx=x**2\n",
    "#     time.sleep(random.random())\n",
    "#     print(xx)\n",
    "#     return xx\n",
    "\n",
    "# f(10)\n",
    "# del f"
   ]
  },
  {
   "cell_type": "code",
   "execution_count": 3,
   "metadata": {},
   "outputs": [],
   "source": [
    "# serialize(f)"
   ]
  },
  {
   "cell_type": "code",
   "execution_count": 5,
   "metadata": {},
   "outputs": [
    {
     "name": "stdout",
     "output_type": "stream",
     "text": [
      "10\n"
     ]
    }
   ],
   "source": [
    "d={'__py/function': '__main__.f',\n",
    " OBJ_SRC_KEY: \"def f(x):\\n    print(x,end=' -> ',flush=True)\\n    xx=x**2\\n    time.sleep(random.random())\\n    print(xx)\\n    return xx\"}\n",
    "\n",
    "deserialize(d)(10)"
   ]
  },
  {
   "cell_type": "code",
   "execution_count": 13,
   "metadata": {},
   "outputs": [
    {
     "name": "stdout",
     "output_type": "stream",
     "text": [
      "woof woof\n"
     ]
    }
   ],
   "source": [
    "class Dog:\n",
    "    def __init__(self, name):\n",
    "        self.name = name\n",
    "        self.good = True\n",
    "\n",
    "    def bark(self):\n",
    "        print(\"woof \",end=\"\",flush=True)\n",
    "        time.sleep(random.random() / 2)\n",
    "        print(\"woof\")\n",
    "\n",
    "waldo=Dog('waldo')\n",
    "waldo.bark()"
   ]
  },
  {
   "cell_type": "code",
   "execution_count": 15,
   "metadata": {},
   "outputs": [
    {
     "data": {
      "text/plain": [
       "mappingproxy({'__module__': '__main__',\n",
       "              '__init__': <function __main__.Dog.__init__(self, name)>,\n",
       "              'bark': <function __main__.Dog.bark(self)>,\n",
       "              '__dict__': <attribute '__dict__' of 'Dog' objects>,\n",
       "              '__weakref__': <attribute '__weakref__' of 'Dog' objects>,\n",
       "              '__doc__': None})"
      ]
     },
     "execution_count": 15,
     "metadata": {},
     "output_type": "execute_result"
    }
   ],
   "source": [
    "Dog.__dict__"
   ]
  },
  {
   "cell_type": "code",
   "execution_count": null,
   "metadata": {},
   "outputs": [],
   "source": []
  },
  {
   "cell_type": "code",
   "execution_count": null,
   "metadata": {},
   "outputs": [],
   "source": []
  },
  {
   "cell_type": "code",
   "execution_count": null,
   "metadata": {},
   "outputs": [],
   "source": []
  },
  {
   "cell_type": "code",
   "execution_count": null,
   "metadata": {},
   "outputs": [],
   "source": []
  },
  {
   "cell_type": "code",
   "execution_count": 7,
   "metadata": {},
   "outputs": [],
   "source": [
    "# # !pip install -U pip wheel\n",
    "# # !pip install scikit-misc\n",
    "# # You can then use this method in your plotting function\n",
    "# def plot_speed(self, y='Speed (MB/s)'):\n",
    "#     import plotnine as p9\n",
    "#     p9.options.figure_size = 9, 6\n",
    "#     kwargs={**profile_kwargs, 'num_proc':10}\n",
    "#     figdf = self.profile_df(group_by=['Engine', 'Encoding', 'Method', 'Num Processes', 'Speed Type'], by_speed=True, **kwargs).reset_index()\n",
    "#     figdf = figdf.sort_values('Num Processes')\n",
    "#     fig = p9.ggplot(figdf, p9.aes(x='Num Processes', y=y, size='Rate (it/s)',\n",
    "#                                   color='Encoding'))\n",
    "#     # fig += p9.geom_line(alpha=.5, size=2)\n",
    "#     fig += p9.geom_point(alpha=.5)\n",
    "#     fig += p9.geom_smooth()\n",
    "#     engine_order = figdf.groupby('Engine')[y].mean().sort_values(ascending=False).index\n",
    "#     figdf['Engine'] = pd.Categorical(figdf['Engine'], categories=engine_order)\n",
    "#     # fig += p9.facet_wrap('Engine',nrow=1)\n",
    "#     fig += p9.facet_grid('Speed Type~Engine', scales='free_y')\n",
    "#     # fig += p9.scale_y_log10()\n",
    "#     fig += p9.theme_classic()\n",
    "#     return fig\n",
    "\n",
    "# # profile_df_reshaped(profiler)\n",
    "# # To use the new plot:\n",
    "# plot_speed(profiler)"
   ]
  },
  {
   "cell_type": "code",
   "execution_count": 8,
   "metadata": {},
   "outputs": [],
   "source": [
    "# # !pip install plotnine\n",
    "# def plot_by_num_proc(self, y='Speed (MB/s)'):\n",
    "#     import plotnine as p9\n",
    "#     p9.options.figure_size=9,9\n",
    "#     figdf = profile_reshaped(self)\n",
    "#     figdf = figdf.groupby('Num Processes']).mean(numeric_only=True).reset_index()\n",
    "#     return figdf\n",
    "#     fig = p9.ggplot(figdf, p9.aes(x='Num Processes', y=y, color='Encoding', shape='Speed Type', label='Method'))\n",
    "#     fig += p9.geom_line(alpha=.25, size=1)\n",
    "#     fig += p9.geom_point(alpha=.25, size=5)\n",
    "\n",
    "#     engine_order = figdf.groupby('Engine')[y].mean().sort_values(ascending=False).index\n",
    "#     figdf['Engine'] = pd.Categorical(figdf['Engine'], categories=engine_order)\n",
    "#     fig += p9.facet_wrap('Engine',nrow=1)\n",
    "#     fig += p9.scale_x_log10()\n",
    "#     fig += p9.scale_y_log10()\n",
    "#     # fig += p9.geom_text(size=12)\n",
    "#     fig += p9.theme_minimal()\n",
    "#     return fig\n",
    "\n",
    "\n",
    "\n",
    "# plot_by_num_proc(profiler)"
   ]
  },
  {
   "cell_type": "code",
   "execution_count": 9,
   "metadata": {},
   "outputs": [],
   "source": [
    "# # !pip install plotnine\n",
    "# import plotnine as p9\n",
    "# p9.options.figure_size=9,9\n",
    "# figdf = df.reset_index()\n",
    "# fig = p9.ggplot(figdf, p9.aes(x='Read Speed (MB/s)', y='Write Speed (MB/s)', color='Engine', shape='Encoding', label='Method'))\n",
    "# fig += p9.geom_point(alpha=.25, size=5)\n",
    "# # fig += p9.scale_x_log10()\n",
    "# # fig += p9.scale_y_log10()\n",
    "# # fig += p9.geom_text(size=12)\n",
    "# fig += p9.theme_minimal()\n",
    "# fig"
   ]
  },
  {
   "cell_type": "code",
   "execution_count": 10,
   "metadata": {},
   "outputs": [],
   "source": [
    "# # !pip install plotnine\n",
    "# import plotnine as p9\n",
    "# p9.options.figure_size=9,9\n",
    "# figdf = df.reset_index()\n",
    "# fig = p9.ggplot(figdf, p9.aes(x='Read Rate (it/s)', y='Write Rate (it/s)', color='Encoding', shape='Engine', label='Method'))\n",
    "# fig += p9.geom_point(alpha=.25, size=5)\n",
    "# fig += p9.scale_x_log10()\n",
    "# fig += p9.scale_y_log10()\n",
    "# # fig += p9.geom_text(size=12)\n",
    "# fig += p9.theme_minimal()\n",
    "# fig"
   ]
  }
 ],
 "metadata": {
  "kernelspec": {
   "display_name": "venv",
   "language": "python",
   "name": "python3"
  },
  "language_info": {
   "codemirror_mode": {
    "name": "ipython",
    "version": 3
   },
   "file_extension": ".py",
   "mimetype": "text/x-python",
   "name": "python",
   "nbconvert_exporter": "python",
   "pygments_lexer": "ipython3",
   "version": "3.12.1"
  }
 },
 "nbformat": 4,
 "nbformat_minor": 2
}
