{
 "cells": [
  {
   "cell_type": "code",
   "execution_count": 1,
   "metadata": {},
   "outputs": [],
   "source": [
    "import sys; sys.path.insert(0,'..')\n",
    "from hashstash.profilers.engine_profiler import *\n",
    "# logger.setLevel(logging.DEBUG)"
   ]
  },
  {
   "cell_type": "code",
   "execution_count": 10,
   "metadata": {},
   "outputs": [],
   "source": [
    "stash = HashStash(engine='memory')\n",
    "f=stash.profiler.profile\n",
    "fstash=f.stash.clear()"
   ]
  },
  {
   "cell_type": "code",
   "execution_count": 18,
   "metadata": {},
   "outputs": [
    {
     "name": "stdout",
     "output_type": "stream",
     "text": [
      "\u001b[92m[0.90s] function <bound method HashStashProfiler.profile of HashStashProfiler(MemoryHashStash(default_stash / main))> has stash MemoryHashStash(default_stash / stashed_result / hashstash.profilers.engine_profiler.HashStashProfiler.profile)\u001b[0m\n"
     ]
    },
    {
     "data": {
      "text/html": [
       "<pre>MemoryHashStash</pre><table border=\"1\" class=\"dataframe\"><thead><tr><th>Config</th><th>Param</th><th>Value</th></tr></thead><tbody><tr><td><b>Path</b></td><td>Root Dir</td><td><i>/Users/ryan/.cache/hashstash</i></td></tr><tr><td><b></b></td><td>Name</td><td><i>default_stash</i></td></tr><tr><td><b></b></td><td>Dbname</td><td><i>stashed_result/hashstash.profilers.engine_profiler.HashStashProfiler.profile</i></td></tr><tr><td><b></b></td><td>Filename</td><td><i>memory.hashstash.zlib+b64.db</i></td></tr><tr><td><b>Engine</b></td><td>Engine</td><td><i>memory</i></td></tr><tr><td><b></b></td><td>Serializer</td><td><i>hashstash</i></td></tr><tr><td><b></b></td><td>Compress</td><td><i>True</i></td></tr><tr><td><b></b></td><td>B64</td><td><i>True</i></td></tr><tr><td><b>Misc</b></td><td>Append Mode</td><td><i>True</i></td></tr><tr><td><b></b></td><td>Is Function Stash</td><td><i>True</i></td></tr><tr><td><b>Stats</b></td><td>Len</td><td><i>1</i></td></tr></tbody></table>"
      ],
      "text/plain": [
       "MemoryHashStash(default_stash / stashed_result / hashstash.profilers.engine_profiler.HashStashProfiler.profile)"
      ]
     },
     "execution_count": 18,
     "metadata": {},
     "output_type": "execute_result"
    }
   ],
   "source": [
    "f(iterations=1)\n",
    "f.stash"
   ]
  },
  {
   "cell_type": "code",
   "execution_count": 19,
   "metadata": {},
   "outputs": [],
   "source": [
    "def query_func(d):\n",
    "    return 'kwargs' in d"
   ]
  },
  {
   "cell_type": "code",
   "execution_count": null,
   "metadata": {},
   "outputs": [],
   "source": []
  },
  {
   "cell_type": "code",
   "execution_count": 15,
   "metadata": {},
   "outputs": [
    {
     "data": {
      "text/plain": [
       "[{'func': <function hashstash.profilers.engine_profiler.HashStashProfiler.profile(self, size: list = 1000, iterations: int = 1000, num_proc: int = 1, verbose: bool = False, progress: bool = True, **kwargs)>,\n",
       "  'args': (MemoryHashStash(default_stash / main),),\n",
       "  'kwargs': {'iterations': 1}}]"
      ]
     },
     "execution_count": 15,
     "metadata": {},
     "output_type": "execute_result"
    }
   ],
   "source": [
    "f.stash.keys_l()"
   ]
  },
  {
   "cell_type": "code",
   "execution_count": null,
   "metadata": {},
   "outputs": [],
   "source": [
    "s = HashStash()\n",
    "stuff(s)"
   ]
  },
  {
   "cell_type": "code",
   "execution_count": null,
   "metadata": {},
   "outputs": [],
   "source": [
    "s['x']=1\n",
    "stuff(s) == stuff(s)"
   ]
  },
  {
   "cell_type": "code",
   "execution_count": null,
   "metadata": {},
   "outputs": [],
   "source": [
    "stuff(f.__wrapped__)"
   ]
  },
  {
   "cell_type": "code",
   "execution_count": null,
   "metadata": {},
   "outputs": [],
   "source": [
    "stuff(f)"
   ]
  },
  {
   "cell_type": "code",
   "execution_count": null,
   "metadata": {},
   "outputs": [],
   "source": [
    "stuff(f.stash.keys_l()[0]['func'])"
   ]
  },
  {
   "cell_type": "code",
   "execution_count": null,
   "metadata": {},
   "outputs": [],
   "source": []
  },
  {
   "cell_type": "code",
   "execution_count": null,
   "metadata": {},
   "outputs": [],
   "source": [
    "stuff(fstash)"
   ]
  },
  {
   "cell_type": "code",
   "execution_count": null,
   "metadata": {},
   "outputs": [],
   "source": [
    "stuff({'args':(HashStash(),), 'kwargs':{'iterations':1}})"
   ]
  },
  {
   "cell_type": "code",
   "execution_count": null,
   "metadata": {},
   "outputs": [],
   "source": [
    "stash.to_dict()"
   ]
  },
  {
   "cell_type": "code",
   "execution_count": null,
   "metadata": {},
   "outputs": [],
   "source": [
    "key = fstash.keys_l()[0]\n",
    "key"
   ]
  },
  {
   "cell_type": "code",
   "execution_count": null,
   "metadata": {},
   "outputs": [],
   "source": [
    "key in fstash"
   ]
  },
  {
   "cell_type": "code",
   "execution_count": null,
   "metadata": {},
   "outputs": [],
   "source": [
    "key2b in fstash._keys()"
   ]
  },
  {
   "cell_type": "code",
   "execution_count": null,
   "metadata": {},
   "outputs": [],
   "source": [
    "key2 in fstash"
   ]
  },
  {
   "cell_type": "code",
   "execution_count": null,
   "metadata": {},
   "outputs": [],
   "source": [
    "fstash.has(key)"
   ]
  },
  {
   "cell_type": "code",
   "execution_count": null,
   "metadata": {},
   "outputs": [],
   "source": [
    "fstash._has(fstash.encode_key(key))"
   ]
  },
  {
   "cell_type": "code",
   "execution_count": null,
   "metadata": {},
   "outputs": [],
   "source": [
    "# fstash.clear()\n",
    "# f(HashStashProfiler(stash), iterations=1,_force=True)"
   ]
  },
  {
   "cell_type": "code",
   "execution_count": null,
   "metadata": {},
   "outputs": [],
   "source": [
    "stash.profiler.profile(iterations=1)"
   ]
  },
  {
   "cell_type": "code",
   "execution_count": null,
   "metadata": {},
   "outputs": [],
   "source": [
    "f(HashStashProfiler(stash), iterations=1)"
   ]
  },
  {
   "cell_type": "code",
   "execution_count": null,
   "metadata": {},
   "outputs": [],
   "source": [
    "key1b = list(fstash._keys())[0]\n",
    "key1b"
   ]
  },
  {
   "cell_type": "code",
   "execution_count": null,
   "metadata": {},
   "outputs": [],
   "source": [
    "key1b in list(fstash._keys())"
   ]
  },
  {
   "cell_type": "code",
   "execution_count": null,
   "metadata": {},
   "outputs": [],
   "source": [
    "fstash.encode_key(key1) == encode(serialize(key1))"
   ]
  },
  {
   "cell_type": "code",
   "execution_count": null,
   "metadata": {},
   "outputs": [],
   "source": []
  },
  {
   "cell_type": "code",
   "execution_count": null,
   "metadata": {},
   "outputs": [],
   "source": [
    "HashStashProfiler.profile.stash.get_all(10)"
   ]
  },
  {
   "cell_type": "code",
   "execution_count": null,
   "metadata": {},
   "outputs": [],
   "source": [
    "key = {'args': (stash,), 'kwargs': {'iterations': 100}}"
   ]
  },
  {
   "cell_type": "code",
   "execution_count": null,
   "metadata": {},
   "outputs": [],
   "source": [
    "key in HashStashProfiler.profile.stash.keys_l()"
   ]
  },
  {
   "cell_type": "code",
   "execution_count": null,
   "metadata": {},
   "outputs": [],
   "source": []
  },
  {
   "cell_type": "code",
   "execution_count": null,
   "metadata": {},
   "outputs": [],
   "source": [
    "HashStashProfiler.profile.stash.get_all(key)"
   ]
  },
  {
   "cell_type": "code",
   "execution_count": null,
   "metadata": {},
   "outputs": [],
   "source": [
    "stash.profiler.profile_one(data=df)"
   ]
  },
  {
   "cell_type": "code",
   "execution_count": null,
   "metadata": {},
   "outputs": [],
   "source": [
    "c=HashStash()\n",
    "func = c.profiler.profile\n",
    "stash = func.stash\n",
    "df = stash.df\n",
    "df = df.reset_index().replace({'':np.nan})\n",
    "\n",
    "# df['Num Proc'] = df['Num Proc'].apply(lambda x: f'{int(x):02}x')\n",
    "df['Size (KB)'] = df['Raw Size (MB)'].apply(lambda x: int(x*1024))\n",
    "df['Size (B)'] = df['Raw Size (MB)'].apply(lambda x: int(x*1024*1024))\n",
    "\n",
    "import math\n",
    "\n",
    "def group_by_magnitude(size_bytes):\n",
    "    if size_bytes == 0:\n",
    "        return '0 B'\n",
    "    \n",
    "    magnitude = int(math.log10(size_bytes))\n",
    "    unit_index = magnitude // 3\n",
    "    units = ['B', 'KB', 'MB', 'GB', 'TB', 'PB']\n",
    "    \n",
    "    if unit_index >= len(units):\n",
    "        return f'{size_bytes} B'  # Fallback for extremely large sizes\n",
    "    \n",
    "    unit = units[unit_index]\n",
    "    # return unit\n",
    "    scaled_size = size_bytes / (1024 ** unit_index)\n",
    "    \n",
    "    if magnitude % 3 == 0:\n",
    "        return f'1 {unit}'\n",
    "    elif magnitude % 3 == 1:\n",
    "        return f'10 {unit}'\n",
    "    else:\n",
    "        return f'100 {unit}'\n",
    "\n",
    "# Apply the function to create the new column\n",
    "# df['Size Name'] = df['Size (B)'].apply(lambda x: 10**(round(math.log10(x))//1*1))\n",
    "df['Size Name'] = df['Size (B)'].apply(lambda x: group_by_magnitude(x))\n",
    "# df['Size Name'] = df['Size (B)'].apply(lambda x: x//1000*1000)\n",
    "# df['Size Name'] = df['Size (B)'].apply(lambda x: \"B\" if x<1000 else \"KB\" if x<1000000 else \"MB\")\n",
    "df['Size Name'].value_counts()\n",
    "df=df[df['Size Name'].isin({'1 KB'})]"
   ]
  },
  {
   "cell_type": "code",
   "execution_count": null,
   "metadata": {},
   "outputs": [],
   "source": [
    "@stashed_result\n",
    "def get_speed_stats(group_by:list=None, operations:list=None, carry_over_cols:list=('Speed (MB/s)', 'Time (s)'), also_cols=('Raw Size (MB)',)):\n",
    "    global df\n",
    "    # df = df.reset_index().replace({'':np.nan})\n",
    "    if operations:\n",
    "        df = df[df['Operation'].isin(operations)]\n",
    "    \n",
    "    # Group by Engine and Operation, calculate median for numeric columns\n",
    "    gby = ([] if not group_by else list(group_by)) + ['Operation']\n",
    "    grouped = df.groupby(gby).median(numeric_only=True)\n",
    "    \n",
    "    # Reset index to make Operation a column\n",
    "    grouped = grouped.reset_index()\n",
    "    \n",
    "    # Pivot the table to get speeds and carried over columns as separate columns\n",
    "    pivot_values = list(carry_over_cols)\n",
    "    pivoted = grouped.pivot(index=list(group_by)+list(also_cols), columns='Operation', values=pivot_values)\n",
    "    \n",
    "    # Flatten column names\n",
    "    # pivoted.columns = [f'{col[1]} {col[0]}' if col[0] in carry_over_cols else f'{col[1]} (MB/s)' for col in pivoted.columns]\n",
    "    pivoted.columns = [f'{col[1]} {col[0].split()[-1]}' for col in pivoted.columns]\n",
    "    \n",
    "    # Sort by Total speed descending\n",
    "    odf = pivoted.reset_index()#.sort_values('Total (MB/s)', ascending=False)\n",
    "    for c in odf:\n",
    "        if c.endswith('(s)'):\n",
    "            odf[f'{c.replace(\"(s)\",\"(it/s)\")}'] = 1/odf[c]\n",
    "    odf['GetSet (s)'] = odf['Get (s)'] + odf['Set (s)']\n",
    "    odf['GetSet (it/s)'] = 1/odf['GetSet (s)']\n",
    "    return odf\n",
    "get_speed_stats.stash.clear()"
   ]
  },
  {
   "cell_type": "code",
   "execution_count": null,
   "metadata": {},
   "outputs": [],
   "source": [
    "\n",
    "# Call the function and display results\n",
    "get_speed_stats(group_by=['Engine','Size Name'])"
   ]
  },
  {
   "cell_type": "code",
   "execution_count": null,
   "metadata": {},
   "outputs": [],
   "source": [
    "def plot_speed_comparison(df, group_by=['Engine'], x_col='Write', y_col='Read', color=None, log=False, facet=None):\n",
    "    import plotnine as p9\n",
    "    p9.options.figure_size = (8, 6)\n",
    "    # Prepare the data\n",
    "    if color and not color in group_by: group_by.append(color)\n",
    "    if facet and not facet in group_by: group_by.append(facet)\n",
    "    speed_df = get_speed_stats(group_by=group_by)\n",
    "    speed_df = speed_df.reset_index()\n",
    "    \n",
    "    # Extract the specific operations we want to compare\n",
    "    # cols = [*group_by]\n",
    "    # if not x_col in cols: cols.append(x_col)\n",
    "    # if not y_col in cols: cols.append(y_col)\n",
    "    plot_df = speed_df #[cols]\n",
    "    \n",
    "    # Create a label column that combines all group_by columns\n",
    "    plot_df['Label'] = plot_df[group_by].apply(lambda row: ' '.join(row.values[:1].astype(str)), axis=1)\n",
    "    \n",
    "    # Create the plot\n",
    "    aes_params = {'x': x_col, 'y': y_col, 'label': 'Label'}\n",
    "    if color:\n",
    "        aes_params['color'] = color\n",
    "    \n",
    "    plot = (\n",
    "        ggplot(plot_df, aes(**aes_params))\n",
    "        # + geom_point(size=3)\n",
    "        + geom_text(aes(label='Label'), size=8)\n",
    "        + theme_classic()\n",
    "        + labs(title=f'{y_col} vs {x_col} Speed Comparison')\n",
    "            #    x=f'{x_operation} Speed (MB/s)',\n",
    "            #    y=f'{y_operation} Speed (MB/s)')\n",
    "    )\n",
    "\n",
    "    if log:\n",
    "        plot += scale_x_log10()\n",
    "        plot += scale_y_log10()\n",
    "        # plot += labs(x=f'{x_operation} Speed (MB/s) - Log Scale',\n",
    "                    #  y=f'{y_operation} Speed (MB/s) - Log Scale')\n",
    "\n",
    "    if facet:\n",
    "        plot += facet_wrap(facet,ncol=2, scales='free')\n",
    "\n",
    "    return plot"
   ]
  },
  {
   "cell_type": "code",
   "execution_count": null,
   "metadata": {},
   "outputs": [],
   "source": [
    "comparison_plot = plot_speed_comparison(df, group_by=['Engine'], x_col='Read (it/s)', y_col='Write (it/s)', log=True)\n",
    "comparison_plot"
   ]
  },
  {
   "cell_type": "code",
   "execution_count": null,
   "metadata": {},
   "outputs": [],
   "source": [
    "comparison_plot = plot_speed_comparison(df, group_by=['Engine'], x_col='Get (it/s)', y_col='Set (it/s)', log=True)\n",
    "comparison_plot"
   ]
  },
  {
   "cell_type": "code",
   "execution_count": null,
   "metadata": {},
   "outputs": [],
   "source": [
    "comparison_plot = plot_speed_comparison(df, group_by=['Engine'], x_col='Get (it/s)', y_col='Set (it/s)', log=True, color='Data Type')\n",
    "comparison_plot\n"
   ]
  },
  {
   "cell_type": "code",
   "execution_count": null,
   "metadata": {},
   "outputs": [],
   "source": [
    "comparison_plot = plot_speed_comparison(df, group_by=['Data Type','Serializer'], x_col='Serialize (it/s)', y_col='Deserialize (it/s)',log=True, color='Serializer')\n",
    "comparison_plot"
   ]
  },
  {
   "cell_type": "code",
   "execution_count": null,
   "metadata": {},
   "outputs": [],
   "source": [
    "import plotnine as p9\n",
    "comparison_plot = plot_speed_comparison(df, group_by=['Engine','Num Proc'], x_col='Num Proc', y_col='GetSet (it/s)', log=False, color='Engine') + p9.geom_line()\n",
    "comparison_plot\n"
   ]
  },
  {
   "cell_type": "code",
   "execution_count": null,
   "metadata": {},
   "outputs": [],
   "source": [
    "# import plotnine as p9\n",
    "# comparison_plot = plot_speed_comparison(df, group_by=['Engine','Num Proc'], x_col='Num Proc', y_col='Total (MB/s)', log=False, color='Engine') + p9.geom_line()\n",
    "# comparison_plot\n"
   ]
  },
  {
   "cell_type": "code",
   "execution_count": null,
   "metadata": {},
   "outputs": [],
   "source": [
    "import plotnine as p9\n",
    "comparison_plot = plot_speed_comparison(df, group_by=['Engine','Num Proc'], x_col='Num Proc', y_col='Write (it/s)', log=True, color='Engine') + p9.geom_line() + p9.scale_x_continuous()\n",
    "comparison_plot\n"
   ]
  },
  {
   "cell_type": "code",
   "execution_count": null,
   "metadata": {},
   "outputs": [],
   "source": [
    "# import plotnine as p9\n",
    "# comparison_plot = plot_speed_comparison(df[df.Serializer=='hashstash'], group_by=['Engine','Num Proc'], x_col='Num Proc', y_col='Set (MB/s)', log=True, color='Engine',facet='Size Name') + p9.geom_line()\n",
    "# comparison_plot\n"
   ]
  },
  {
   "cell_type": "code",
   "execution_count": null,
   "metadata": {},
   "outputs": [],
   "source": []
  },
  {
   "cell_type": "code",
   "execution_count": null,
   "metadata": {},
   "outputs": [],
   "source": []
  },
  {
   "cell_type": "code",
   "execution_count": null,
   "metadata": {},
   "outputs": [],
   "source": []
  }
 ],
 "metadata": {
  "kernelspec": {
   "display_name": "venv",
   "language": "python",
   "name": "python3"
  },
  "language_info": {
   "codemirror_mode": {
    "name": "ipython",
    "version": 3
   },
   "file_extension": ".py",
   "mimetype": "text/x-python",
   "name": "python",
   "nbconvert_exporter": "python",
   "pygments_lexer": "ipython3",
   "version": "3.10.7"
  }
 },
 "nbformat": 4,
 "nbformat_minor": 2
}
