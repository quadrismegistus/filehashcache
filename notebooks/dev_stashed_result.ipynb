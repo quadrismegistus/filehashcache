{
 "cells": [
  {
   "cell_type": "code",
   "execution_count": 1,
   "metadata": {},
   "outputs": [
    {
     "data": {
      "text/plain": [
       "(MemoryHashStash(default_stash / main),\n",
       " HashStashProfiler(MemoryHashStash(default_stash / main)),\n",
       " <bound method HashStashProfiler.profile of HashStashProfiler(MemoryHashStash(default_stash / main))>)"
      ]
     },
     "execution_count": 1,
     "metadata": {},
     "output_type": "execute_result"
    }
   ],
   "source": [
    "import sys; sys.path.insert(0,'..')\n",
    "from hashstash.profilers.engine_profiler import *\n",
    "logger.setLevel(logging.INFO)\n",
    "stash = HashStash(engine='memory')\n",
    "obj = stash.profiler\n",
    "func = obj.profile\n",
    "stash, obj, func"
   ]
  },
  {
   "cell_type": "code",
   "execution_count": 2,
   "metadata": {},
   "outputs": [
    {
     "name": "stdout",
     "output_type": "stream",
     "text": [
      "\u001b[92mfunction <bound method HashStashProfiler.profile of HashStashProfiler(PairtreeHashStash(default_stash / main))> has stash MemoryHashStash(default_stash / stashed_result / hashstash.profilers.engine_profiler.HashStashProfiler.profile)\u001b[0m\n",
      "HashStashProfiler(PairtreeHashStash(default_stash / main)) profile\n"
     ]
    },
    {
     "name": "stderr",
     "output_type": "stream",
     "text": [
      "\u001b[32m[0.22s] Profiling PairtreeHashStash(default_stash / tmp / 7f97a2b8c6) [1x]\u001b[32m: 100%|██████████| 1/1 [00:00<00:00, 364.53it/s]"
     ]
    },
    {
     "name": "stdout",
     "output_type": "stream",
     "text": [
      "\u001b[92mkey: {'func': <function HashStashProfiler.profile at 0x103c97b50>, 'args': (HashStashProfiler(PairtreeHashStash(default_stash / main)),), 'kwargs': {'iterations': 1}}\u001b[0m\n",
      "\u001b[92mkey: {'func': <function HashStashProfiler.profile at 0x103c97e20>, 'args': (HashStashProfiler(PairtreeHashStash(default_stash / main)),), 'kwargs': {'iterations': 1}}\u001b[0m\n",
      "\u001b[92mkey: {'func': <function HashStashProfiler.profile at 0x103c97e20>, 'args': (HashStashProfiler(PairtreeHashStash(default_stash / main)),), 'kwargs': {'iterations': 1}}\u001b[0m\n",
      "\u001b[92mTrue\u001b[0m\n",
      "\u001b[92m[   Iteration  Num Proc    Engine Serializer  Encoding Data Type  Size (MB)  \\\n",
      "0          0         1  pairtree  hashstash  zlib+b64      list   0.000954   \n",
      "1          0         1  pairtree  hashstash  zlib+b64      list   0.000954   \n",
      "2          0         1  pairtree  hashstash  zlib+b64      list   0.000954   \n",
      "3          0         1  pairtree  hashstash  zlib+b64      list   0.000954   \n",
      "4          0         1  pairtree  hashstash  zlib+b64      list   0.000954   \n",
      "5          0         1  pairtree  hashstash  zlib+b64      list   0.000954   \n",
      "6          0         1  pairtree  hashstash  zlib+b64      list   0.000954   \n",
      "\n",
      "   Raw Size (MB)  Cached Size (MB)  Compression Ratio (%)    Operation  \\\n",
      "0       0.000731          0.000751              102.73794    Serialize   \n",
      "1       0.000731          0.000751              102.73794  Deserialize   \n",
      "2       0.000731          0.000751              102.73794       Encode   \n",
      "3       0.000731          0.000751              102.73794       Decode   \n",
      "4       0.000731          0.000751              102.73794          Set   \n",
      "5       0.000731          0.000751              102.73794          Get   \n",
      "6       0.000731          0.000751              102.73794        Total   \n",
      "\n",
      "   Time (s)   Rate (it/s)  Speed (MB/s)  \n",
      "0  0.000084  11915.636364      8.715909  \n",
      "1  0.000055  18315.737991     13.397380  \n",
      "2  0.000035  28532.680272     20.870748  \n",
      "3  0.000055  18157.160173     13.281385  \n",
      "4  0.001069    935.393399      0.684211  \n",
      "5  0.000059  16912.516129     12.370968  \n",
      "6  0.000626   1597.221630      1.168317  ]\u001b[0m\n"
     ]
    },
    {
     "name": "stderr",
     "output_type": "stream",
     "text": [
      "\n"
     ]
    }
   ],
   "source": [
    "funcs = [Dog().bark_instance, Dog.bark_instance, Dog.bark_classmethod]\n",
    "funcs = [Dog.bark_classmethod]\n",
    "funcs = [Dog().bark_instance]\n",
    "funcs = [HashStash().profiler.profile]\n",
    "for func in funcs:\n",
    "    func.stash.clear()    \n",
    "    key = stash.run(func, iterations=1)\n",
    "    assert key in func.stash\n",
    "    log.info(f'key: {key}')\n",
    "    assert func.stash._has(encode(serialize(key)))\n",
    "    key2 = func.stash.keys_l()[0]\n",
    "    log.info(f'key: {key2}')\n",
    "    assert func.stash.items_l()\n",
    "    \n",
    "    # func.stash.clear()\n",
    "    # break"
   ]
  },
  {
   "cell_type": "code",
   "execution_count": 3,
   "metadata": {},
   "outputs": [],
   "source": [
    "key = {\n",
    "    'func': func,\n",
    "    'args': (obj,),\n",
    "    'kwargs': {'iterations': 1}\n",
    "}"
   ]
  },
  {
   "cell_type": "code",
   "execution_count": 4,
   "metadata": {},
   "outputs": [],
   "source": [
    "# key == unstuff(stuff(key))\n",
    "s=stuff(key)"
   ]
  },
  {
   "cell_type": "code",
   "execution_count": 5,
   "metadata": {},
   "outputs": [
    {
     "data": {
      "text/plain": [
       "{'func': {'__py__': 'hashstash.profilers.engine_profiler.HashStashProfiler.profile',\n",
       "  '__pytype__': 'instancemethod',\n",
       "  '__self__': {'__py__': 'hashstash.profilers.engine_profiler.HashStashProfiler',\n",
       "   '__pytype__': 'instance',\n",
       "   '__cls__': {'__py__': 'hashstash.profilers.engine_profiler.HashStashProfiler',\n",
       "    '__pytype__': 'class'},\n",
       "   '__state__': {'stash': {'__py__': 'hashstash.engines.pairtree.PairtreeHashStash',\n",
       "     '__data__': {'root_dir': '/Users/ryan/.cache/hashstash',\n",
       "      'name': 'default_stash',\n",
       "      'dbname': 'main',\n",
       "      'engine': 'pairtree',\n",
       "      'serializer': 'hashstash',\n",
       "      'compress': True,\n",
       "      'b64': True,\n",
       "      'append_mode': True,\n",
       "      'is_function_stash': False,\n",
       "      'is_tmp': False,\n",
       "      'filename': 'pairtree.hashstash.zlib+b64.db'}}}}},\n",
       " 'args': {'__py__': 'builtins.tuple',\n",
       "  '__data__': [{'__py__': 'hashstash.profilers.engine_profiler.HashStashProfiler',\n",
       "    '__data__': {'stash': {'root_dir': '/Users/ryan/.cache/hashstash',\n",
       "      'name': 'default_stash',\n",
       "      'dbname': 'main',\n",
       "      'engine': 'memory',\n",
       "      'serializer': 'hashstash',\n",
       "      'compress': True,\n",
       "      'b64': True,\n",
       "      'append_mode': True,\n",
       "      'is_function_stash': False,\n",
       "      'is_tmp': False,\n",
       "      'filename': 'memory.hashstash.zlib+b64.db'}}}]},\n",
       " 'kwargs': {'iterations': 1}}"
      ]
     },
     "execution_count": 5,
     "metadata": {},
     "output_type": "execute_result"
    }
   ],
   "source": [
    "stuff(key)"
   ]
  },
  {
   "cell_type": "code",
   "execution_count": 6,
   "metadata": {},
   "outputs": [
    {
     "data": {
      "text/plain": [
       "(<bound method HashStashProfiler.profile of HashStashProfiler(PairtreeHashStash(default_stash / main))>,\n",
       " <bound method HashStashProfiler.profile of HashStashProfiler(PairtreeHashStash(default_stash / main))>)"
      ]
     },
     "execution_count": 6,
     "metadata": {},
     "output_type": "execute_result"
    }
   ],
   "source": [
    "unstuff(stuff(key)['func']), func"
   ]
  },
  {
   "cell_type": "code",
   "execution_count": 7,
   "metadata": {},
   "outputs": [
    {
     "data": {
      "text/plain": [
       "(True,\n",
       " HashStashProfiler(MemoryHashStash(default_stash / main)),\n",
       " HashStashProfiler(MemoryHashStash(default_stash / main)))"
      ]
     },
     "execution_count": 7,
     "metadata": {},
     "output_type": "execute_result"
    }
   ],
   "source": [
    "unstuff(stuff(obj)) == obj, unstuff(stuff(obj)), obj"
   ]
  },
  {
   "cell_type": "code",
   "execution_count": 8,
   "metadata": {},
   "outputs": [
    {
     "ename": "TypeError",
     "evalue": "unstuff() missing 1 required positional argument: 'obj'",
     "output_type": "error",
     "traceback": [
      "\u001b[0;31m---------------------------------------------------------------------------\u001b[0m",
      "\u001b[0;31mTypeError\u001b[0m                                 Traceback (most recent call last)",
      "Cell \u001b[0;32mIn[8], line 1\u001b[0m\n\u001b[0;32m----> 1\u001b[0m \u001b[43munstuff\u001b[49m\u001b[43m(\u001b[49m\u001b[43m)\u001b[49m\n",
      "\u001b[0;31mTypeError\u001b[0m: unstuff() missing 1 required positional argument: 'obj'"
     ]
    }
   ],
   "source": [
    "unstuff()"
   ]
  },
  {
   "cell_type": "code",
   "execution_count": null,
   "metadata": {},
   "outputs": [
    {
     "data": {
      "text/plain": [
       "{'func': <bound method HashStashProfiler.profile of HashStashProfiler(MemoryHashStash(default_stash / main))>,\n",
       " 'args': (MemoryHashStash(default_stash / main),),\n",
       " 'kwargs': {'iterations': 1}}"
      ]
     },
     "execution_count": 23,
     "metadata": {},
     "output_type": "execute_result"
    }
   ],
   "source": [
    "unstuff(stuff(key))"
   ]
  },
  {
   "cell_type": "code",
   "execution_count": null,
   "metadata": {},
   "outputs": [
    {
     "data": {
      "text/plain": [
       "{'func': <bound method HashStashProfiler.profile of HashStashProfiler(MemoryHashStash(default_stash / main))>,\n",
       " 'args': (HashStashProfiler(MemoryHashStash(default_stash / main)),),\n",
       " 'kwargs': {'iterations': 1}}"
      ]
     },
     "execution_count": 7,
     "metadata": {},
     "output_type": "execute_result"
    }
   ],
   "source": [
    "key"
   ]
  },
  {
   "cell_type": "code",
   "execution_count": null,
   "metadata": {},
   "outputs": [
    {
     "name": "stdout",
     "output_type": "stream",
     "text": [
      "\u001b[94mcustom._serialize_custom()  <<<  {'func': <bound method HashStashProfiler.profile of HashStashProfiler(MemoryHashStash(default_stash / main))>, 'args': (HashStashProfiler(MemoryHashStash(default_stash / main)),), 'kwargs': {'iterations': 1}}\u001b[0m\n",
      "\u001b[94m | custom._serialize_custom()  <<<  <bound method HashStashProfiler.profile of HashStashProfiler(MemoryHashStash(default_stash / main))>\u001b[0m\n",
      "\u001b[94m |  | custom._serialize_custom()  <<<  {'stash': MemoryHashStash(default_stash / main)}\u001b[0m\n",
      "\u001b[94m |  |  | custom._serialize_custom()  <<<  MemoryHashStash(default_stash / main)\u001b[0m\n",
      "\u001b[94m |  |  |  | BaseHashStash.to_dict()\u001b[0m\n",
      "\u001b[94m |  |  |  | BaseHashStash.to_dict()  >>>  {'root_dir': '/Users/ryan/.cache/hashstash', 'name': 'default_stash', 'dbname': 'main', 'engine': 'memory', 'serializer': 'hashstash', 'compress': True, 'b64': True, 'append_mode': True, 'is_function_stash': False, 'is_tmp': False, 'filename': 'memory.hashstash.zlib+b64.db'}\u001b[0m\n",
      "\u001b[94m |  |  |  | custom._serialize_custom()  <<<  {'root_dir': '/Users/ryan/.cache/hashstash', 'name': 'default_stash', 'dbname': 'main', 'engine': 'memory', 'serializer': 'hashstash', 'compress': True, 'b64': True, 'append_mode': True, 'is_function_stash': False, 'is_tmp': False, 'filename': 'memory.hashstash.zlib+b64.db'}\u001b[0m\n",
      "\u001b[94m |  |  |  |  | custom._serialize_custom()  <<<  '/Users/ryan/.cache/hashstash'\u001b[0m\n",
      "\u001b[94m |  |  |  |  | custom._serialize_custom()  >>>  '/Users/ryan/.cache/hashstash'\u001b[0m\n",
      "\u001b[94m |  |  |  |  | custom._serialize_custom()  <<<  'default_stash'\u001b[0m\n",
      "\u001b[94m |  |  |  |  | custom._serialize_custom()  >>>  'default_stash'\u001b[0m\n",
      "\u001b[94m |  |  |  |  | custom._serialize_custom()  <<<  'main'\u001b[0m\n",
      "\u001b[94m |  |  |  |  | custom._serialize_custom()  >>>  'main'\u001b[0m\n",
      "\u001b[94m |  |  |  |  | custom._serialize_custom()  <<<  'memory'\u001b[0m\n",
      "\u001b[94m |  |  |  |  | custom._serialize_custom()  >>>  'memory'\u001b[0m\n",
      "\u001b[94m |  |  |  |  | custom._serialize_custom()  <<<  'hashstash'\u001b[0m\n",
      "\u001b[94m |  |  |  |  | custom._serialize_custom()  >>>  'hashstash'\u001b[0m\n",
      "\u001b[94m |  |  |  |  | custom._serialize_custom()  <<<  True\u001b[0m\n",
      "\u001b[94m |  |  |  |  | custom._serialize_custom()  >>>  True\u001b[0m\n",
      "\u001b[94m |  |  |  |  | custom._serialize_custom()  <<<  True\u001b[0m\n",
      "\u001b[94m |  |  |  |  | custom._serialize_custom()  >>>  True\u001b[0m\n",
      "\u001b[94m |  |  |  |  | custom._serialize_custom()  <<<  True\u001b[0m\n",
      "\u001b[94m |  |  |  |  | custom._serialize_custom()  >>>  True\u001b[0m\n",
      "\u001b[94m |  |  |  |  | custom._serialize_custom()  <<<  False\u001b[0m\n",
      "\u001b[94m |  |  |  |  | custom._serialize_custom()  >>>  False\u001b[0m\n",
      "\u001b[94m |  |  |  |  | custom._serialize_custom()  <<<  False\u001b[0m\n",
      "\u001b[94m |  |  |  |  | custom._serialize_custom()  >>>  False\u001b[0m\n",
      "\u001b[94m |  |  |  |  | custom._serialize_custom()  <<<  'memory.hashstash.zlib+b64.db'\u001b[0m\n",
      "\u001b[94m |  |  |  |  | custom._serialize_custom()  >>>  'memory.hashstash.zlib+b64.db'\u001b[0m\n",
      "\u001b[94m |  |  |  | custom._serialize_custom()  >>>  {'root_dir': '/Users/ryan/.cache/hashstash', 'name': 'default_stash', 'dbname': 'main', 'engine': 'memory', 'serializer': 'hashstash', 'compress': True, 'b64': True, 'append_mode': True, 'is_function_stash': False, 'is_tmp': False, 'filename': 'memory.hashstash.zlib+b64.db'}\u001b[0m\n",
      "\u001b[94m |  |  | custom._serialize_custom()  >>>  {'__py__': 'hashstash.engines.memory.MemoryHashStash', '__data__': {'root_dir': '/Users/ryan/.cache/hashstash', 'name': 'default_stash', 'dbname': 'main', 'engine': 'memory', 'serializer': 'hashstash', 'compress': True, 'b64': True, 'append_mode': True, 'is_function_stash': False, 'is_tmp': False, 'filename': 'memory.hashstash.zlib+b64.db'}}\u001b[0m\n",
      "\u001b[94m |  | custom._serialize_custom()  >>>  {'stash': {'__py__': 'hashstash.engines.memory.MemoryHashStash', '__data__': {'root_dir': '/Users/ryan/.cache/hashstash', 'name': 'default_stash', 'dbname': 'main', 'engine': 'memory', 'serializer': 'hashstash', 'compress': True, 'b64': True, 'append_mode': True, 'is_function_stash': False, 'is_tmp': False, 'filename': 'memory.hashstash.zlib+b64.db'}}}\u001b[0m\n",
      "\u001b[94m | custom._serialize_custom()  >>>  {'__py__': 'hashstash.profilers.engine_profiler.HashStashProfiler.profile', '__pytype__': 'instancemethod', '__self__': {'__py__': 'hashstash.profilers.engine_profiler.HashStashProfiler', '__pytype__': 'instance', '__cls__': {'__py__': 'hashstash.profilers.engine_profiler.HashStashProfiler', '__pytype__': 'class'}, '__state__': {'stash': {'__py__': 'hashstash.engines.memory.MemoryHashStash', '__data__': {'root_dir': '/Users/ryan/.cache/hashstash', 'name': 'default_stash', 'dbname': 'main', 'engine': 'memory', 'serializer': 'hashstash', 'compress': True, 'b64': True, 'append_mode': True, 'is_function_stash': False, 'is_tmp': False, 'filename': 'memory.hashstash.zlib+b64.db'}}}}}\u001b[0m\n",
      "\u001b[94m | custom._serialize_custom()  <<<  (HashStashProfiler(MemoryHashStash(default_stash / main)),)\u001b[0m\n",
      "\u001b[94m |  | custom._serialize_custom()  <<<  HashStashProfiler(MemoryHashStash(default_stash / main))\u001b[0m\n",
      "\u001b[94m |  |  | BaseHashStash.to_dict()\u001b[0m\n",
      "\u001b[94m |  |  | BaseHashStash.to_dict()  >>>  {'root_dir': '/Users/ryan/.cache/hashstash', 'name': 'default_stash', 'dbname': 'main', 'engine': 'memory', 'serializer': 'hashstash', 'compress': True, 'b64': True, 'append_mode': True, 'is_function_stash': False, 'is_tmp': False, 'filename': 'memory.hashstash.zlib+b64.db'}\u001b[0m\n",
      "\u001b[94m |  |  | custom._serialize_custom()  <<<  {'stash': {'root_dir': '/Users/ryan/.cache/hashstash', 'name': 'default_stash', 'dbname': 'main', 'engine': 'memory', 'serializer': 'hashstash', 'compress': True, 'b64': True, 'append_mode': True, 'is_function_stash': False, 'is_tmp': False, 'filename': 'memory.hashstash.zlib+b64.db'}}\u001b[0m\n",
      "\u001b[94m |  |  |  | custom._serialize_custom()  <<<  {'root_dir': '/Users/ryan/.cache/hashstash', 'name': 'default_stash', 'dbname': 'main', 'engine': 'memory', 'serializer': 'hashstash', 'compress': True, 'b64': True, 'append_mode': True, 'is_function_stash': False, 'is_tmp': False, 'filename': 'memory.hashstash.zlib+b64.db'}\u001b[0m\n",
      "\u001b[94m |  |  |  |  | custom._serialize_custom()  <<<  '/Users/ryan/.cache/hashstash'\u001b[0m\n",
      "\u001b[94m |  |  |  |  | custom._serialize_custom()  >>>  '/Users/ryan/.cache/hashstash'\u001b[0m\n",
      "\u001b[94m |  |  |  |  | custom._serialize_custom()  <<<  'default_stash'\u001b[0m\n",
      "\u001b[94m |  |  |  |  | custom._serialize_custom()  >>>  'default_stash'\u001b[0m\n",
      "\u001b[94m |  |  |  |  | custom._serialize_custom()  <<<  'main'\u001b[0m\n",
      "\u001b[94m |  |  |  |  | custom._serialize_custom()  >>>  'main'\u001b[0m\n",
      "\u001b[94m |  |  |  |  | custom._serialize_custom()  <<<  'memory'\u001b[0m\n",
      "\u001b[94m |  |  |  |  | custom._serialize_custom()  >>>  'memory'\u001b[0m\n",
      "\u001b[94m |  |  |  |  | custom._serialize_custom()  <<<  'hashstash'\u001b[0m\n",
      "\u001b[94m |  |  |  |  | custom._serialize_custom()  >>>  'hashstash'\u001b[0m\n",
      "\u001b[94m |  |  |  |  | custom._serialize_custom()  <<<  True\u001b[0m\n",
      "\u001b[94m |  |  |  |  | custom._serialize_custom()  >>>  True\u001b[0m\n",
      "\u001b[94m |  |  |  |  | custom._serialize_custom()  <<<  True\u001b[0m\n",
      "\u001b[94m |  |  |  |  | custom._serialize_custom()  >>>  True\u001b[0m\n",
      "\u001b[94m |  |  |  |  | custom._serialize_custom()  <<<  True\u001b[0m\n",
      "\u001b[94m |  |  |  |  | custom._serialize_custom()  >>>  True\u001b[0m\n",
      "\u001b[94m |  |  |  |  | custom._serialize_custom()  <<<  False\u001b[0m\n",
      "\u001b[94m |  |  |  |  | custom._serialize_custom()  >>>  False\u001b[0m\n",
      "\u001b[94m |  |  |  |  | custom._serialize_custom()  <<<  False\u001b[0m\n",
      "\u001b[94m |  |  |  |  | custom._serialize_custom()  >>>  False\u001b[0m\n",
      "\u001b[94m |  |  |  |  | custom._serialize_custom()  <<<  'memory.hashstash.zlib+b64.db'\u001b[0m\n",
      "\u001b[94m |  |  |  |  | custom._serialize_custom()  >>>  'memory.hashstash.zlib+b64.db'\u001b[0m\n",
      "\u001b[94m |  |  |  | custom._serialize_custom()  >>>  {'root_dir': '/Users/ryan/.cache/hashstash', 'name': 'default_stash', 'dbname': 'main', 'engine': 'memory', 'serializer': 'hashstash', 'compress': True, 'b64': True, 'append_mode': True, 'is_function_stash': False, 'is_tmp': False, 'filename': 'memory.hashstash.zlib+b64.db'}\u001b[0m\n",
      "\u001b[94m |  |  | custom._serialize_custom()  >>>  {'stash': {'root_dir': '/Users/ryan/.cache/hashstash', 'name': 'default_stash', 'dbname': 'main', 'engine': 'memory', 'serializer': 'hashstash', 'compress': True, 'b64': True, 'append_mode': True, 'is_function_stash': False, 'is_tmp': False, 'filename': 'memory.hashstash.zlib+b64.db'}}\u001b[0m\n",
      "\u001b[94m |  | custom._serialize_custom()  >>>  {'__py__': 'hashstash.profilers.engine_profiler.HashStashProfiler', '__data__': {'stash': {'root_dir': '/Users/ryan/.cache/hashstash', 'name': 'default_stash', 'dbname': 'main', 'engine': 'memory', 'serializer': 'hashstash', 'compress': True, 'b64': True, 'append_mode': True, 'is_function_stash': False, 'is_tmp': False, 'filename': 'memory.hashstash.zlib+b64.db'}}}\u001b[0m\n",
      "\u001b[94m | custom._serialize_custom()  >>>  {'__py__': 'builtins.tuple', '__data__': [{'__py__': 'hashstash.profilers.engine_profiler.HashStashProfiler', '__data__': {'stash': {'root_dir': '/Users/ryan/.cache/hashstash', 'name': 'default_stash', 'dbname': 'main', 'engine': 'memory', 'serializer': 'hashstash', 'compress': True, 'b64': True, 'append_mode': True, 'is_function_stash': False, 'is_tmp': False, 'filename': 'memory.hashstash.zlib+b64.db'}}}]}\u001b[0m\n",
      "\u001b[94m | custom._serialize_custom()  <<<  {'iterations': 1}\u001b[0m\n",
      "\u001b[94m |  | custom._serialize_custom()  <<<  1\u001b[0m\n",
      "\u001b[94m |  | custom._serialize_custom()  >>>  1\u001b[0m\n",
      "\u001b[94m | custom._serialize_custom()  >>>  {'iterations': 1}\u001b[0m\n",
      "\u001b[94mcustom._serialize_custom()  >>>  {'func': {'__py__': 'hashstash.profilers.engine_profiler.HashStashProfiler.profile', '__pytype__': 'instancemethod', '__self__': {'__py__': 'hashstash.profilers.engine_profiler.HashStashProfiler', '__pytype__': 'instance', '__cls__': {'__py__': 'hashstash.profilers.engine_profiler.HashStashProfiler', '__pytype__': 'class'}, '__state__': {'stash': {'__py__': 'hashstash.engines.memory.MemoryHashStash', '__data__': {'root_dir': '/Users/ryan/.cache/hashstash', 'name': 'default_stash', 'dbname': 'main', 'engine': 'memory', 'serializer': 'hashstash', 'compress': True, 'b64': True, 'append_mode': True, 'is_function_stash': False, 'is_tmp': False, 'filename': 'memory.hashstash.zlib+b64.db'}}}}}, 'args': {'__py__': 'builtins.tuple', '__data__': [{'__py__': 'hashstash.profilers.engine_profiler.HashStashProfiler', '__data__': {'stash': {'root_dir': '/Users/ryan/.cache/hashstash', 'name': 'default_stash', 'dbname': 'main', 'engine': 'memory', 'serializer': 'hashstash', 'compress': True, 'b64': True, 'append_mode': True, 'is_function_stash': False, 'is_tmp': False, 'filename': 'memory.hashstash.zlib+b64.db'}}}]}, 'kwargs': {'iterations': 1}}\u001b[0m\n",
      "\u001b[94mFunctionSerializer.deserialize()  <<<  {'__py__': 'hashstash.profilers.engine_profiler.HashStashProfiler.profile', '__pytype__': 'instancemethod', '__self__': {'__py__': 'hashstash.profilers.engine_profiler.HashStashProfiler', '__pytype__': 'instance', '__cls__': {'__py__': 'hashstash.profilers.engine_profiler.HashStashProfiler', '__pytype__': 'class'}, '__state__': {'stash': {'__py__': 'hashstash.engines.memory.MemoryHashStash', '__data__': {'root_dir': '/Users/ryan/.cache/hashstash', 'name': 'default_stash', 'dbname': 'main', 'engine': 'memory', 'serializer': 'hashstash', 'compress': True, 'b64': True, 'append_mode': True, 'is_function_stash': False, 'is_tmp': False, 'filename': 'memory.hashstash.zlib+b64.db'}}}}}\u001b[0m\n",
      "\u001b[94m | Deserializing function: hashstash.profilers.engine_profiler.HashStashProfiler.profile\u001b[0m\n",
      "\u001b[94m | BaseHashStash.__init__()  <<<  name='default_stash', compress=True, b64=True, serializer='hashstash', dbname='main', root_dir='/Users/ryan/.cache/hashstash', append_mode=True, is_function_stash=False, is_tmp=False, filename='memory.hashstash.zlib+b64.db'\u001b[0m\n",
      "\u001b[94m | BaseHashStash.__init__()  >>>  None\u001b[0m\n",
      "\u001b[94mFunctionSerializer.deserialize()  >>>  <bound method HashStashProfiler.profile of HashStashProfiler(MemoryHashStash(default_stash / main))>\u001b[0m\n",
      "\u001b[94mBaseHashStash.__init__()  <<<  name='default_stash', compress=True, b64=True, serializer='hashstash', dbname='main', root_dir='/Users/ryan/.cache/hashstash', append_mode=True, is_function_stash=False, is_tmp=False, filename='memory.hashstash.zlib+b64.db'\u001b[0m\n",
      "\u001b[94mBaseHashStash.__init__()  >>>  None\u001b[0m\n"
     ]
    },
    {
     "data": {
      "text/plain": [
       "{'func': <bound method HashStashProfiler.profile of HashStashProfiler(MemoryHashStash(default_stash / main))>,\n",
       " 'args': (MemoryHashStash(default_stash / main),),\n",
       " 'kwargs': {'iterations': 1}}"
      ]
     },
     "execution_count": 8,
     "metadata": {},
     "output_type": "execute_result"
    }
   ],
   "source": [
    "unstuff(stuff(key))"
   ]
  },
  {
   "cell_type": "code",
   "execution_count": null,
   "metadata": {},
   "outputs": [
    {
     "data": {
      "text/plain": [
       "<function hashstash.Dog.bark_instance(self, n=2)>"
      ]
     },
     "execution_count": 9,
     "metadata": {},
     "output_type": "execute_result"
    }
   ],
   "source": [
    "Dog().bark_instance.__func__"
   ]
  },
  {
   "cell_type": "code",
   "execution_count": null,
   "metadata": {},
   "outputs": [],
   "source": []
  },
  {
   "cell_type": "code",
   "execution_count": null,
   "metadata": {},
   "outputs": [
    {
     "name": "stdout",
     "output_type": "stream",
     "text": [
      "\u001b[94mBaseHashStash.run()  <<<  <bound method Dog.bark_instance of <hashstash.Dog object at 0x1208584f0>>, 10\u001b[0m\n",
      "\u001b[92m | function <bound method Dog.bark_instance of <hashstash.Dog object at 0x1208584f0>> has stash None\u001b[0m\n",
      "\u001b[94m | BaseHashStash.sub_function_results()  <<<  <function Dog.bark_instance at 0x120876200>\u001b[0m\n",
      "\u001b[94m |  | Sub-function results stash: stashed_result/hashstash.Dog.bark_instance\u001b[0m\n",
      "\u001b[94m |  | BaseHashStash.sub()  <<<  dbname='stashed_result/hashstash.Dog.bark_instance', is_function_stash=True\u001b[0m\n",
      "\u001b[94m |  |  | BaseHashStash.to_dict()\u001b[0m\n",
      "\u001b[94m |  |  | BaseHashStash.to_dict()  >>>  {'root_dir': '/Users/ryan/.cache/hashstash', 'name': 'default_stash', 'dbname': 'main', 'engine': 'memory', 'serializer': 'hashstash', 'compress': True, 'b64': True, 'append_mode': True, 'is_function_stash': False, 'is_tmp': False, 'filename': 'memory.hashstash.zlib+b64.db'}\u001b[0m\n",
      "\u001b[94m |  |  | BaseHashStash.__init__()  <<<  root_dir='/Users/ryan/.cache/hashstash', name='default_stash', dbname='stashed_result/hashstash.Dog.bark_instance', engine='memory', serializer='hashstash', compress=True, b64=True, append_mode=True, is_function_stash=True, is_tmp=False, filename='memory.hashstash.zlib+b64.db', parent=MemoryHashStash(default_stash / main)\u001b[0m\n",
      "\u001b[94m |  |  | BaseHashStash.__init__()  >>>  None\u001b[0m\n",
      "\u001b[94m |  | BaseHashStash.sub()  >>>  MemoryHashStash(default_stash / stashed_result / hashstash.Dog.bark_instance)\u001b[0m\n",
      "\u001b[94m | BaseHashStash.sub_function_results()  >>>  MemoryHashStash(default_stash / stashed_result / hashstash.Dog.bark_instance)\u001b[0m\n",
      "\u001b[94m | BaseHashStash.get()  <<<  {'func': <function Dog.bark_instance at 0x120876200>, 'args': (<hashstash.Dog object at 0x1208584f0>, 10), 'kwargs': {}}, default=None\u001b[0m\n",
      "\u001b[94m |  | BaseHashStash.get_all()  <<<  {'func': <function Dog.bark_instance at 0x120876200>, 'args': (<hashstash.Dog object at 0x1208584f0>, 10), 'kwargs': {}}, default=None, with_metadata=False, all_results=False, as_dataframe=None\u001b[0m\n",
      "\u001b[94m |  |  | BaseHashStash.encode_key()  <<<  {'func': <function Dog.bark_instance at 0x120876200>, 'args': (<hashstash.Dog object at 0x1208584f0>, 10), 'kwargs': {}}\u001b[0m\n",
      "\u001b[94m |  |  |  | BaseHashStash.serialize()  <<<  {'func': <function Dog.bark_instance at 0x120876200>, 'args': (<hashstash.Dog object at 0x1208584f0>, 10), 'kwargs': {}}\u001b[0m\n",
      "\u001b[94m |  |  |  |  | serializer.serialize()  <<<  {'func': <function Dog.bark_instance at 0x120876200>, 'args': (<hashstash.Dog object at 0x1208584f0>, 10), 'kwargs': {}}, serializer='hashstash'\u001b[0m\n",
      "\u001b[94m |  |  |  |  |  | Attempting to serialize with serialize_custom\u001b[0m\n",
      "\u001b[94m |  |  |  |  |  | custom.serialize_custom()  <<<  {'func': <function Dog.bark_instance at 0x120876200>, 'args': (<hashstash.Dog object at 0x1208584f0>, 10), 'kwargs': {}}\u001b[0m\n",
      "\u001b[94m |  |  |  |  |  |  | custom._serialize_custom()  <<<  {'func': <function Dog.bark_instance at 0x120876200>, 'args': (<hashstash.Dog object at 0x1208584f0>, 10), 'kwargs': {}}\u001b[0m\n",
      "\u001b[94m |  |  |  |  |  |  |  | custom._serialize_custom()  <<<  <function Dog.bark_instance at 0x120876200>\u001b[0m\n",
      "\u001b[94m |  |  |  |  |  |  |  | custom._serialize_custom()  >>>  {'__py__': 'hashstash.Dog.bark_instance', '__pytype__': 'classmethod', '__cls__': {'__py__': 'hashstash.Dog', '__pytype__': 'class'}}\u001b[0m\n",
      "\u001b[94m |  |  |  |  |  |  |  | custom._serialize_custom()  <<<  (<hashstash.Dog object at 0x1208584f0>, 10)\u001b[0m\n",
      "\u001b[94m |  |  |  |  |  |  |  |  | custom._serialize_custom()  <<<  <hashstash.Dog object at 0x1208584f0>\u001b[0m\n",
      "\u001b[94m |  |  |  |  |  |  |  |  |  | custom._serialize_custom()  <<<  {'name': 'rex'}\u001b[0m\n",
      "\u001b[94m |  |  |  |  |  |  |  |  |  |  | custom._serialize_custom()  <<<  'rex'\u001b[0m\n",
      "\u001b[94m |  |  |  |  |  |  |  |  |  |  | custom._serialize_custom()  >>>  'rex'\u001b[0m\n",
      "\u001b[94m |  |  |  |  |  |  |  |  |  | custom._serialize_custom()  >>>  {'name': 'rex'}\u001b[0m\n",
      "\u001b[94m |  |  |  |  |  |  |  |  | custom._serialize_custom()  >>>  {'__py__': 'hashstash.Dog', '__pytype__': 'instance', '__cls__': {'__py__': 'hashstash.Dog', '__pytype__': 'class'}, '__state__': {'name': 'rex'}}\u001b[0m\n",
      "\u001b[94m |  |  |  |  |  |  |  |  | custom._serialize_custom()  <<<  10\u001b[0m\n",
      "\u001b[94m |  |  |  |  |  |  |  |  | custom._serialize_custom()  >>>  10\u001b[0m\n",
      "\u001b[94m |  |  |  |  |  |  |  | custom._serialize_custom()  >>>  {'__py__': 'builtins.tuple', '__data__': [{'__py__': 'hashstash.Dog', '__pytype__': 'instance', '__cls__': {'__py__': 'hashstash.Dog', '__pytype__': 'class'}, '__state__': {'name': 'rex'}}, 10]}\u001b[0m\n",
      "\u001b[94m |  |  |  |  |  |  |  | custom._serialize_custom()  <<<  {}\u001b[0m\n",
      "\u001b[94m |  |  |  |  |  |  |  | custom._serialize_custom()  >>>  {}\u001b[0m\n",
      "\u001b[94m |  |  |  |  |  |  | custom._serialize_custom()  >>>  {'func': {'__py__': 'hashstash.Dog.bark_instance', '__pytype__': 'classmethod', '__cls__': {'__py__': 'hashstash.Dog', '__pytype__': 'class'}}, 'args': {'__py__': 'builtins.tuple', '__data__': [{'__py__': 'hashstash.Dog', '__pytype__': 'instance', '__cls__': {'__py__': 'hashstash.Dog', '__pytype__': 'class'}, '__state__': {'name': 'rex'}}, 10]}, 'kwargs': {}}\u001b[0m\n",
      "\u001b[94m |  |  |  |  |  | custom.serialize_custom()  >>>  '{\"func\": {\"__py__\": \"hashstash.Dog.bark_instance\", \"__pytype__\": \"classmethod\", \"__cls__\": {\"__py__\": \"hashstash.Dog\", \"__pytype__\": \"class\"}}, \"args\": {\"__py__\": \"builtins.tuple\", \"__data__\": [{\"__py__\": \"hashstash.Dog\", \"__pytype__\": \"instance\", \"__cls__\": {\"__py__\": \"hashstash.Dog\", \"__pytype__\": \"class\"}, \"__state__\": {\"name\": \"rex\"}}, 10]}, \"kwargs\": {}}'\u001b[0m\n",
      "\u001b[94m |  |  |  |  |  | Serialized data type: <class 'str'>\u001b[0m\n",
      "\u001b[94m |  |  |  |  |  | Serialized data: {\"func\": {\"__py__\": \"hashstash.Dog.bark_instance\", \"__pytype__\": \"classmethod\", \"__cls__\": {\"__py__\": \"hashstash.Dog\", \"__pytype__\": \"class\"}}, \"args\": {\"__py__\": \"builtins.tuple\", \"__data__\": [{\"__py__\": \"hashstash.Dog\", \"__pytype__\": \"instance\", \"__cls__\": {\"__py__\": \"hashstash.Dog\", \"__pytype__\": \"class\"}, \"__state__\": {\"name\": \"rex\"}}, 10]}, \"kwargs\": {}}\u001b[0m\n",
      "\u001b[94m |  |  |  |  | serializer.serialize()  >>>  '{\"func\": {\"__py__\": \"hashstash.Dog.bark_instance\", \"__pytype__\": \"classmethod\", \"__cls__\": {\"__py__\": \"hashstash.Dog\", \"__pytype__\": \"class\"}}, \"args\": {\"__py__\": \"builtins.tuple\", \"__data__\": [{\"__py__\": \"hashstash.Dog\", \"__pytype__\": \"instance\", \"__cls__\": {\"__py__\": \"hashstash.Dog\", \"__pytype__\": \"class\"}, \"__state__\": {\"name\": \"rex\"}}, 10]}, \"kwargs\": {}}'\u001b[0m\n",
      "\u001b[94m |  |  |  | BaseHashStash.serialize()  >>>  '{\"func\": {\"__py__\": \"hashstash.Dog.bark_instance\", \"__pytype__\": \"classmethod\", \"__cls__\": {\"__py__\": \"hashstash.Dog\", \"__pytype__\": \"class\"}}, \"args\": {\"__py__\": \"builtins.tuple\", \"__data__\": [{\"__py__\": \"hashstash.Dog\", \"__pytype__\": \"instance\", \"__cls__\": {\"__py__\": \"hashstash.Dog\", \"__pytype__\": \"class\"}, \"__state__\": {\"name\": \"rex\"}}, 10]}, \"kwargs\": {}}'\u001b[0m\n",
      "\u001b[94m |  |  |  | BaseHashStash.encode()  <<<  '{\"func\": {\"__py__\": \"hashstash.Dog.bark_instance\", \"__pytype__\": \"classmethod\", \"__cls__\": {\"__py__\": \"hashstash.Dog\", \"__pytype__\": \"class\"}}, \"args\": {\"__py__\": \"builtins.tuple\", \"__data__\": [{\"__py__\": \"hashstash.Dog\", \"__pytype__\": \"instance\", \"__cls__\": {\"__py__\": \"hashstash.Dog\", \"__pytype__\": \"class\"}, \"__state__\": {\"name\": \"rex\"}}, 10]}, \"kwargs\": {}}', as_string=False\u001b[0m\n",
      "\u001b[94m |  |  |  |  | encodings.encode()  <<<  '{\"func\": {\"__py__\": \"hashstash.Dog.bark_instance\", \"__pytype__\": \"classmethod\", \"__cls__\": {\"__py__\": \"hashstash.Dog\", \"__pytype__\": \"class\"}}, \"args\": {\"__py__\": \"builtins.tuple\", \"__data__\": [{\"__py__\": \"hashstash.Dog\", \"__pytype__\": \"instance\", \"__cls__\": {\"__py__\": \"hashstash.Dog\", \"__pytype__\": \"class\"}, \"__state__\": {\"name\": \"rex\"}}, 10]}, \"kwargs\": {}}', b64=True, compress=True, as_string=False\u001b[0m\n",
      "\u001b[94m |  |  |  |  | encodings.encode()  >>>  b'eJydj8EKwjAQRH+l5CxBr579C5GwTWNTmqYhu0FLyb+7TetBoQe9LGHf7GRmFvfktThXs1AqTErxU1hAi8RDXsZW1hB71XleeG3EoSpCmoJZxdoB4mDIjs0KtcNCdh13PETODCC2+HVcp84RB5CUgtsSNEBQ6PWHbz5L/J+z7FlGZjPwMJiFR/MsLU7H2yLqH+82Ob8Avq92eA=='\u001b[0m\n",
      "\u001b[94m |  |  |  | BaseHashStash.encode()  >>>  b'eJydj8EKwjAQRH+l5CxBr579C5GwTWNTmqYhu0FLyb+7TetBoQe9LGHf7GRmFvfktThXs1AqTErxU1hAi8RDXsZW1hB71XleeG3EoSpCmoJZxdoB4mDIjs0KtcNCdh13PETODCC2+HVcp84RB5CUgtsSNEBQ6PWHbz5L/J+z7FlGZjPwMJiFR/MsLU7H2yLqH+82Ob8Avq92eA=='\u001b[0m\n",
      "\u001b[94m |  |  | BaseHashStash.encode_key()  >>>  b'eJydj8EKwjAQRH+l5CxBr579C5GwTWNTmqYhu0FLyb+7TetBoQe9LGHf7GRmFvfktThXs1AqTErxU1hAi8RDXsZW1hB71XleeG3EoSpCmoJZxdoB4mDIjs0KtcNCdh13PETODCC2+HVcp84RB5CUgtsSNEBQ6PWHbz5L/J+z7FlGZjPwMJiFR/MsLU7H2yLqH+82Ob8Avq92eA=='\u001b[0m\n",
      "\u001b[94m |  |  | BaseHashStash._get()  <<<  b'eJydj8EKwjAQRH+l5CxBr579C5GwTWNTmqYhu0FLyb+7TetBoQe9LGHf7GRmFvfktThXs1AqTErxU1hAi8RDXsZW1hB71XleeG3EoSpCmoJZxdoB4mDIjs0KtcNCdh13PETODCC2+HVcp84RB5CUgtsSNEBQ6PWHbz5L/J+z7FlGZjPwMJiFR/MsLU7H2yLqH+82Ob8Avq92eA=='\u001b[0m\n",
      "\u001b[94m |  |  |  | BaseHashStash.__enter__()\u001b[0m\n",
      "\u001b[94m |  |  |  | BaseHashStash.__enter__()  >>>  MemoryHashStash(default_stash / stashed_result / hashstash.Dog.bark_instance)\u001b[0m\n",
      "\u001b[94m |  |  |  | BaseHashStash.__exit__()  <<<  None, None, None\u001b[0m\n",
      "\u001b[94m |  |  |  | BaseHashStash.__exit__()  >>>  None\u001b[0m\n",
      "\u001b[94m |  |  | BaseHashStash._get()  >>>  None\u001b[0m\n",
      "\u001b[94m |  | BaseHashStash.get_all()  >>>  None\u001b[0m\n",
      "\u001b[94m | BaseHashStash.get()  >>>  None\u001b[0m\n",
      "\u001b[94m | Stash miss for bark_instance. Executing function.\u001b[0m\n",
      "\u001b[94m | serializer.serialize()  <<<  {'func': <function Dog.bark_instance at 0x120876200>, 'args': (<hashstash.Dog object at 0x1208584f0>, 10), 'kwargs': {}}\u001b[0m\n",
      "\u001b[94m |  | Attempting to serialize with serialize_custom\u001b[0m\n",
      "\u001b[94m |  | custom.serialize_custom()  <<<  {'func': <function Dog.bark_instance at 0x120876200>, 'args': (<hashstash.Dog object at 0x1208584f0>, 10), 'kwargs': {}}\u001b[0m\n",
      "\u001b[94m |  |  | custom._serialize_custom()  <<<  {'func': <function Dog.bark_instance at 0x120876200>, 'args': (<hashstash.Dog object at 0x1208584f0>, 10), 'kwargs': {}}\u001b[0m\n",
      "\u001b[94m |  |  |  | custom._serialize_custom()  <<<  <function Dog.bark_instance at 0x120876200>\u001b[0m\n",
      "\u001b[94m |  |  |  | custom._serialize_custom()  >>>  {'__py__': 'hashstash.Dog.bark_instance', '__pytype__': 'classmethod', '__cls__': {'__py__': 'hashstash.Dog', '__pytype__': 'class'}}\u001b[0m\n",
      "\u001b[94m |  |  |  | custom._serialize_custom()  <<<  (<hashstash.Dog object at 0x1208584f0>, 10)\u001b[0m\n",
      "\u001b[94m |  |  |  |  | custom._serialize_custom()  <<<  <hashstash.Dog object at 0x1208584f0>\u001b[0m\n",
      "\u001b[94m |  |  |  |  |  | custom._serialize_custom()  <<<  {'name': 'rex'}\u001b[0m\n",
      "\u001b[94m |  |  |  |  |  |  | custom._serialize_custom()  <<<  'rex'\u001b[0m\n",
      "\u001b[94m |  |  |  |  |  |  | custom._serialize_custom()  >>>  'rex'\u001b[0m\n",
      "\u001b[94m |  |  |  |  |  | custom._serialize_custom()  >>>  {'name': 'rex'}\u001b[0m\n",
      "\u001b[94m |  |  |  |  | custom._serialize_custom()  >>>  {'__py__': 'hashstash.Dog', '__pytype__': 'instance', '__cls__': {'__py__': 'hashstash.Dog', '__pytype__': 'class'}, '__state__': {'name': 'rex'}}\u001b[0m\n",
      "\u001b[94m |  |  |  |  | custom._serialize_custom()  <<<  10\u001b[0m\n",
      "\u001b[94m |  |  |  |  | custom._serialize_custom()  >>>  10\u001b[0m\n",
      "\u001b[94m |  |  |  | custom._serialize_custom()  >>>  {'__py__': 'builtins.tuple', '__data__': [{'__py__': 'hashstash.Dog', '__pytype__': 'instance', '__cls__': {'__py__': 'hashstash.Dog', '__pytype__': 'class'}, '__state__': {'name': 'rex'}}, 10]}\u001b[0m\n",
      "\u001b[94m |  |  |  | custom._serialize_custom()  <<<  {}\u001b[0m\n",
      "\u001b[94m |  |  |  | custom._serialize_custom()  >>>  {}\u001b[0m\n",
      "\u001b[94m |  |  | custom._serialize_custom()  >>>  {'func': {'__py__': 'hashstash.Dog.bark_instance', '__pytype__': 'classmethod', '__cls__': {'__py__': 'hashstash.Dog', '__pytype__': 'class'}}, 'args': {'__py__': 'builtins.tuple', '__data__': [{'__py__': 'hashstash.Dog', '__pytype__': 'instance', '__cls__': {'__py__': 'hashstash.Dog', '__pytype__': 'class'}, '__state__': {'name': 'rex'}}, 10]}, 'kwargs': {}}\u001b[0m\n",
      "\u001b[94m |  | custom.serialize_custom()  >>>  '{\"func\": {\"__py__\": \"hashstash.Dog.bark_instance\", \"__pytype__\": \"classmethod\", \"__cls__\": {\"__py__\": \"hashstash.Dog\", \"__pytype__\": \"class\"}}, \"args\": {\"__py__\": \"builtins.tuple\", \"__data__\": [{\"__py__\": \"hashstash.Dog\", \"__pytype__\": \"instance\", \"__cls__\": {\"__py__\": \"hashstash.Dog\", \"__pytype__\": \"class\"}, \"__state__\": {\"name\": \"rex\"}}, 10]}, \"kwargs\": {}}'\u001b[0m\n",
      "\u001b[94m |  | Serialized data type: <class 'str'>\u001b[0m\n",
      "\u001b[94m |  | Serialized data: {\"func\": {\"__py__\": \"hashstash.Dog.bark_instance\", \"__pytype__\": \"classmethod\", \"__cls__\": {\"__py__\": \"hashstash.Dog\", \"__pytype__\": \"class\"}}, \"args\": {\"__py__\": \"builtins.tuple\", \"__data__\": [{\"__py__\": \"hashstash.Dog\", \"__pytype__\": \"instance\", \"__cls__\": {\"__py__\": \"hashstash.Dog\", \"__pytype__\": \"class\"}, \"__state__\": {\"name\": \"rex\"}}, 10]}, \"kwargs\": {}}\u001b[0m\n",
      "\u001b[94m | serializer.serialize()  >>>  '{\"func\": {\"__py__\": \"hashstash.Dog.bark_instance\", \"__pytype__\": \"classmethod\", \"__cls__\": {\"__py__\": \"hashstash.Dog\", \"__pytype__\": \"class\"}}, \"args\": {\"__py__\": \"builtins.tuple\", \"__data__\": [{\"__py__\": \"hashstash.Dog\", \"__pytype__\": \"instance\", \"__cls__\": {\"__py__\": \"hashstash.Dog\", \"__pytype__\": \"class\"}, \"__state__\": {\"name\": \"rex\"}}, 10]}, \"kwargs\": {}}'\u001b[0m\n",
      "\u001b[94m | Caching result for bark_instance under {\"func\": {\"__py__\": \"hashstash.Dog.bark_instance\", \"__pytype__\": \"classmethod\", \"__cls__\": {\"__py__\": \"hashstash.Dog\", \"__pytype__\": \"class\"}}, \"args\": {\"__py__\": \"builtins.tuple\", \"__data__\": [{\"__py__\": \"hashstash.Dog\", \"__pytype__\": \"instance\", \"__cls__\": {\"__py__\": \"hashstash.Dog\", \"__pytype__\": \"class\"}, \"__state__\": {\"name\": \"rex\"}}, 10]}, \"kwargs\": {}}\u001b[0m\n",
      "\u001b[94m | BaseHashStash.set()  <<<  {'func': <function Dog.bark_instance at 0x120876200>, 'args': (<hashstash.Dog object at 0x1208584f0>, 10), 'kwargs': {}}, '[rex] bark [rex] bark [rex] bark [rex] bark [rex] bark [rex] bark [rex] bark [rex] bark [rex] bark [rex] bark '\u001b[0m\n",
      "\u001b[94m |  | BaseHashStash.encode_key()  <<<  {'func': <function Dog.bark_instance at 0x120876200>, 'args': (<hashstash.Dog object at 0x1208584f0>, 10), 'kwargs': {}}\u001b[0m\n",
      "\u001b[94m |  |  | BaseHashStash.serialize()  <<<  {'func': <function Dog.bark_instance at 0x120876200>, 'args': (<hashstash.Dog object at 0x1208584f0>, 10), 'kwargs': {}}\u001b[0m\n",
      "\u001b[94m |  |  |  | serializer.serialize()  <<<  {'func': <function Dog.bark_instance at 0x120876200>, 'args': (<hashstash.Dog object at 0x1208584f0>, 10), 'kwargs': {}}, serializer='hashstash'\u001b[0m\n",
      "\u001b[94m |  |  |  |  | Attempting to serialize with serialize_custom\u001b[0m\n",
      "\u001b[94m |  |  |  |  | custom.serialize_custom()  <<<  {'func': <function Dog.bark_instance at 0x120876200>, 'args': (<hashstash.Dog object at 0x1208584f0>, 10), 'kwargs': {}}\u001b[0m\n",
      "\u001b[94m |  |  |  |  |  | custom._serialize_custom()  <<<  {'func': <function Dog.bark_instance at 0x120876200>, 'args': (<hashstash.Dog object at 0x1208584f0>, 10), 'kwargs': {}}\u001b[0m\n",
      "\u001b[94m |  |  |  |  |  |  | custom._serialize_custom()  <<<  <function Dog.bark_instance at 0x120876200>\u001b[0m\n",
      "\u001b[94m |  |  |  |  |  |  | custom._serialize_custom()  >>>  {'__py__': 'hashstash.Dog.bark_instance', '__pytype__': 'classmethod', '__cls__': {'__py__': 'hashstash.Dog', '__pytype__': 'class'}}\u001b[0m\n",
      "\u001b[94m |  |  |  |  |  |  | custom._serialize_custom()  <<<  (<hashstash.Dog object at 0x1208584f0>, 10)\u001b[0m\n",
      "\u001b[94m |  |  |  |  |  |  |  | custom._serialize_custom()  <<<  <hashstash.Dog object at 0x1208584f0>\u001b[0m\n",
      "\u001b[94m |  |  |  |  |  |  |  |  | custom._serialize_custom()  <<<  {'name': 'rex'}\u001b[0m\n",
      "\u001b[94m |  |  |  |  |  |  |  |  |  | custom._serialize_custom()  <<<  'rex'\u001b[0m\n",
      "\u001b[94m |  |  |  |  |  |  |  |  |  | custom._serialize_custom()  >>>  'rex'\u001b[0m\n",
      "\u001b[94m |  |  |  |  |  |  |  |  | custom._serialize_custom()  >>>  {'name': 'rex'}\u001b[0m\n",
      "\u001b[94m |  |  |  |  |  |  |  | custom._serialize_custom()  >>>  {'__py__': 'hashstash.Dog', '__pytype__': 'instance', '__cls__': {'__py__': 'hashstash.Dog', '__pytype__': 'class'}, '__state__': {'name': 'rex'}}\u001b[0m\n",
      "\u001b[94m |  |  |  |  |  |  |  | custom._serialize_custom()  <<<  10\u001b[0m\n",
      "\u001b[94m |  |  |  |  |  |  |  | custom._serialize_custom()  >>>  10\u001b[0m\n",
      "\u001b[94m |  |  |  |  |  |  | custom._serialize_custom()  >>>  {'__py__': 'builtins.tuple', '__data__': [{'__py__': 'hashstash.Dog', '__pytype__': 'instance', '__cls__': {'__py__': 'hashstash.Dog', '__pytype__': 'class'}, '__state__': {'name': 'rex'}}, 10]}\u001b[0m\n",
      "\u001b[94m |  |  |  |  |  |  | custom._serialize_custom()  <<<  {}\u001b[0m\n",
      "\u001b[94m |  |  |  |  |  |  | custom._serialize_custom()  >>>  {}\u001b[0m\n",
      "\u001b[94m |  |  |  |  |  | custom._serialize_custom()  >>>  {'func': {'__py__': 'hashstash.Dog.bark_instance', '__pytype__': 'classmethod', '__cls__': {'__py__': 'hashstash.Dog', '__pytype__': 'class'}}, 'args': {'__py__': 'builtins.tuple', '__data__': [{'__py__': 'hashstash.Dog', '__pytype__': 'instance', '__cls__': {'__py__': 'hashstash.Dog', '__pytype__': 'class'}, '__state__': {'name': 'rex'}}, 10]}, 'kwargs': {}}\u001b[0m\n",
      "\u001b[94m |  |  |  |  | custom.serialize_custom()  >>>  '{\"func\": {\"__py__\": \"hashstash.Dog.bark_instance\", \"__pytype__\": \"classmethod\", \"__cls__\": {\"__py__\": \"hashstash.Dog\", \"__pytype__\": \"class\"}}, \"args\": {\"__py__\": \"builtins.tuple\", \"__data__\": [{\"__py__\": \"hashstash.Dog\", \"__pytype__\": \"instance\", \"__cls__\": {\"__py__\": \"hashstash.Dog\", \"__pytype__\": \"class\"}, \"__state__\": {\"name\": \"rex\"}}, 10]}, \"kwargs\": {}}'\u001b[0m\n",
      "\u001b[94m |  |  |  |  | Serialized data type: <class 'str'>\u001b[0m\n",
      "\u001b[94m |  |  |  |  | Serialized data: {\"func\": {\"__py__\": \"hashstash.Dog.bark_instance\", \"__pytype__\": \"classmethod\", \"__cls__\": {\"__py__\": \"hashstash.Dog\", \"__pytype__\": \"class\"}}, \"args\": {\"__py__\": \"builtins.tuple\", \"__data__\": [{\"__py__\": \"hashstash.Dog\", \"__pytype__\": \"instance\", \"__cls__\": {\"__py__\": \"hashstash.Dog\", \"__pytype__\": \"class\"}, \"__state__\": {\"name\": \"rex\"}}, 10]}, \"kwargs\": {}}\u001b[0m\n",
      "\u001b[94m |  |  |  | serializer.serialize()  >>>  '{\"func\": {\"__py__\": \"hashstash.Dog.bark_instance\", \"__pytype__\": \"classmethod\", \"__cls__\": {\"__py__\": \"hashstash.Dog\", \"__pytype__\": \"class\"}}, \"args\": {\"__py__\": \"builtins.tuple\", \"__data__\": [{\"__py__\": \"hashstash.Dog\", \"__pytype__\": \"instance\", \"__cls__\": {\"__py__\": \"hashstash.Dog\", \"__pytype__\": \"class\"}, \"__state__\": {\"name\": \"rex\"}}, 10]}, \"kwargs\": {}}'\u001b[0m\n",
      "\u001b[94m |  |  | BaseHashStash.serialize()  >>>  '{\"func\": {\"__py__\": \"hashstash.Dog.bark_instance\", \"__pytype__\": \"classmethod\", \"__cls__\": {\"__py__\": \"hashstash.Dog\", \"__pytype__\": \"class\"}}, \"args\": {\"__py__\": \"builtins.tuple\", \"__data__\": [{\"__py__\": \"hashstash.Dog\", \"__pytype__\": \"instance\", \"__cls__\": {\"__py__\": \"hashstash.Dog\", \"__pytype__\": \"class\"}, \"__state__\": {\"name\": \"rex\"}}, 10]}, \"kwargs\": {}}'\u001b[0m\n",
      "\u001b[94m |  |  | BaseHashStash.encode()  <<<  '{\"func\": {\"__py__\": \"hashstash.Dog.bark_instance\", \"__pytype__\": \"classmethod\", \"__cls__\": {\"__py__\": \"hashstash.Dog\", \"__pytype__\": \"class\"}}, \"args\": {\"__py__\": \"builtins.tuple\", \"__data__\": [{\"__py__\": \"hashstash.Dog\", \"__pytype__\": \"instance\", \"__cls__\": {\"__py__\": \"hashstash.Dog\", \"__pytype__\": \"class\"}, \"__state__\": {\"name\": \"rex\"}}, 10]}, \"kwargs\": {}}', as_string=False\u001b[0m\n",
      "\u001b[94m |  |  |  | encodings.encode()  <<<  '{\"func\": {\"__py__\": \"hashstash.Dog.bark_instance\", \"__pytype__\": \"classmethod\", \"__cls__\": {\"__py__\": \"hashstash.Dog\", \"__pytype__\": \"class\"}}, \"args\": {\"__py__\": \"builtins.tuple\", \"__data__\": [{\"__py__\": \"hashstash.Dog\", \"__pytype__\": \"instance\", \"__cls__\": {\"__py__\": \"hashstash.Dog\", \"__pytype__\": \"class\"}, \"__state__\": {\"name\": \"rex\"}}, 10]}, \"kwargs\": {}}', b64=True, compress=True, as_string=False\u001b[0m\n",
      "\u001b[94m |  |  |  | encodings.encode()  >>>  b'eJydj8EKwjAQRH+l5CxBr579C5GwTWNTmqYhu0FLyb+7TetBoQe9LGHf7GRmFvfktThXs1AqTErxU1hAi8RDXsZW1hB71XleeG3EoSpCmoJZxdoB4mDIjs0KtcNCdh13PETODCC2+HVcp84RB5CUgtsSNEBQ6PWHbz5L/J+z7FlGZjPwMJiFR/MsLU7H2yLqH+82Ob8Avq92eA=='\u001b[0m\n",
      "\u001b[94m |  |  | BaseHashStash.encode()  >>>  b'eJydj8EKwjAQRH+l5CxBr579C5GwTWNTmqYhu0FLyb+7TetBoQe9LGHf7GRmFvfktThXs1AqTErxU1hAi8RDXsZW1hB71XleeG3EoSpCmoJZxdoB4mDIjs0KtcNCdh13PETODCC2+HVcp84RB5CUgtsSNEBQ6PWHbz5L/J+z7FlGZjPwMJiFR/MsLU7H2yLqH+82Ob8Avq92eA=='\u001b[0m\n",
      "\u001b[94m |  | BaseHashStash.encode_key()  >>>  b'eJydj8EKwjAQRH+l5CxBr579C5GwTWNTmqYhu0FLyb+7TetBoQe9LGHf7GRmFvfktThXs1AqTErxU1hAi8RDXsZW1hB71XleeG3EoSpCmoJZxdoB4mDIjs0KtcNCdh13PETODCC2+HVcp84RB5CUgtsSNEBQ6PWHbz5L/J+z7FlGZjPwMJiFR/MsLU7H2yLqH+82Ob8Avq92eA=='\u001b[0m\n",
      "\u001b[94m |  | BaseHashStash.new_unencoded_value()  <<<  '[rex] bark [rex] bark [rex] bark [rex] bark [rex] bark [rex] bark [rex] bark [rex] bark [rex] bark [rex] bark ', unencoded_key={'func': <function Dog.bark_instance at 0x120876200>, 'args': (<hashstash.Dog object at 0x1208584f0>, 10), 'kwargs': {}}, append=None\u001b[0m\n",
      "\u001b[94m |  |  | BaseHashStash.get_all()  <<<  {'func': <function Dog.bark_instance at 0x120876200>, 'args': (<hashstash.Dog object at 0x1208584f0>, 10), 'kwargs': {}}, all_results=True, default=[], with_metadata=False\u001b[0m\n",
      "\u001b[94m |  |  |  | BaseHashStash.encode_key()  <<<  {'func': <function Dog.bark_instance at 0x120876200>, 'args': (<hashstash.Dog object at 0x1208584f0>, 10), 'kwargs': {}}\u001b[0m\n",
      "\u001b[94m |  |  |  |  | BaseHashStash.serialize()  <<<  {'func': <function Dog.bark_instance at 0x120876200>, 'args': (<hashstash.Dog object at 0x1208584f0>, 10), 'kwargs': {}}\u001b[0m\n",
      "\u001b[94m |  |  |  |  |  | serializer.serialize()  <<<  {'func': <function Dog.bark_instance at 0x120876200>, 'args': (<hashstash.Dog object at 0x1208584f0>, 10), 'kwargs': {}}, serializer='hashstash'\u001b[0m\n",
      "\u001b[94m |  |  |  |  |  |  | Attempting to serialize with serialize_custom\u001b[0m\n",
      "\u001b[94m |  |  |  |  |  |  | custom.serialize_custom()  <<<  {'func': <function Dog.bark_instance at 0x120876200>, 'args': (<hashstash.Dog object at 0x1208584f0>, 10), 'kwargs': {}}\u001b[0m\n",
      "\u001b[94m |  |  |  |  |  |  |  | custom._serialize_custom()  <<<  {'func': <function Dog.bark_instance at 0x120876200>, 'args': (<hashstash.Dog object at 0x1208584f0>, 10), 'kwargs': {}}\u001b[0m\n",
      "\u001b[94m |  |  |  |  |  |  |  |  | custom._serialize_custom()  <<<  <function Dog.bark_instance at 0x120876200>\u001b[0m\n",
      "\u001b[94m |  |  |  |  |  |  |  |  | custom._serialize_custom()  >>>  {'__py__': 'hashstash.Dog.bark_instance', '__pytype__': 'classmethod', '__cls__': {'__py__': 'hashstash.Dog', '__pytype__': 'class'}}\u001b[0m\n",
      "\u001b[94m |  |  |  |  |  |  |  |  | custom._serialize_custom()  <<<  (<hashstash.Dog object at 0x1208584f0>, 10)\u001b[0m\n",
      "\u001b[94m |  |  |  |  |  |  |  |  |  | custom._serialize_custom()  <<<  <hashstash.Dog object at 0x1208584f0>\u001b[0m\n",
      "\u001b[94m |  |  |  |  |  |  |  |  |  |  | custom._serialize_custom()  <<<  {'name': 'rex'}\u001b[0m\n",
      "\u001b[94m |  |  |  |  |  |  |  |  |  |  |  | custom._serialize_custom()  <<<  'rex'\u001b[0m\n",
      "\u001b[94m |  |  |  |  |  |  |  |  |  |  |  | custom._serialize_custom()  >>>  'rex'\u001b[0m\n",
      "\u001b[94m |  |  |  |  |  |  |  |  |  |  | custom._serialize_custom()  >>>  {'name': 'rex'}\u001b[0m\n",
      "\u001b[94m |  |  |  |  |  |  |  |  |  | custom._serialize_custom()  >>>  {'__py__': 'hashstash.Dog', '__pytype__': 'instance', '__cls__': {'__py__': 'hashstash.Dog', '__pytype__': 'class'}, '__state__': {'name': 'rex'}}\u001b[0m\n",
      "\u001b[94m |  |  |  |  |  |  |  |  |  | custom._serialize_custom()  <<<  10\u001b[0m\n",
      "\u001b[94m |  |  |  |  |  |  |  |  |  | custom._serialize_custom()  >>>  10\u001b[0m\n",
      "\u001b[94m |  |  |  |  |  |  |  |  | custom._serialize_custom()  >>>  {'__py__': 'builtins.tuple', '__data__': [{'__py__': 'hashstash.Dog', '__pytype__': 'instance', '__cls__': {'__py__': 'hashstash.Dog', '__pytype__': 'class'}, '__state__': {'name': 'rex'}}, 10]}\u001b[0m\n",
      "\u001b[94m |  |  |  |  |  |  |  |  | custom._serialize_custom()  <<<  {}\u001b[0m\n",
      "\u001b[94m |  |  |  |  |  |  |  |  | custom._serialize_custom()  >>>  {}\u001b[0m\n",
      "\u001b[94m |  |  |  |  |  |  |  | custom._serialize_custom()  >>>  {'func': {'__py__': 'hashstash.Dog.bark_instance', '__pytype__': 'classmethod', '__cls__': {'__py__': 'hashstash.Dog', '__pytype__': 'class'}}, 'args': {'__py__': 'builtins.tuple', '__data__': [{'__py__': 'hashstash.Dog', '__pytype__': 'instance', '__cls__': {'__py__': 'hashstash.Dog', '__pytype__': 'class'}, '__state__': {'name': 'rex'}}, 10]}, 'kwargs': {}}\u001b[0m\n",
      "\u001b[94m |  |  |  |  |  |  | custom.serialize_custom()  >>>  '{\"func\": {\"__py__\": \"hashstash.Dog.bark_instance\", \"__pytype__\": \"classmethod\", \"__cls__\": {\"__py__\": \"hashstash.Dog\", \"__pytype__\": \"class\"}}, \"args\": {\"__py__\": \"builtins.tuple\", \"__data__\": [{\"__py__\": \"hashstash.Dog\", \"__pytype__\": \"instance\", \"__cls__\": {\"__py__\": \"hashstash.Dog\", \"__pytype__\": \"class\"}, \"__state__\": {\"name\": \"rex\"}}, 10]}, \"kwargs\": {}}'\u001b[0m\n",
      "\u001b[94m |  |  |  |  |  |  | Serialized data type: <class 'str'>\u001b[0m\n",
      "\u001b[94m |  |  |  |  |  |  | Serialized data: {\"func\": {\"__py__\": \"hashstash.Dog.bark_instance\", \"__pytype__\": \"classmethod\", \"__cls__\": {\"__py__\": \"hashstash.Dog\", \"__pytype__\": \"class\"}}, \"args\": {\"__py__\": \"builtins.tuple\", \"__data__\": [{\"__py__\": \"hashstash.Dog\", \"__pytype__\": \"instance\", \"__cls__\": {\"__py__\": \"hashstash.Dog\", \"__pytype__\": \"class\"}, \"__state__\": {\"name\": \"rex\"}}, 10]}, \"kwargs\": {}}\u001b[0m\n",
      "\u001b[94m |  |  |  |  |  | serializer.serialize()  >>>  '{\"func\": {\"__py__\": \"hashstash.Dog.bark_instance\", \"__pytype__\": \"classmethod\", \"__cls__\": {\"__py__\": \"hashstash.Dog\", \"__pytype__\": \"class\"}}, \"args\": {\"__py__\": \"builtins.tuple\", \"__data__\": [{\"__py__\": \"hashstash.Dog\", \"__pytype__\": \"instance\", \"__cls__\": {\"__py__\": \"hashstash.Dog\", \"__pytype__\": \"class\"}, \"__state__\": {\"name\": \"rex\"}}, 10]}, \"kwargs\": {}}'\u001b[0m\n",
      "\u001b[94m |  |  |  |  | BaseHashStash.serialize()  >>>  '{\"func\": {\"__py__\": \"hashstash.Dog.bark_instance\", \"__pytype__\": \"classmethod\", \"__cls__\": {\"__py__\": \"hashstash.Dog\", \"__pytype__\": \"class\"}}, \"args\": {\"__py__\": \"builtins.tuple\", \"__data__\": [{\"__py__\": \"hashstash.Dog\", \"__pytype__\": \"instance\", \"__cls__\": {\"__py__\": \"hashstash.Dog\", \"__pytype__\": \"class\"}, \"__state__\": {\"name\": \"rex\"}}, 10]}, \"kwargs\": {}}'\u001b[0m\n",
      "\u001b[94m |  |  |  |  | BaseHashStash.encode()  <<<  '{\"func\": {\"__py__\": \"hashstash.Dog.bark_instance\", \"__pytype__\": \"classmethod\", \"__cls__\": {\"__py__\": \"hashstash.Dog\", \"__pytype__\": \"class\"}}, \"args\": {\"__py__\": \"builtins.tuple\", \"__data__\": [{\"__py__\": \"hashstash.Dog\", \"__pytype__\": \"instance\", \"__cls__\": {\"__py__\": \"hashstash.Dog\", \"__pytype__\": \"class\"}, \"__state__\": {\"name\": \"rex\"}}, 10]}, \"kwargs\": {}}', as_string=False\u001b[0m\n",
      "\u001b[94m |  |  |  |  |  | encodings.encode()  <<<  '{\"func\": {\"__py__\": \"hashstash.Dog.bark_instance\", \"__pytype__\": \"classmethod\", \"__cls__\": {\"__py__\": \"hashstash.Dog\", \"__pytype__\": \"class\"}}, \"args\": {\"__py__\": \"builtins.tuple\", \"__data__\": [{\"__py__\": \"hashstash.Dog\", \"__pytype__\": \"instance\", \"__cls__\": {\"__py__\": \"hashstash.Dog\", \"__pytype__\": \"class\"}, \"__state__\": {\"name\": \"rex\"}}, 10]}, \"kwargs\": {}}', b64=True, compress=True, as_string=False\u001b[0m\n",
      "\u001b[94m |  |  |  |  |  | encodings.encode()  >>>  b'eJydj8EKwjAQRH+l5CxBr579C5GwTWNTmqYhu0FLyb+7TetBoQe9LGHf7GRmFvfktThXs1AqTErxU1hAi8RDXsZW1hB71XleeG3EoSpCmoJZxdoB4mDIjs0KtcNCdh13PETODCC2+HVcp84RB5CUgtsSNEBQ6PWHbz5L/J+z7FlGZjPwMJiFR/MsLU7H2yLqH+82Ob8Avq92eA=='\u001b[0m\n",
      "\u001b[94m |  |  |  |  | BaseHashStash.encode()  >>>  b'eJydj8EKwjAQRH+l5CxBr579C5GwTWNTmqYhu0FLyb+7TetBoQe9LGHf7GRmFvfktThXs1AqTErxU1hAi8RDXsZW1hB71XleeG3EoSpCmoJZxdoB4mDIjs0KtcNCdh13PETODCC2+HVcp84RB5CUgtsSNEBQ6PWHbz5L/J+z7FlGZjPwMJiFR/MsLU7H2yLqH+82Ob8Avq92eA=='\u001b[0m\n",
      "\u001b[94m |  |  |  | BaseHashStash.encode_key()  >>>  b'eJydj8EKwjAQRH+l5CxBr579C5GwTWNTmqYhu0FLyb+7TetBoQe9LGHf7GRmFvfktThXs1AqTErxU1hAi8RDXsZW1hB71XleeG3EoSpCmoJZxdoB4mDIjs0KtcNCdh13PETODCC2+HVcp84RB5CUgtsSNEBQ6PWHbz5L/J+z7FlGZjPwMJiFR/MsLU7H2yLqH+82Ob8Avq92eA=='\u001b[0m\n",
      "\u001b[94m |  |  |  | BaseHashStash._get()  <<<  b'eJydj8EKwjAQRH+l5CxBr579C5GwTWNTmqYhu0FLyb+7TetBoQe9LGHf7GRmFvfktThXs1AqTErxU1hAi8RDXsZW1hB71XleeG3EoSpCmoJZxdoB4mDIjs0KtcNCdh13PETODCC2+HVcp84RB5CUgtsSNEBQ6PWHbz5L/J+z7FlGZjPwMJiFR/MsLU7H2yLqH+82Ob8Avq92eA=='\u001b[0m\n",
      "\u001b[94m |  |  |  |  | BaseHashStash.__enter__()\u001b[0m\n",
      "\u001b[94m |  |  |  |  | BaseHashStash.__enter__()  >>>  MemoryHashStash(default_stash / stashed_result / hashstash.Dog.bark_instance)\u001b[0m\n",
      "\u001b[94m |  |  |  |  | BaseHashStash.__exit__()  <<<  None, None, None\u001b[0m\n",
      "\u001b[94m |  |  |  |  | BaseHashStash.__exit__()  >>>  None\u001b[0m\n",
      "\u001b[94m |  |  |  | BaseHashStash._get()  >>>  None\u001b[0m\n",
      "\u001b[94m |  |  | BaseHashStash.get_all()  >>>  []\u001b[0m\n",
      "\u001b[94m |  | BaseHashStash.new_unencoded_value()  >>>  ['[rex] bark [rex] bark [rex] bark [rex] bark [rex] bark [rex] bark [rex] bark [rex] bark [rex] bark [rex] bark ']\u001b[0m\n",
      "\u001b[94m |  | BaseHashStash.encode_value()  <<<  ['[rex] bark [rex] bark [rex] bark [rex] bark [rex] bark [rex] bark [rex] bark [rex] bark [rex] bark [rex] bark ']\u001b[0m\n",
      "\u001b[94m |  |  | BaseHashStash.serialize()  <<<  ['[rex] bark [rex] bark [rex] bark [rex] bark [rex] bark [rex] bark [rex] bark [rex] bark [rex] bark [rex] bark ']\u001b[0m\n",
      "\u001b[94m |  |  |  | serializer.serialize()  <<<  ['[rex] bark [rex] bark [rex] bark [rex] bark [rex] bark [rex] bark [rex] bark [rex] bark [rex] bark [rex] bark '], serializer='hashstash'\u001b[0m\n",
      "\u001b[94m |  |  |  |  | Attempting to serialize with serialize_custom\u001b[0m\n",
      "\u001b[94m |  |  |  |  | custom.serialize_custom()  <<<  ['[rex] bark [rex] bark [rex] bark [rex] bark [rex] bark [rex] bark [rex] bark [rex] bark [rex] bark [rex] bark ']\u001b[0m\n",
      "\u001b[94m |  |  |  |  |  | custom._serialize_custom()  <<<  ['[rex] bark [rex] bark [rex] bark [rex] bark [rex] bark [rex] bark [rex] bark [rex] bark [rex] bark [rex] bark ']\u001b[0m\n",
      "\u001b[94m |  |  |  |  |  |  | custom._serialize_custom()  <<<  '[rex] bark [rex] bark [rex] bark [rex] bark [rex] bark [rex] bark [rex] bark [rex] bark [rex] bark [rex] bark '\u001b[0m\n",
      "\u001b[94m |  |  |  |  |  |  | custom._serialize_custom()  >>>  '[rex] bark [rex] bark [rex] bark [rex] bark [rex] bark [rex] bark [rex] bark [rex] bark [rex] bark [rex] bark '\u001b[0m\n",
      "\u001b[94m |  |  |  |  |  | custom._serialize_custom()  >>>  ['[rex] bark [rex] bark [rex] bark [rex] bark [rex] bark [rex] bark [rex] bark [rex] bark [rex] bark [rex] bark ']\u001b[0m\n",
      "\u001b[94m |  |  |  |  | custom.serialize_custom()  >>>  '[\"[rex] bark [rex] bark [rex] bark [rex] bark [rex] bark [rex] bark [rex] bark [rex] bark [rex] bark [rex] bark \"]'\u001b[0m\n",
      "\u001b[94m |  |  |  |  | Serialized data type: <class 'str'>\u001b[0m\n",
      "\u001b[94m |  |  |  |  | Serialized data: [\"[rex] bark [rex] bark [rex] bark [rex] bark [rex] bark [rex] bark [rex] bark [rex] bark [rex] bark [rex] bark \"]\u001b[0m\n",
      "\u001b[94m |  |  |  | serializer.serialize()  >>>  '[\"[rex] bark [rex] bark [rex] bark [rex] bark [rex] bark [rex] bark [rex] bark [rex] bark [rex] bark [rex] bark \"]'\u001b[0m\n",
      "\u001b[94m |  |  | BaseHashStash.serialize()  >>>  '[\"[rex] bark [rex] bark [rex] bark [rex] bark [rex] bark [rex] bark [rex] bark [rex] bark [rex] bark [rex] bark \"]'\u001b[0m\n",
      "\u001b[94m |  |  | BaseHashStash.encode()  <<<  '[\"[rex] bark [rex] bark [rex] bark [rex] bark [rex] bark [rex] bark [rex] bark [rex] bark [rex] bark [rex] bark \"]', as_string=False\u001b[0m\n",
      "\u001b[94m |  |  |  | encodings.encode()  <<<  '[\"[rex] bark [rex] bark [rex] bark [rex] bark [rex] bark [rex] bark [rex] bark [rex] bark [rex] bark [rex] bark \"]', b64=True, compress=True, as_string=False\u001b[0m\n",
      "\u001b[94m |  |  |  | encodings.encode()  >>>  b'eJyLVoouSq2IVUhKLMpWoANTKRYACa0oAw=='\u001b[0m\n",
      "\u001b[94m |  |  | BaseHashStash.encode()  >>>  b'eJyLVoouSq2IVUhKLMpWoANTKRYACa0oAw=='\u001b[0m\n",
      "\u001b[94m |  | BaseHashStash.encode_value()  >>>  b'eJyLVoouSq2IVUhKLMpWoANTKRYACa0oAw=='\u001b[0m\n",
      "\u001b[94m |  | BaseHashStash._set()  <<<  b'eJydj8EKwjAQRH+l5CxBr579C5GwTWNTmqYhu0FLyb+7TetBoQe9LGHf7GRmFvfktThXs1AqTErxU1hAi8RDXsZW1hB71XleeG3EoSpCmoJZxdoB4mDIjs0KtcNCdh13PETODCC2+HVcp84RB5CUgtsSNEBQ6PWHbz5L/J+z7FlGZjPwMJiFR/MsLU7H2yLqH+82Ob8Avq92eA==', b'eJyLVoouSq2IVUhKLMpWoANTKRYACa0oAw=='\u001b[0m\n",
      "\u001b[94m |  |  | BaseHashStash.__enter__()\u001b[0m\n",
      "\u001b[94m |  |  | BaseHashStash.__enter__()  >>>  MemoryHashStash(default_stash / stashed_result / hashstash.Dog.bark_instance)\u001b[0m\n",
      "\u001b[94m |  |  | BaseHashStash.__exit__()  <<<  None, None, None\u001b[0m\n",
      "\u001b[94m |  |  | BaseHashStash.__exit__()  >>>  None\u001b[0m\n",
      "\u001b[94m |  | BaseHashStash._set()  >>>  None\u001b[0m\n",
      "\u001b[94m | BaseHashStash.set()  >>>  None\u001b[0m\n",
      "\u001b[94mBaseHashStash.run()  >>>  {'func': <function Dog.bark_instance at 0x120876200>, 'args': (<hashstash.Dog object at 0x1208584f0>, 10), 'kwargs': {}}\u001b[0m\n"
     ]
    },
    {
     "data": {
      "text/plain": [
       "{'func': <function hashstash.Dog.bark_instance(self, n=2)>,\n",
       " 'args': (<hashstash.Dog at 0x1208584f0>, 10),\n",
       " 'kwargs': {}}"
      ]
     },
     "execution_count": 10,
     "metadata": {},
     "output_type": "execute_result"
    }
   ],
   "source": [
    "stash.run(Dog().bark_instance, 10)"
   ]
  },
  {
   "cell_type": "code",
   "execution_count": null,
   "metadata": {},
   "outputs": [
    {
     "ename": "AttributeError",
     "evalue": "'function' object has no attribute 'stash'",
     "output_type": "error",
     "traceback": [
      "\u001b[0;31m---------------------------------------------------------------------------\u001b[0m",
      "\u001b[0;31mAttributeError\u001b[0m                            Traceback (most recent call last)",
      "Cell \u001b[0;32mIn[11], line 1\u001b[0m\n\u001b[0;32m----> 1\u001b[0m \u001b[43mDog\u001b[49m\u001b[38;5;241;43m.\u001b[39;49m\u001b[43mbark_classmethod\u001b[49m\u001b[38;5;241;43m.\u001b[39;49m\u001b[43mstash\u001b[49m\u001b[38;5;241m.\u001b[39mitems_l()\n",
      "\u001b[0;31mAttributeError\u001b[0m: 'function' object has no attribute 'stash'"
     ]
    }
   ],
   "source": [
    "Dog.bark_classmethod.stash.items_l()"
   ]
  },
  {
   "cell_type": "code",
   "execution_count": null,
   "metadata": {},
   "outputs": [],
   "source": []
  },
  {
   "cell_type": "code",
   "execution_count": null,
   "metadata": {},
   "outputs": [
    {
     "data": {
      "text/plain": [
       "__main__.Dog"
      ]
     },
     "execution_count": 7,
     "metadata": {},
     "output_type": "execute_result"
    }
   ],
   "source": [
    "get_class_from_method(Dog.bark_classmethod)"
   ]
  },
  {
   "cell_type": "code",
   "execution_count": null,
   "metadata": {},
   "outputs": [
    {
     "data": {
      "text/plain": [
       "__main__.Dog"
      ]
     },
     "execution_count": 8,
     "metadata": {},
     "output_type": "execute_result"
    }
   ],
   "source": [
    "Dog().bark_classmethod.__self__"
   ]
  },
  {
   "cell_type": "code",
   "execution_count": null,
   "metadata": {},
   "outputs": [],
   "source": [
    "get_object_from_method(Dog.bark_classmethod)"
   ]
  },
  {
   "cell_type": "code",
   "execution_count": null,
   "metadata": {},
   "outputs": [],
   "source": [
    "stash = HashStash(engine='memory')"
   ]
  },
  {
   "cell_type": "code",
   "execution_count": null,
   "metadata": {},
   "outputs": [
    {
     "name": "stdout",
     "output_type": "stream",
     "text": [
      "classmethod\n",
      "\u001b[92margs: [<class '__main__.Dog'>, 10]\u001b[0m\n",
      "\u001b[92mBaseHashStash.get_all()  <<<  {'func': <function Dog.bark_classmethod at 0x108ab36d0>, 'args': (<class '__main__.Dog'>, 10), 'kwargs': {}}, default=None, with_metadata=False, all_results=False, as_dataframe=None\u001b[0m\n",
      "\u001b[92m | unencoded_key: {'func': <function Dog.bark_classmethod at 0x108ab36d0>, 'args': (<class '__main__.Dog'>, 10), 'kwargs': {}}\u001b[0m\n",
      "\u001b[92m | encoded_key: b'eJzVVE1vgkAQ/SsbLmhjSdukFxOaHnruH1CzWWBQKg5md0hrDP+9+wFUAaN4KxcW5r2ZeW929+ilJcbenB09zvcHzvVSr3YiQ86Dj2IdREJueZwLpXZAmyLxZsxC6bAHBzcZKCvQRVRRyriOvJ/wlphAyrrZJnGuZgzD1+l8iUw/EqiUyCapvzjqWIBiB9XK8pj/gFOv0lWEXKtOz1GZ5ZShCqjc5+BaSQQJG11cUtcXY3tzvyOhQDn+X/oi+oKYvJVFOA0OY0pkmFH7MehmixnhovGt4U0U5Kk2TLsS+hJ+/Cl7fGOfBULtn4lb01hoUdYv67rungTGcHXYLXBkj2fkptHwZWiybZe90fa22z/bmmcmcP1SG7guokcYo6TmcAmqzOlETDdrO5NBSbfP5GZZQ5y7Z3RZ50CZO4ZX2fqCSDYH2p4fs7n1RWHCz08rA9p+N/dPVf0CY0jHlA=='\u001b[0m\n",
      "b'eJzVVE1vgkAQ/SsbLmhjSdukFxOaHnruH1CzWWBQKg5md0hrDP+9+wFUAaN4KxcW5r2ZeW929+ilJcbenB09zvcHzvVSr3YiQ86Dj2IdREJueZwLpXZAmyLxZsxC6bAHBzcZKCvQRVRRyriOvJ/wlphAyrrZJnGuZgzD1+l8iUw/EqiUyCapvzjqWIBiB9XK8pj/gFOv0lWEXKtOz1GZ5ZShCqjc5+BaSQQJG11cUtcXY3tzvyOhQDn+X/oi+oKYvJVFOA0OY0pkmFH7MehmixnhovGt4U0U5Kk2TLsS+hJ+/Cl7fGOfBULtn4lb01hoUdYv67rungTGcHXYLXBkj2fkptHwZWiybZe90fa22z/bmmcmcP1SG7guokcYo6TmcAmqzOlETDdrO5NBSbfP5GZZQ5y7Z3RZ50CZO4ZX2fqCSDYH2p4fs7n1RWHCz08rA9p+N/dPVf0CY0jHlA=='\n",
      "\u001b[92m | BaseHashStash._get()  <<<  b'eJzVVE1vgkAQ/SsbLmhjSdukFxOaHnruH1CzWWBQKg5md0hrDP+9+wFUAaN4KxcW5r2ZeW929+ilJcbenB09zvcHzvVSr3YiQ86Dj2IdREJueZwLpXZAmyLxZsxC6bAHBzcZKCvQRVRRyriOvJ/wlphAyrrZJnGuZgzD1+l8iUw/EqiUyCapvzjqWIBiB9XK8pj/gFOv0lWEXKtOz1GZ5ZShCqjc5+BaSQQJG11cUtcXY3tzvyOhQDn+X/oi+oKYvJVFOA0OY0pkmFH7MehmixnhovGt4U0U5Kk2TLsS+hJ+/Cl7fGOfBULtn4lb01hoUdYv67rungTGcHXYLXBkj2fkptHwZWiybZe90fa22z/bmmcmcP1SG7guokcYo6TmcAmqzOlETDdrO5NBSbfP5GZZQ5y7Z3RZ50CZO4ZX2fqCSDYH2p4fs7n1RWHCz08rA9p+N/dPVf0CY0jHlA=='\u001b[0m\n",
      "\u001b[92m | BaseHashStash._get()  >>>  None\u001b[0m\n",
      "\u001b[92m | encoded_value: None\u001b[0m\n",
      "\u001b[92mBaseHashStash.get_all()  >>>  None\u001b[0m\n",
      "\u001b[92mStash miss for bark_classmethod. Executing function.\u001b[0m\n",
      "\u001b[92mCaching result for bark_classmethod under {\"func\": {\"__py__\": \"__main__.Dog.bark_classmethod\", \"__pytype__\": \"function\", \"__source__\": \"@classmethod\\ndef bark_classmethod(cls, n=5):\\n    return (f'[{cls.name}] bark '*n)\"}, \"args\": {\"__py__\": \"builtins.tuple\", \"__data__\": [{\"__py__\": \"__main__.Dog\", \"__pytype__\": \"class\", \"__bases__\": [\"builtins.object\"], \"__methods__\": {\"__init__\": {\"__py__\": \"__main__.Dog.__init__\", \"__pytype__\": \"function\", \"__source__\": \"def __init__(self, name='rex') -> None:\\n    self.name = name\"}, \"bark_instance\": {\"__py__\": \"__main__.Dog.bark_instance\", \"__pytype__\": \"function\", \"__source__\": \"def bark_instance(self, n=2):\\n    return (f'[{self.name}] bark '*n)\"}, \"bark_classmethod\": {\"__py__\": \"__main__.Dog.bark_classmethod\", \"__pytype__\": \"function\", \"__source__\": \"@classmethod\\ndef bark_classmethod(cls, n=5):\\n    return (f'[{cls.name}] bark '*n)\"}, \"bark_instance_stashed\": {\"__py__\": \"__main__.Dog.bark_instance_stashed\", \"__pytype__\": \"function\", \"__source__\": \"@stashed_result\\ndef bark_instance_stashed(self, n=5):\\n    return (f'[{self.name}] bark '*n)\"}, \"bark_classmethod_stashed\": {\"__py__\": \"__main__.Dog.bark_classmethod_stashed\", \"__pytype__\": \"function\", \"__source__\": \"@classmethod\\n@stashed_result\\ndef bark_classmethod_stashed(cls, n=5):\\n    return (f'[{cls.name}] bark '*n)\"}}, \"__attrs__\": {\"name\": \"dog\"}}, 10]}, \"kwargs\": {}}\u001b[0m\n",
      "\u001b[92mBaseHashStash.set()  <<<  {'func': <function Dog.bark_classmethod at 0x108ab36d0>, 'args': (<class '__main__.Dog'>, 10), 'kwargs': {}}, '[dog] bark [dog] bark [dog] bark [dog] bark [dog] bark [dog] bark [dog] bark [dog] bark [dog] bark [dog] bark '\u001b[0m\n",
      "\u001b[92m | b'eJzVVE1vgkAQ/SsbLmhjSdukFxOaHnruH1CzWWBQKg5md0hrDP+9+wFUAaN4KxcW5r2ZeW929+ilJcbenB09zvcHzvVSr3YiQ86Dj2IdREJueZwLpXZAmyLxZsxC6bAHBzcZKCvQRVRRyriOvJ/wlphAyrrZJnGuZgzD1+l8iUw/EqiUyCapvzjqWIBiB9XK8pj/gFOv0lWEXKtOz1GZ5ZShCqjc5+BaSQQJG11cUtcXY3tzvyOhQDn+X/oi+oKYvJVFOA0OY0pkmFH7MehmixnhovGt4U0U5Kk2TLsS+hJ+/Cl7fGOfBULtn4lb01hoUdYv67rungTGcHXYLXBkj2fkptHwZWiybZe90fa22z/bmmcmcP1SG7guokcYo6TmcAmqzOlETDdrO5NBSbfP5GZZQ5y7Z3RZ50CZO4ZX2fqCSDYH2p4fs7n1RWHCz08rA9p+N/dPVf0CY0jHlA=='\u001b[0m\n",
      "\u001b[92m | BaseHashStash.get_all()  <<<  {'func': <function Dog.bark_classmethod at 0x108ab36d0>, 'args': (<class '__main__.Dog'>, 10), 'kwargs': {}}, all_results=True, default=[], with_metadata=False\u001b[0m\n",
      "\u001b[92m |  | unencoded_key: {'func': <function Dog.bark_classmethod at 0x108ab36d0>, 'args': (<class '__main__.Dog'>, 10), 'kwargs': {}}\u001b[0m\n",
      "\u001b[92m |  | encoded_key: b'eJzVVE1vgkAQ/SsbLmhjSdukFxOaHnruH1CzWWBQKg5md0hrDP+9+wFUAaN4KxcW5r2ZeW929+ilJcbenB09zvcHzvVSr3YiQ86Dj2IdREJueZwLpXZAmyLxZsxC6bAHBzcZKCvQRVRRyriOvJ/wlphAyrrZJnGuZgzD1+l8iUw/EqiUyCapvzjqWIBiB9XK8pj/gFOv0lWEXKtOz1GZ5ZShCqjc5+BaSQQJG11cUtcXY3tzvyOhQDn+X/oi+oKYvJVFOA0OY0pkmFH7MehmixnhovGt4U0U5Kk2TLsS+hJ+/Cl7fGOfBULtn4lb01hoUdYv67rungTGcHXYLXBkj2fkptHwZWiybZe90fa22z/bmmcmcP1SG7guokcYo6TmcAmqzOlETDdrO5NBSbfP5GZZQ5y7Z3RZ50CZO4ZX2fqCSDYH2p4fs7n1RWHCz08rA9p+N/dPVf0CY0jHlA=='\u001b[0m\n",
      "b'eJzVVE1vgkAQ/SsbLmhjSdukFxOaHnruH1CzWWBQKg5md0hrDP+9+wFUAaN4KxcW5r2ZeW929+ilJcbenB09zvcHzvVSr3YiQ86Dj2IdREJueZwLpXZAmyLxZsxC6bAHBzcZKCvQRVRRyriOvJ/wlphAyrrZJnGuZgzD1+l8iUw/EqiUyCapvzjqWIBiB9XK8pj/gFOv0lWEXKtOz1GZ5ZShCqjc5+BaSQQJG11cUtcXY3tzvyOhQDn+X/oi+oKYvJVFOA0OY0pkmFH7MehmixnhovGt4U0U5Kk2TLsS+hJ+/Cl7fGOfBULtn4lb01hoUdYv67rungTGcHXYLXBkj2fkptHwZWiybZe90fa22z/bmmcmcP1SG7guokcYo6TmcAmqzOlETDdrO5NBSbfP5GZZQ5y7Z3RZ50CZO4ZX2fqCSDYH2p4fs7n1RWHCz08rA9p+N/dPVf0CY0jHlA=='\n",
      "\u001b[92m |  | BaseHashStash._get()  <<<  b'eJzVVE1vgkAQ/SsbLmhjSdukFxOaHnruH1CzWWBQKg5md0hrDP+9+wFUAaN4KxcW5r2ZeW929+ilJcbenB09zvcHzvVSr3YiQ86Dj2IdREJueZwLpXZAmyLxZsxC6bAHBzcZKCvQRVRRyriOvJ/wlphAyrrZJnGuZgzD1+l8iUw/EqiUyCapvzjqWIBiB9XK8pj/gFOv0lWEXKtOz1GZ5ZShCqjc5+BaSQQJG11cUtcXY3tzvyOhQDn+X/oi+oKYvJVFOA0OY0pkmFH7MehmixnhovGt4U0U5Kk2TLsS+hJ+/Cl7fGOfBULtn4lb01hoUdYv67rungTGcHXYLXBkj2fkptHwZWiybZe90fa22z/bmmcmcP1SG7guokcYo6TmcAmqzOlETDdrO5NBSbfP5GZZQ5y7Z3RZ50CZO4ZX2fqCSDYH2p4fs7n1RWHCz08rA9p+N/dPVf0CY0jHlA=='\u001b[0m\n",
      "\u001b[92m |  | BaseHashStash._get()  >>>  None\u001b[0m\n",
      "\u001b[92m |  | encoded_value: None\u001b[0m\n",
      "\u001b[92m | BaseHashStash.get_all()  >>>  []\u001b[0m\n",
      "\u001b[92m | BaseHashStash._set()  <<<  b'eJzVVE1vgkAQ/SsbLmhjSdukFxOaHnruH1CzWWBQKg5md0hrDP+9+wFUAaN4KxcW5r2ZeW929+ilJcbenB09zvcHzvVSr3YiQ86Dj2IdREJueZwLpXZAmyLxZsxC6bAHBzcZKCvQRVRRyriOvJ/wlphAyrrZJnGuZgzD1+l8iUw/EqiUyCapvzjqWIBiB9XK8pj/gFOv0lWEXKtOz1GZ5ZShCqjc5+BaSQQJG11cUtcXY3tzvyOhQDn+X/oi+oKYvJVFOA0OY0pkmFH7MehmixnhovGt4U0U5Kk2TLsS+hJ+/Cl7fGOfBULtn4lb01hoUdYv67rungTGcHXYLXBkj2fkptHwZWiybZe90fa22z/bmmcmcP1SG7guokcYo6TmcAmqzOlETDdrO5NBSbfP5GZZQ5y7Z3RZ50CZO4ZX2fqCSDYH2p4fs7n1RWHCz08rA9p+N/dPVf0CY0jHlA==', b'eJyLVopOyU+PVUhKLMpWoANTKRYA2BsnMQ=='\u001b[0m\n",
      "\u001b[92m | BaseHashStash._set()  >>>  None\u001b[0m\n",
      "\u001b[92mBaseHashStash.set()  >>>  None\u001b[0m\n"
     ]
    },
    {
     "data": {
      "text/plain": [
       "'[dog] bark [dog] bark [dog] bark [dog] bark [dog] bark [dog] bark [dog] bark [dog] bark [dog] bark [dog] bark '"
      ]
     },
     "execution_count": 11,
     "metadata": {},
     "output_type": "execute_result"
    }
   ],
   "source": [
    "stash.run(func, 10)"
   ]
  },
  {
   "cell_type": "code",
   "execution_count": null,
   "metadata": {},
   "outputs": [
    {
     "name": "stdout",
     "output_type": "stream",
     "text": [
      "\u001b[92mBaseHashStash.get_all()  <<<  {'func': <bound method Dog.bark_classmethod of <class '__main__.Dog'>>, 'args': (<class '__main__.Dog'>, 10), 'kwargs': {}}, all_results=None, with_metadata=False\u001b[0m\n",
      "\u001b[92m | unencoded_key: {'func': <bound method Dog.bark_classmethod of <class '__main__.Dog'>>, 'args': (<class '__main__.Dog'>, 10), 'kwargs': {}}\u001b[0m\n",
      "\u001b[92m | encoded_key: b'eJztVMtugzAQ/BXLF0hFUVupl0ipeui5P5BEliFLQgIG2YvaKOLfa8wjNECeV7hgeXd2Z7z2HGiQCZ9OyYEylu4Z00u9inkoGHO/krXrcbljfsSVigE3yYo6xKTiPoUyvRP0I2UiQzUHSpTbHldQwufUy8IIQ6HcxNuCj3RpMspWxxahCPFsP7fJ6TQu1GOYiDKikkz6VWQFAalxtoIocIjgMcwsCb/WhDx/kO9EwHQhiP6KuFuEycxk0VzXMyen2SMXPlw84ibxRo7/wDXR2dukYiYBMymIHVjzQ8MyXxoYsZ7E5Ei1PceHLsQw4c8WbiEa+q1dW1+eQsB7nwAdO8O/PgSmf2oDl0V0ALcoqTBMgsoibIk5rdrMpFfS9TO5WlYf5u4ZDevsaXPH8HLTnyPK+kGb91Ncbm0UuYlzuVYnqhtnwCyNqjez4shL4xiNZzSe0XhG43nEeBzy+rIsknY/tf/k+R8sVh40'\u001b[0m\n",
      "b'eJztVMtugzAQ/BXLF0hFUVupl0ipeui5P5BEliFLQgIG2YvaKOLfa8wjNECeV7hgeXd2Z7z2HGiQCZ9OyYEylu4Z00u9inkoGHO/krXrcbljfsSVigE3yYo6xKTiPoUyvRP0I2UiQzUHSpTbHldQwufUy8IIQ6HcxNuCj3RpMspWxxahCPFsP7fJ6TQu1GOYiDKikkz6VWQFAalxtoIocIjgMcwsCb/WhDx/kO9EwHQhiP6KuFuEycxk0VzXMyen2SMXPlw84ibxRo7/wDXR2dukYiYBMymIHVjzQ8MyXxoYsZ7E5Ei1PceHLsQw4c8WbiEa+q1dW1+eQsB7nwAdO8O/PgSmf2oDl0V0ALcoqTBMgsoibIk5rdrMpFfS9TO5WlYf5u4ZDevsaXPH8HLTnyPK+kGb91Ncbm0UuYlzuVYnqhtnwCyNqjez4shL4xiNZzSe0XhG43nEeBzy+rIsknY/tf/k+R8sVh40'\n",
      "\u001b[92m | BaseHashStash._get()  <<<  b'eJztVMtugzAQ/BXLF0hFUVupl0ipeui5P5BEliFLQgIG2YvaKOLfa8wjNECeV7hgeXd2Z7z2HGiQCZ9OyYEylu4Z00u9inkoGHO/krXrcbljfsSVigE3yYo6xKTiPoUyvRP0I2UiQzUHSpTbHldQwufUy8IIQ6HcxNuCj3RpMspWxxahCPFsP7fJ6TQu1GOYiDKikkz6VWQFAalxtoIocIjgMcwsCb/WhDx/kO9EwHQhiP6KuFuEycxk0VzXMyen2SMXPlw84ibxRo7/wDXR2dukYiYBMymIHVjzQ8MyXxoYsZ7E5Ei1PceHLsQw4c8WbiEa+q1dW1+eQsB7nwAdO8O/PgSmf2oDl0V0ALcoqTBMgsoibIk5rdrMpFfS9TO5WlYf5u4ZDevsaXPH8HLTnyPK+kGb91Ncbm0UuYlzuVYnqhtnwCyNqjez4shL4xiNZzSe0XhG43nEeBzy+rIsknY/tf/k+R8sVh40'\u001b[0m\n",
      "\u001b[92m | BaseHashStash._get()  >>>  None\u001b[0m\n",
      "\u001b[92m | encoded_value: None\u001b[0m\n",
      "\u001b[92mBaseHashStash.get_all()  >>>  None\u001b[0m\n"
     ]
    },
    {
     "data": {
      "text/plain": [
       "[]"
      ]
     },
     "execution_count": 12,
     "metadata": {},
     "output_type": "execute_result"
    }
   ],
   "source": [
    "func.stash.items_l()"
   ]
  },
  {
   "cell_type": "code",
   "execution_count": null,
   "metadata": {},
   "outputs": [
    {
     "data": {
      "text/plain": [
       "<bound method Dog.bark_classmethod of <class '__main__.Dog'>>"
      ]
     },
     "execution_count": 13,
     "metadata": {},
     "output_type": "execute_result"
    }
   ],
   "source": [
    "FunctionSerializer.deserialize(FunctionSerializer.serialize(func))"
   ]
  },
  {
   "cell_type": "code",
   "execution_count": null,
   "metadata": {},
   "outputs": [
    {
     "data": {
      "text/plain": [
       "True"
      ]
     },
     "execution_count": 14,
     "metadata": {},
     "output_type": "execute_result"
    }
   ],
   "source": [
    "func_b = encode(serialize(func))\n",
    "func2 = deserialize(decode(func_b))\n",
    "func2 == func"
   ]
  },
  {
   "cell_type": "code",
   "execution_count": null,
   "metadata": {},
   "outputs": [],
   "source": [
    "stash = HashStash(engine='memory')"
   ]
  },
  {
   "cell_type": "code",
   "execution_count": null,
   "metadata": {},
   "outputs": [
    {
     "name": "stdout",
     "output_type": "stream",
     "text": [
      "classmethod\n",
      "\u001b[92margs: [<class '__main__.Dog'>, <class '__main__.Dog'>, 10]\u001b[0m\n",
      "\u001b[92mBaseHashStash.get_all()  <<<  {'func': <function Dog.bark_classmethod at 0x108ab36d0>, 'args': (<class '__main__.Dog'>, <class '__main__.Dog'>, 10), 'kwargs': {}}, default=None, with_metadata=False, all_results=False, as_dataframe=None\u001b[0m\n",
      "\u001b[92m | unencoded_key: {'func': <function Dog.bark_classmethod at 0x108ab36d0>, 'args': (<class '__main__.Dog'>, <class '__main__.Dog'>, 10), 'kwargs': {}}\u001b[0m\n",
      "\u001b[92m | encoded_key: b'eJztVttugkAQ/ZUNL2hjSdukLyY0fehzf0DNZsFBURjM7pDWGP69exGqgvHSpybwwmXO2ZlzZnfCzktKjL0x23mcb7ac60f9lIsUOQ8+ikUQCbnmcSaUyoGWxdwbMQul7QYc3KxAaYEuoopSxvvI+wFvinNI2OlqgzhTI4bh63A8RaYvCVRKZIPEn+x0LECRQzWzPOY/4NCrdBYhF+qk5qhMM0pRBVRuMnClzAUJG52cU9cWY2tznyOhQDn+7/JFtIKYvJlFOA0OY1KkmFLz0ulmg7nBReNbzRsoyBJtmHYl9CV8+0P2+MY+C4S9fyZuTWOhRVm/rOu6ehIYw8VmN8Abazwi14WGL12dbapstba13f7Z1jwygeubWsJlES3CLUr2HC5BlRkdiDldtelJp6Tre3K1rC7O3T06r7MjzR3Nq2x+QSTrA23Pj9ncelCYcD9F+inST5F+ivxtijw/zQxo/VX/xVTVDx5+O6k='\u001b[0m\n",
      "b'eJztVttugkAQ/ZUNL2hjSdukLyY0fehzf0DNZsFBURjM7pDWGP69exGqgvHSpybwwmXO2ZlzZnfCzktKjL0x23mcb7ac60f9lIsUOQ8+ikUQCbnmcSaUyoGWxdwbMQul7QYc3KxAaYEuoopSxvvI+wFvinNI2OlqgzhTI4bh63A8RaYvCVRKZIPEn+x0LECRQzWzPOY/4NCrdBYhF+qk5qhMM0pRBVRuMnClzAUJG52cU9cWY2tznyOhQDn+7/JFtIKYvJlFOA0OY1KkmFLz0ulmg7nBReNbzRsoyBJtmHYl9CV8+0P2+MY+C4S9fyZuTWOhRVm/rOu6ehIYw8VmN8Abazwi14WGL12dbapstba13f7Z1jwygeubWsJlES3CLUr2HC5BlRkdiDldtelJp6Tre3K1rC7O3T06r7MjzR3Nq2x+QSTrA23Pj9ncelCYcD9F+inST5F+ivxtijw/zQxo/VX/xVTVDx5+O6k='\n",
      "\u001b[92m | BaseHashStash._get()  <<<  b'eJztVttugkAQ/ZUNL2hjSdukLyY0fehzf0DNZsFBURjM7pDWGP69exGqgvHSpybwwmXO2ZlzZnfCzktKjL0x23mcb7ac60f9lIsUOQ8+ikUQCbnmcSaUyoGWxdwbMQul7QYc3KxAaYEuoopSxvvI+wFvinNI2OlqgzhTI4bh63A8RaYvCVRKZIPEn+x0LECRQzWzPOY/4NCrdBYhF+qk5qhMM0pRBVRuMnClzAUJG52cU9cWY2tznyOhQDn+7/JFtIKYvJlFOA0OY1KkmFLz0ulmg7nBReNbzRsoyBJtmHYl9CV8+0P2+MY+C4S9fyZuTWOhRVm/rOu6ehIYw8VmN8Abazwi14WGL12dbapstba13f7Z1jwygeubWsJlES3CLUr2HC5BlRkdiDldtelJp6Tre3K1rC7O3T06r7MjzR3Nq2x+QSTrA23Pj9ncelCYcD9F+inST5F+ivxtijw/zQxo/VX/xVTVDx5+O6k='\u001b[0m\n",
      "\u001b[92m | BaseHashStash._get()  >>>  None\u001b[0m\n",
      "\u001b[92m | encoded_value: None\u001b[0m\n",
      "\u001b[92mBaseHashStash.get_all()  >>>  None\u001b[0m\n",
      "\u001b[92mStash miss for bark_classmethod. Executing function.\u001b[0m\n",
      "\u001b[91mError in run: Dog.bark_classmethod() takes from 1 to 2 positional arguments but 3 were given\u001b[0m\n"
     ]
    },
    {
     "ename": "TypeError",
     "evalue": "Dog.bark_classmethod() takes from 1 to 2 positional arguments but 3 were given",
     "output_type": "error",
     "traceback": [
      "\u001b[0;31m---------------------------------------------------------------------------\u001b[0m",
      "\u001b[0;31mTypeError\u001b[0m                                 Traceback (most recent call last)",
      "Cell \u001b[0;32mIn[16], line 1\u001b[0m\n\u001b[0;32m----> 1\u001b[0m \u001b[43mstash\u001b[49m\u001b[38;5;241;43m.\u001b[39;49m\u001b[43mrun\u001b[49m\u001b[43m(\u001b[49m\u001b[43mfunc\u001b[49m\u001b[43m,\u001b[49m\u001b[43m \u001b[49m\u001b[43mDog\u001b[49m\u001b[43m,\u001b[49m\u001b[43m \u001b[49m\u001b[38;5;241;43m10\u001b[39;49m\u001b[43m)\u001b[49m\n",
      "File \u001b[0;32m~/github/hashstash/notebooks/../hashstash/utils/logs.py:89\u001b[0m, in \u001b[0;36mlog_wrapper.<locals>.decorator.<locals>.wrapper\u001b[0;34m(*args, **kwargs)\u001b[0m\n\u001b[1;32m     87\u001b[0m     log\u001b[38;5;241m.\u001b[39merror(\u001b[38;5;124mf\u001b[39m\u001b[38;5;124m\"\u001b[39m\u001b[38;5;124mError in \u001b[39m\u001b[38;5;132;01m{\u001b[39;00mfunc\u001b[38;5;241m.\u001b[39m\u001b[38;5;18m__name__\u001b[39m\u001b[38;5;132;01m}\u001b[39;00m\u001b[38;5;124m: \u001b[39m\u001b[38;5;132;01m{\u001b[39;00m\u001b[38;5;28mstr\u001b[39m(e)\u001b[38;5;132;01m}\u001b[39;00m\u001b[38;5;124m\"\u001b[39m)\n\u001b[1;32m     88\u001b[0m     current_depth \u001b[38;5;241m=\u001b[39m \u001b[38;5;241m0\u001b[39m\n\u001b[0;32m---> 89\u001b[0m     \u001b[38;5;28;01mraise\u001b[39;00m e\n\u001b[1;32m     91\u001b[0m \u001b[38;5;28;01mif\u001b[39;00m level\u001b[38;5;241m>\u001b[39m\u001b[38;5;241m=\u001b[39mlogger\u001b[38;5;241m.\u001b[39mlevel:\n\u001b[1;32m     92\u001b[0m     current_depth \u001b[38;5;241m-\u001b[39m\u001b[38;5;241m=\u001b[39m \u001b[38;5;241m1\u001b[39m\n",
      "File \u001b[0;32m~/github/hashstash/notebooks/../hashstash/utils/logs.py:85\u001b[0m, in \u001b[0;36mlog_wrapper.<locals>.decorator.<locals>.wrapper\u001b[0;34m(*args, **kwargs)\u001b[0m\n\u001b[1;32m     82\u001b[0m     current_depth \u001b[38;5;241m+\u001b[39m\u001b[38;5;241m=\u001b[39m \u001b[38;5;241m1\u001b[39m\n\u001b[1;32m     84\u001b[0m \u001b[38;5;28;01mtry\u001b[39;00m:\n\u001b[0;32m---> 85\u001b[0m     result \u001b[38;5;241m=\u001b[39m \u001b[43mfunc\u001b[49m\u001b[43m(\u001b[49m\u001b[38;5;241;43m*\u001b[39;49m\u001b[43margs\u001b[49m\u001b[43m,\u001b[49m\u001b[43m \u001b[49m\u001b[38;5;241;43m*\u001b[39;49m\u001b[38;5;241;43m*\u001b[39;49m\u001b[43mkwargs\u001b[49m\u001b[43m)\u001b[49m\n\u001b[1;32m     86\u001b[0m \u001b[38;5;28;01mexcept\u001b[39;00m \u001b[38;5;167;01mException\u001b[39;00m \u001b[38;5;28;01mas\u001b[39;00m e:\n\u001b[1;32m     87\u001b[0m     log\u001b[38;5;241m.\u001b[39merror(\u001b[38;5;124mf\u001b[39m\u001b[38;5;124m\"\u001b[39m\u001b[38;5;124mError in \u001b[39m\u001b[38;5;132;01m{\u001b[39;00mfunc\u001b[38;5;241m.\u001b[39m\u001b[38;5;18m__name__\u001b[39m\u001b[38;5;132;01m}\u001b[39;00m\u001b[38;5;124m: \u001b[39m\u001b[38;5;132;01m{\u001b[39;00m\u001b[38;5;28mstr\u001b[39m(e)\u001b[38;5;132;01m}\u001b[39;00m\u001b[38;5;124m\"\u001b[39m)\n",
      "File \u001b[0;32m~/github/hashstash/notebooks/../hashstash/engines/base.py:324\u001b[0m, in \u001b[0;36mBaseHashStash.run\u001b[0;34m(self, func, *args, **kwargs)\u001b[0m\n\u001b[1;32m    320\u001b[0m log\u001b[38;5;241m.\u001b[39minfo(\u001b[38;5;124mf\u001b[39m\u001b[38;5;124m\"\u001b[39m\u001b[38;5;132;01m{\u001b[39;00mnote\u001b[38;5;132;01m}\u001b[39;00m\u001b[38;5;124m for \u001b[39m\u001b[38;5;132;01m{\u001b[39;00mfunc\u001b[38;5;241m.\u001b[39m\u001b[38;5;18m__name__\u001b[39m\u001b[38;5;132;01m}\u001b[39;00m\u001b[38;5;124m. Executing function.\u001b[39m\u001b[38;5;124m\"\u001b[39m)\n\u001b[1;32m    322\u001b[0m \u001b[38;5;66;03m# call func\u001b[39;00m\n\u001b[1;32m    323\u001b[0m \u001b[38;5;66;03m# args = [obj] + list(args) if obj else list(args)\u001b[39;00m\n\u001b[0;32m--> 324\u001b[0m result \u001b[38;5;241m=\u001b[39m \u001b[43mfunc\u001b[49m\u001b[43m(\u001b[49m\u001b[38;5;241;43m*\u001b[39;49m\u001b[43margs\u001b[49m\u001b[43m,\u001b[49m\u001b[43m \u001b[49m\u001b[38;5;241;43m*\u001b[39;49m\u001b[38;5;241;43m*\u001b[39;49m\u001b[43mkwargs\u001b[49m\u001b[43m)\u001b[49m\n\u001b[1;32m    325\u001b[0m result \u001b[38;5;241m=\u001b[39m \u001b[38;5;28mlist\u001b[39m(result) \u001b[38;5;28;01mif\u001b[39;00m is_generator(result) \u001b[38;5;28;01melse\u001b[39;00m result\n\u001b[1;32m    326\u001b[0m log\u001b[38;5;241m.\u001b[39minfo(\u001b[38;5;124mf\u001b[39m\u001b[38;5;124m\"\u001b[39m\u001b[38;5;124mCaching result for \u001b[39m\u001b[38;5;132;01m{\u001b[39;00mfunc\u001b[38;5;241m.\u001b[39m\u001b[38;5;18m__name__\u001b[39m\u001b[38;5;132;01m}\u001b[39;00m\u001b[38;5;124m under \u001b[39m\u001b[38;5;132;01m{\u001b[39;00mserialize(unencoded_key)\u001b[38;5;132;01m}\u001b[39;00m\u001b[38;5;124m\"\u001b[39m)\n",
      "\u001b[0;31mTypeError\u001b[0m: Dog.bark_classmethod() takes from 1 to 2 positional arguments but 3 were given"
     ]
    }
   ],
   "source": [
    "stash.run(func, Dog, 10)"
   ]
  },
  {
   "cell_type": "code",
   "execution_count": null,
   "metadata": {},
   "outputs": [
    {
     "data": {
      "text/plain": [
       "True"
      ]
     },
     "execution_count": 8,
     "metadata": {},
     "output_type": "execute_result"
    }
   ],
   "source": [
    "keyb1=b'eJzVVE1vgkAQ/SsbLmhjSdukFxOaHnruH1CzWWBQKg5md0hrDP+9+wFUAaN4KxcW5r2ZeW929+ilJcbenB09zvcHzvVSr3YiQ86Dj2IdREJueZwLpXZAmyLxZsxC6bAHBzcZKCvQRVRRyriOvJ/wlphAyrrZJnGuZgzD1+l8iUw/EqiUyCapvzjqWIBiB9XK8pj/gFOv0lWEXKtOz1GZ5ZShCqjc5+BaSQQJG11cUtcXY3tzvyOhQDn+X/oi+oKYvJVFOA0OY0pkmFH7MehmixnhovGt4U0U5Kk2TLsS+hJ+/Cl7fGOfBULtn4lb01hoUdYv67rungTGcHXYLXBkj2fkptHwZWiybZe90fa22z/bmmcmcP1SG7guokcYo6TmcAmqzOlETDdrO5NBSbfP5GZZQ5y7Z3RZ50CZO4ZX2fqCSDYH2p4fs7n1RWHCz08rA9p+N/dPVf0CY0jHlA=='\n",
    "keyb2=b'eJzVVE1vgkAQ/SsbLmhjSdukFxOaHnruH1CzWWBQKg5md0hrDP+9+wFUAaN4KxcW5r2ZeW929+ilJcbenB09zvcHzvVSr3YiQ86Dj2IdREJueZwLpXZAmyLxZsxC6bAHBzcZKCvQRVRRyriOvJ/wlphAyrrZJnGuZgzD1+l8iUw/EqiUyCapvzjqWIBiB9XK8pj/gFOv0lWEXKtOz1GZ5ZShCqjc5+BaSQQJG11cUtcXY3tzvyOhQDn+X/oi+oKYvJVFOA0OY0pkmFH7MehmixnhovGt4U0U5Kk2TLsS+hJ+/Cl7fGOfBULtn4lb01hoUdYv67rungTGcHXYLXBkj2fkptHwZWiybZe90fa22z/bmmcmcP1SG7guokcYo6TmcAmqzOlETDdrO5NBSbfP5GZZQ5y7Z3RZ50CZO4ZX2fqCSDYH2p4fs7n1RWHCz08rA9p+N/dPVf0CY0jHlA=='\n",
    "\n",
    "keyb1 == keyb2"
   ]
  },
  {
   "cell_type": "code",
   "execution_count": null,
   "metadata": {},
   "outputs": [
    {
     "data": {
      "text/plain": [
       "{'func': <bound method Dog.bark_classmethod of <class '__main__.Dog'>>,\n",
       " 'args': (__main__.Dog, 10),\n",
       " 'kwargs': {}}"
      ]
     },
     "execution_count": 14,
     "metadata": {},
     "output_type": "execute_result"
    }
   ],
   "source": [
    "deserialize(decode((keyb1)))"
   ]
  },
  {
   "cell_type": "code",
   "execution_count": null,
   "metadata": {},
   "outputs": [
    {
     "name": "stdout",
     "output_type": "stream",
     "text": [
      "\u001b[92mBaseHashStash.get_all()  <<<  {'func': <bound method Dog.bark_classmethod of <class '__main__.Dog'>>, 'args': (<class '__main__.Dog'>, 10), 'kwargs': {}}, default=None, with_metadata=False, all_results=False, as_dataframe=None\u001b[0m\n",
      "\u001b[92m | unencoded_key: {'func': <bound method Dog.bark_classmethod of <class '__main__.Dog'>>, 'args': (<class '__main__.Dog'>, 10), 'kwargs': {}}\u001b[0m\n",
      "\u001b[92m | encoded_key: b'eJztVMtugzAQ/BXLF0hFUVupl0ipeui5P5BEliFLQgIG2YvaKOLfa8wjNECeV7hgeXd2Z7z2HGiQCZ9OyYEylu4Z00u9inkoGHO/krXrcbljfsSVigE3yYo6xKTiPoUyvRP0I2UiQzUHSpTbHldQwufUy8IIQ6HcxNuCj3RpMspWxxahCPFsP7fJ6TQu1GOYiDKikkz6VWQFAalxtoIocIjgMcwsCb/WhDx/kO9EwHQhiP6KuFuEycxk0VzXMyen2SMXPlw84ibxRo7/wDXR2dukYiYBMymIHVjzQ8MyXxoYsZ7E5Ei1PceHLsQw4c8WbiEa+q1dW1+eQsB7nwAdO8O/PgSmf2oDl0V0ALcoqTBMgsoibIk5rdrMpFfS9TO5WlYf5u4ZDevsaXPH8HLTnyPK+kGb91Ncbm0UuYlzuVYnqhtnwCyNqjez4shL4xiNZzSe0XhG43nEeBzy+rIsknY/tf/k+R8sVh40'\u001b[0m\n",
      "b'eJztVMtugzAQ/BXLF0hFUVupl0ipeui5P5BEliFLQgIG2YvaKOLfa8wjNECeV7hgeXd2Z7z2HGiQCZ9OyYEylu4Z00u9inkoGHO/krXrcbljfsSVigE3yYo6xKTiPoUyvRP0I2UiQzUHSpTbHldQwufUy8IIQ6HcxNuCj3RpMspWxxahCPFsP7fJ6TQu1GOYiDKikkz6VWQFAalxtoIocIjgMcwsCb/WhDx/kO9EwHQhiP6KuFuEycxk0VzXMyen2SMXPlw84ibxRo7/wDXR2dukYiYBMymIHVjzQ8MyXxoYsZ7E5Ei1PceHLsQw4c8WbiEa+q1dW1+eQsB7nwAdO8O/PgSmf2oDl0V0ALcoqTBMgsoibIk5rdrMpFfS9TO5WlYf5u4ZDevsaXPH8HLTnyPK+kGb91Ncbm0UuYlzuVYnqhtnwCyNqjez4shL4xiNZzSe0XhG43nEeBzy+rIsknY/tf/k+R8sVh40'\n",
      "\u001b[92m | BaseHashStash._get()  <<<  b'eJztVMtugzAQ/BXLF0hFUVupl0ipeui5P5BEliFLQgIG2YvaKOLfa8wjNECeV7hgeXd2Z7z2HGiQCZ9OyYEylu4Z00u9inkoGHO/krXrcbljfsSVigE3yYo6xKTiPoUyvRP0I2UiQzUHSpTbHldQwufUy8IIQ6HcxNuCj3RpMspWxxahCPFsP7fJ6TQu1GOYiDKikkz6VWQFAalxtoIocIjgMcwsCb/WhDx/kO9EwHQhiP6KuFuEycxk0VzXMyen2SMXPlw84ibxRo7/wDXR2dukYiYBMymIHVjzQ8MyXxoYsZ7E5Ei1PceHLsQw4c8WbiEa+q1dW1+eQsB7nwAdO8O/PgSmf2oDl0V0ALcoqTBMgsoibIk5rdrMpFfS9TO5WlYf5u4ZDevsaXPH8HLTnyPK+kGb91Ncbm0UuYlzuVYnqhtnwCyNqjez4shL4xiNZzSe0XhG43nEeBzy+rIsknY/tf/k+R8sVh40'\u001b[0m\n",
      "\u001b[92m | BaseHashStash._get()  >>>  None\u001b[0m\n",
      "\u001b[92m | encoded_value: None\u001b[0m\n",
      "\u001b[92mBaseHashStash.get_all()  >>>  None\u001b[0m\n"
     ]
    }
   ],
   "source": [
    "key = func.stash.keys_l()[0]\n",
    "func.stash.get(key)"
   ]
  },
  {
   "cell_type": "code",
   "execution_count": null,
   "metadata": {},
   "outputs": [
    {
     "name": "stdout",
     "output_type": "stream",
     "text": [
      "\u001b[92mBaseHashStash._get()  <<<  b'eJztVMtugzAQ/BXLF0hFUVupl0ipeui5P5BEliFLQgIG2YvaKOLfa8wjNECeV7hgeXd2Z7z2HGiQCZ9OyYEylu4Z00u9inkoGHO/krXrcbljfsSVigE3yYo6xKTiPoUyvRP0I2UiQzUHSpTbHldQwufUy8IIQ6HcxNuCj3RpMspWxxahCPFsP7fJ6TQu1GOYiDKikkz6VWQFAalxtoIocIjgMcwsCb/WhDx/kO9EwHQhiP6KuFuEycxk0VzXMyen2SMXPlw84ibxRo7/wDXR2dukYiYBMymIHVjzQ8MyXxoYsZ7E5Ei1PceHLsQw4c8WbiEa+q1dW1+eQsB7nwAdO8O/PgSmf2oDl0V0ALcoqTBMgsoibIk5rdrMpFfS9TO5WlYf5u4ZDevsaXPH8HLTnyPK+kGb91Ncbm0UuYlzuVYnqhtnwCyNqjez4shL4xiNZzSe0XhG43nEeBzy+rIsknY/tf/k+R8sVh40'\u001b[0m\n",
      "\u001b[92mBaseHashStash._get()  >>>  None\u001b[0m\n",
      "b'eJztVMtugzAQ/BXLF0hFUVupl0ipeui5P5BEliFLQgIG2YvaKOLfa8wjNECeV7hgeXd2Z7z2HGiQCZ9OyYEylu4Z00u9inkoGHO/krXrcbljfsSVigE3yYo6xKTiPoUyvRP0I2UiQzUHSpTbHldQwufUy8IIQ6HcxNuCj3RpMspWxxahCPFsP7fJ6TQu1GOYiDKikkz6VWQFAalxtoIocIjgMcwsCb/WhDx/kO9EwHQhiP6KuFuEycxk0VzXMyen2SMXPlw84ibxRo7/wDXR2dukYiYBMymIHVjzQ8MyXxoYsZ7E5Ei1PceHLsQw4c8WbiEa+q1dW1+eQsB7nwAdO8O/PgSmf2oDl0V0ALcoqTBMgsoibIk5rdrMpFfS9TO5WlYf5u4ZDevsaXPH8HLTnyPK+kGb91Ncbm0UuYlzuVYnqhtnwCyNqjez4shL4xiNZzSe0XhG43nEeBzy+rIsknY/tf/k+R8sVh40'\n"
     ]
    }
   ],
   "source": [
    "key_b = encode(serialize(key))\n",
    "func.stash._get(key_b)\n",
    "print(key_b)"
   ]
  },
  {
   "cell_type": "code",
   "execution_count": null,
   "metadata": {},
   "outputs": [
    {
     "data": {
      "text/plain": [
       "True"
      ]
     },
     "execution_count": 26,
     "metadata": {},
     "output_type": "execute_result"
    }
   ],
   "source": [
    "deserialize(decode(encode(serialize(Dog)))) == Dog"
   ]
  },
  {
   "cell_type": "code",
   "execution_count": null,
   "metadata": {},
   "outputs": [
    {
     "data": {
      "text/plain": [
       "(False,\n",
       " b'eJztVMtugzAQ/BXLF0hFUVupl0ipeui5P5BEliFLQgIG2YvaKOLfa8wjNECeV7hgeXd2Z7z2HGiQCZ9OyYEylu4Z00u9inkoGHO/krXrcbljfsSVigE3yYo6xKTiPoUyvRP0I2UiQzUHSpTbHldQwufUy8IIQ6HcxNuCj3RpMspWxxahCPFsP7fJ6TQu1GOYiDKikkz6VWQFAalxtoIocIjgMcwsCb/WhDx/kO9EwHQhiP6KuFuEycxk0VzXMyen2SMXPlw84ibxRo7/wDXR2dukYiYBMymIHVjzQ8MyXxoYsZ7E5Ei1PceHLsQw4c8WbiEa+q1dW1+eQsB7nwAdO8O/PgSmf2oDl0V0ALcoqTBMgsoibIk5rdrMpFfS9TO5WlYf5u4ZDevsaXPH8HLTnyPK+kGb91Ncbm0UuYlzuVYnqhtnwCyNqjez4shL4xiNZzSe0XhG43nEeBzy+rIsknY/tf/k+R8sVh40',\n",
       " b'eJzVVE1vgkAQ/SsbLmhjSdukFxOaHnruH1CzWWBQKg5md0hrDP+9+wFUAaN4KxcW5r2ZeW929+ilJcbenB09zvcHzvVSr3YiQ86Dj2IdREJueZwLpXZAmyLxZsxC6bAHBzcZKCvQRVRRyriOvJ/wlphAyrrZJnGuZgzD1+l8iUw/EqiUyCapvzjqWIBiB9XK8pj/gFOv0lWEXKtOz1GZ5ZShCqjc5+BaSQQJG11cUtcXY3tzvyOhQDn+X/oi+oKYvJVFOA0OY0pkmFH7MehmixnhovGt4U0U5Kk2TLsS+hJ+/Cl7fGOfBULtn4lb01hoUdYv67rungTGcHXYLXBkj2fkptHwZWiybZe90fa22z/bmmcmcP1SG7guokcYo6TmcAmqzOlETDdrO5NBSbfP5GZZQ5y7Z3RZ50CZO4ZX2fqCSDYH2p4fs7n1RWHCz08rA9p+N/dPVf0CY0jHlA==')"
      ]
     },
     "execution_count": 21,
     "metadata": {},
     "output_type": "execute_result"
    }
   ],
   "source": [
    "key_b == keyb1, key_b, keyb1"
   ]
  },
  {
   "cell_type": "code",
   "execution_count": null,
   "metadata": {},
   "outputs": [
    {
     "data": {
      "text/plain": [
       "{'func': <bound method Dog.bark_classmethod of <class '__main__.Dog'>>,\n",
       " 'args': (10,),\n",
       " 'kwargs': {}}"
      ]
     },
     "execution_count": 12,
     "metadata": {},
     "output_type": "execute_result"
    }
   ],
   "source": [
    "key = {'func': func, 'args': (10,), 'kwargs': {}}\n",
    "key"
   ]
  },
  {
   "cell_type": "code",
   "execution_count": null,
   "metadata": {},
   "outputs": [
    {
     "data": {
      "text/plain": [
       "{'func': <bound method Dog.bark_classmethod of <class '__main__.Dog'>>,\n",
       " 'args': (__main__.Dog, 10),\n",
       " 'kwargs': {}}"
      ]
     },
     "execution_count": 22,
     "metadata": {},
     "output_type": "execute_result"
    }
   ],
   "source": [
    "deserialize(decode(orig_key_b))"
   ]
  },
  {
   "cell_type": "code",
   "execution_count": null,
   "metadata": {},
   "outputs": [
    {
     "data": {
      "text/plain": [
       "False"
      ]
     },
     "execution_count": 23,
     "metadata": {},
     "output_type": "execute_result"
    }
   ],
   "source": [
    "deserialize(decode(orig_key_b)) == key"
   ]
  },
  {
   "cell_type": "code",
   "execution_count": null,
   "metadata": {},
   "outputs": [],
   "source": []
  }
 ],
 "metadata": {
  "kernelspec": {
   "display_name": "venv",
   "language": "python",
   "name": "python3"
  },
  "language_info": {
   "codemirror_mode": {
    "name": "ipython",
    "version": 3
   },
   "file_extension": ".py",
   "mimetype": "text/x-python",
   "name": "python",
   "nbconvert_exporter": "python",
   "pygments_lexer": "ipython3",
   "version": "3.10.7"
  }
 },
 "nbformat": 4,
 "nbformat_minor": 2
}
