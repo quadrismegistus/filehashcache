{
 "cells": [
  {
   "cell_type": "code",
   "execution_count": 1,
   "metadata": {},
   "outputs": [],
   "source": [
    "import sys; sys.path.append('..')\n",
    "from filehashcache.etc.performance import *\n",
    "profiler = FileHashCacheProfiler()"
   ]
  },
  {
   "cell_type": "code",
   "execution_count": 2,
   "metadata": {},
   "outputs": [
    {
     "data": {
      "text/plain": [
       "True"
      ]
     },
     "execution_count": 2,
     "metadata": {},
     "output_type": "execute_result"
    }
   ],
   "source": [
    "Cache('shelve') is Cache('shelve')"
   ]
  },
  {
   "cell_type": "code",
   "execution_count": 3,
   "metadata": {},
   "outputs": [
    {
     "data": {
      "text/plain": [
       "['10', '100', '1,000']"
      ]
     },
     "execution_count": 3,
     "metadata": {},
     "output_type": "execute_result"
    }
   ],
   "source": [
    "profile_sizes=generate_profile_sizes(3, 10, 10)\n",
    "[f'{x:,}' for x in profile_sizes]"
   ]
  },
  {
   "cell_type": "code",
   "execution_count": 17,
   "metadata": {},
   "outputs": [
    {
     "data": {
      "text/plain": [
       "{'size': [1000, 10000, 10000, 100000, 1000000],\n",
       " 'num_proc': [1, 3, 5, 7, 9],\n",
       " 'iterations': 1000,\n",
       " 'compress': [True],\n",
       " 'b64': [True],\n",
       " 'profile_by': ('engine',)}"
      ]
     },
     "execution_count": 17,
     "metadata": {},
     "output_type": "execute_result"
    }
   ],
   "source": [
    "profile_kwargs = dict(\n",
    "    size=[1_000, 10_000, 10_000, 100_000, 1_000_000],\n",
    "    num_proc = list(range(1,11,2)),\n",
    "    iterations = 1000,\n",
    "    compress=[True],\n",
    "    b64=[True],\n",
    "    profile_by=('engine',)\n",
    "    # engine=['memory']\n",
    ")\n",
    "profile_kwargs"
   ]
  },
  {
   "cell_type": "code",
   "execution_count": 18,
   "metadata": {},
   "outputs": [],
   "source": [
    "\n",
    "\n",
    "def plot_sizes(self, x='write_total_size', y='write_total_time', shape=None, \n",
    "        color='Engine', facet=None, group_by=['Engine', 'write_num','Num Processes'], **profile_kwargs):\n",
    "    p9.options.figure_size = 9, 6\n",
    "    figdf = self.profile_df(\n",
    "        group_by=group_by, \n",
    "        by_speed=True,\n",
    "        **profile_kwargs\n",
    "        # num_proc=2\n",
    "    ).sort_index().reset_index()\n",
    "    # figdf=figdf.query(f'write_total_size>=1')\n",
    "    # figdf['Num Processes']=pd.Categorical(figdf['Num Processes'], categories=figdf['Num Processes'].unique())\n",
    "    # figdf=figdf[figdf['MB/s']>0]\n",
    "\n",
    "    fig = p9.ggplot(\n",
    "        figdf, \n",
    "        p9.aes(\n",
    "            x=x, \n",
    "            y=y,\n",
    "            # shape=shape, \n",
    "            color=color,\n",
    "            # size='write_num'\n",
    "        )\n",
    "    )\n",
    "    fig += p9.geom_line(alpha=.5, size=2)\n",
    "    fig += p9.geom_point(alpha=.5)\n",
    "    # fig += p9.geom_smooth()\n",
    "    engine_order = figdf.groupby('Engine')[y].mean().sort_values(ascending=False).index\n",
    "    figdf['Engine'] = pd.Categorical(figdf['Engine'], categories=engine_order)\n",
    "    if facet: fig += p9.facet_wrap(facet,nrow=1)\n",
    "    # fig += p9.facet_grid('Num Processes~Size (B)')\n",
    "    # fig += p9.scale_x_log10()\n",
    "    # fig += p9.scale_y_log10()\n",
    "    fig += p9.theme_classic()\n",
    "    # fig += p9.scale_size_continuous(range=(1,5))\n",
    "    return fig\n",
    "\n"
   ]
  },
  {
   "cell_type": "code",
   "execution_count": 19,
   "metadata": {},
   "outputs": [
    {
     "name": "stderr",
     "output_type": "stream",
     "text": [
      "Processing 1x ({'engine': 'redis'}): 100%|██████████| 1000/1000 [01:37<00:00, 10.29it/s]\n",
      "Processing 3x ({'engine': 'redis'}): 100%|██████████| 1000/1000 [00:34<00:00, 29.28it/s]\n",
      "Processing 5x ({'engine': 'redis'}): 100%|██████████| 1000/1000 [00:20<00:00, 47.67it/s]\n",
      "Processing 7x ({'engine': 'redis'}):   0%|          | 0/1000 [00:01<?, ?it/s]\n",
      "{'engine': 'redis'}:   0%|          | 0/5 [02:50<?, ?it/s]\n"
     ]
    },
    {
     "ename": "TypeError",
     "evalue": "list indices must be integers or slices, not str",
     "output_type": "error",
     "traceback": [
      "\u001b[0;31m---------------------------------------------------------------------------\u001b[0m",
      "\u001b[0;31mTypeError\u001b[0m                                 Traceback (most recent call last)",
      "Cell \u001b[0;32mIn[19], line 1\u001b[0m\n\u001b[0;32m----> 1\u001b[0m \u001b[43mplot_sizes\u001b[49m\u001b[43m(\u001b[49m\u001b[43mprofiler\u001b[49m\u001b[43m,\u001b[49m\u001b[43m \u001b[49m\u001b[43mx\u001b[49m\u001b[38;5;241;43m=\u001b[39;49m\u001b[38;5;124;43m'\u001b[39;49m\u001b[38;5;124;43mNum Processes\u001b[39;49m\u001b[38;5;124;43m'\u001b[39;49m\u001b[43m,\u001b[49m\u001b[43m \u001b[49m\u001b[43my\u001b[49m\u001b[38;5;241;43m=\u001b[39;49m\u001b[38;5;124;43m'\u001b[39;49m\u001b[38;5;124;43mMB/s\u001b[39;49m\u001b[38;5;124;43m'\u001b[39;49m\u001b[43m,\u001b[49m\u001b[43m \u001b[49m\u001b[43mgroup_by\u001b[49m\u001b[38;5;241;43m=\u001b[39;49m\u001b[43m[\u001b[49m\u001b[38;5;124;43m\"\u001b[39;49m\u001b[38;5;124;43mEngine\u001b[39;49m\u001b[38;5;124;43m\"\u001b[39;49m\u001b[43m,\u001b[49m\u001b[43m \u001b[49m\u001b[38;5;124;43m\"\u001b[39;49m\u001b[38;5;124;43mNum Processes\u001b[39;49m\u001b[38;5;124;43m\"\u001b[39;49m\u001b[43m]\u001b[49m\u001b[43m,\u001b[49m\u001b[43m \u001b[49m\u001b[38;5;241;43m*\u001b[39;49m\u001b[38;5;241;43m*\u001b[39;49m\u001b[43mprofile_kwargs\u001b[49m\u001b[43m)\u001b[49m\n",
      "Cell \u001b[0;32mIn[18], line 4\u001b[0m, in \u001b[0;36mplot_sizes\u001b[0;34m(self, x, y, shape, color, facet, group_by, **profile_kwargs)\u001b[0m\n\u001b[1;32m      1\u001b[0m \u001b[38;5;28;01mdef\u001b[39;00m \u001b[38;5;21mplot_sizes\u001b[39m(\u001b[38;5;28mself\u001b[39m, x\u001b[38;5;241m=\u001b[39m\u001b[38;5;124m'\u001b[39m\u001b[38;5;124mwrite_total_size\u001b[39m\u001b[38;5;124m'\u001b[39m, y\u001b[38;5;241m=\u001b[39m\u001b[38;5;124m'\u001b[39m\u001b[38;5;124mwrite_total_time\u001b[39m\u001b[38;5;124m'\u001b[39m, shape\u001b[38;5;241m=\u001b[39m\u001b[38;5;28;01mNone\u001b[39;00m, \n\u001b[1;32m      2\u001b[0m         color\u001b[38;5;241m=\u001b[39m\u001b[38;5;124m'\u001b[39m\u001b[38;5;124mEngine\u001b[39m\u001b[38;5;124m'\u001b[39m, facet\u001b[38;5;241m=\u001b[39m\u001b[38;5;28;01mNone\u001b[39;00m, group_by\u001b[38;5;241m=\u001b[39m[\u001b[38;5;124m'\u001b[39m\u001b[38;5;124mEngine\u001b[39m\u001b[38;5;124m'\u001b[39m, \u001b[38;5;124m'\u001b[39m\u001b[38;5;124mwrite_num\u001b[39m\u001b[38;5;124m'\u001b[39m,\u001b[38;5;124m'\u001b[39m\u001b[38;5;124mNum Processes\u001b[39m\u001b[38;5;124m'\u001b[39m], \u001b[38;5;241m*\u001b[39m\u001b[38;5;241m*\u001b[39mprofile_kwargs):\n\u001b[1;32m      3\u001b[0m     p9\u001b[38;5;241m.\u001b[39moptions\u001b[38;5;241m.\u001b[39mfigure_size \u001b[38;5;241m=\u001b[39m \u001b[38;5;241m9\u001b[39m, \u001b[38;5;241m6\u001b[39m\n\u001b[0;32m----> 4\u001b[0m     figdf \u001b[38;5;241m=\u001b[39m \u001b[38;5;28;43mself\u001b[39;49m\u001b[38;5;241;43m.\u001b[39;49m\u001b[43mprofile_df\u001b[49m\u001b[43m(\u001b[49m\n\u001b[1;32m      5\u001b[0m \u001b[43m        \u001b[49m\u001b[43mgroup_by\u001b[49m\u001b[38;5;241;43m=\u001b[39;49m\u001b[43mgroup_by\u001b[49m\u001b[43m,\u001b[49m\u001b[43m \u001b[49m\n\u001b[1;32m      6\u001b[0m \u001b[43m        \u001b[49m\u001b[43mby_speed\u001b[49m\u001b[38;5;241;43m=\u001b[39;49m\u001b[38;5;28;43;01mTrue\u001b[39;49;00m\u001b[43m,\u001b[49m\n\u001b[1;32m      7\u001b[0m \u001b[43m        \u001b[49m\u001b[38;5;241;43m*\u001b[39;49m\u001b[38;5;241;43m*\u001b[39;49m\u001b[43mprofile_kwargs\u001b[49m\n\u001b[1;32m      8\u001b[0m \u001b[43m        \u001b[49m\u001b[38;5;66;43;03m# num_proc=2\u001b[39;49;00m\n\u001b[1;32m      9\u001b[0m \u001b[43m    \u001b[49m\u001b[43m)\u001b[49m\u001b[38;5;241m.\u001b[39msort_index()\u001b[38;5;241m.\u001b[39mreset_index()\n\u001b[1;32m     10\u001b[0m     \u001b[38;5;66;03m# figdf=figdf.query(f'write_total_size>=1')\u001b[39;00m\n\u001b[1;32m     11\u001b[0m     \u001b[38;5;66;03m# figdf['Num Processes']=pd.Categorical(figdf['Num Processes'], categories=figdf['Num Processes'].unique())\u001b[39;00m\n\u001b[1;32m     12\u001b[0m     \u001b[38;5;66;03m# figdf=figdf[figdf['MB/s']>0]\u001b[39;00m\n\u001b[1;32m     14\u001b[0m     fig \u001b[38;5;241m=\u001b[39m p9\u001b[38;5;241m.\u001b[39mggplot(\n\u001b[1;32m     15\u001b[0m         figdf, \n\u001b[1;32m     16\u001b[0m         p9\u001b[38;5;241m.\u001b[39maes(\n\u001b[0;32m   (...)\u001b[0m\n\u001b[1;32m     22\u001b[0m         )\n\u001b[1;32m     23\u001b[0m     )\n",
      "File \u001b[0;32m~/github/filehashcache/notebooks/../filehashcache/etc/performance.py:236\u001b[0m, in \u001b[0;36mFileHashCacheProfiler.profile_df\u001b[0;34m(self, group_by, sort_by, by_speed, *args, **kwargs)\u001b[0m\n\u001b[1;32m    234\u001b[0m \u001b[38;5;129m@classmethod\u001b[39m\n\u001b[1;32m    235\u001b[0m \u001b[38;5;28;01mdef\u001b[39;00m \u001b[38;5;21mprofile_df\u001b[39m(\u001b[38;5;28mself\u001b[39m, \u001b[38;5;241m*\u001b[39margs, group_by\u001b[38;5;241m=\u001b[39mGROUPBY, sort_by\u001b[38;5;241m=\u001b[39mSORTBY, by_speed\u001b[38;5;241m=\u001b[39m\u001b[38;5;28;01mFalse\u001b[39;00m, \u001b[38;5;241m*\u001b[39m\u001b[38;5;241m*\u001b[39mkwargs):\n\u001b[0;32m--> 236\u001b[0m     df \u001b[38;5;241m=\u001b[39m pd\u001b[38;5;241m.\u001b[39mDataFrame(\u001b[38;5;28mself\u001b[39m\u001b[38;5;241m.\u001b[39mprofile(\u001b[38;5;241m*\u001b[39margs, \u001b[38;5;241m*\u001b[39m\u001b[38;5;241m*\u001b[39mkwargs)) \u001b[38;5;28;01mif\u001b[39;00m \u001b[38;5;129;01mnot\u001b[39;00m by_speed \u001b[38;5;28;01melse\u001b[39;00m \u001b[38;5;28;43mself\u001b[39;49m\u001b[38;5;241;43m.\u001b[39;49m\u001b[43mprofile_speed\u001b[49m\u001b[43m(\u001b[49m\u001b[38;5;241;43m*\u001b[39;49m\u001b[43margs\u001b[49m\u001b[43m,\u001b[49m\u001b[38;5;241;43m*\u001b[39;49m\u001b[38;5;241;43m*\u001b[39;49m\u001b[43mkwargs\u001b[49m\u001b[43m)\u001b[49m\n\u001b[1;32m    237\u001b[0m     df \u001b[38;5;241m=\u001b[39m df\u001b[38;5;241m.\u001b[39mcopy()\n\u001b[1;32m    238\u001b[0m     \u001b[38;5;28;01mif\u001b[39;00m group_by:\n",
      "File \u001b[0;32m~/github/filehashcache/notebooks/../filehashcache/etc/performance.py:206\u001b[0m, in \u001b[0;36mFileHashCacheProfiler.profile_speed\u001b[0;34m(self, *args, **kwargs)\u001b[0m\n\u001b[1;32m    204\u001b[0m \u001b[38;5;129m@classmethod\u001b[39m\n\u001b[1;32m    205\u001b[0m \u001b[38;5;28;01mdef\u001b[39;00m \u001b[38;5;21mprofile_speed\u001b[39m(\u001b[38;5;28mself\u001b[39m, \u001b[38;5;241m*\u001b[39margs, \u001b[38;5;241m*\u001b[39m\u001b[38;5;241m*\u001b[39mkwargs):\n\u001b[0;32m--> 206\u001b[0m     df \u001b[38;5;241m=\u001b[39m pd\u001b[38;5;241m.\u001b[39mDataFrame(\u001b[38;5;28;43mself\u001b[39;49m\u001b[38;5;241;43m.\u001b[39;49m\u001b[43mprofile\u001b[49m\u001b[43m(\u001b[49m\u001b[38;5;241;43m*\u001b[39;49m\u001b[43margs\u001b[49m\u001b[43m,\u001b[49m\u001b[43m \u001b[49m\u001b[38;5;241;43m*\u001b[39;49m\u001b[38;5;241;43m*\u001b[39;49m\u001b[43mkwargs\u001b[49m\u001b[43m)\u001b[49m)\n\u001b[1;32m    208\u001b[0m     \u001b[38;5;66;03m# Identify columns to melt\u001b[39;00m\n\u001b[1;32m    209\u001b[0m     speed_columns \u001b[38;5;241m=\u001b[39m [col \u001b[38;5;28;01mfor\u001b[39;00m col \u001b[38;5;129;01min\u001b[39;00m df\u001b[38;5;241m.\u001b[39mcolumns \u001b[38;5;28;01mif\u001b[39;00m \u001b[38;5;28many\u001b[39m(x \u001b[38;5;129;01min\u001b[39;00m col \u001b[38;5;28;01mfor\u001b[39;00m x \u001b[38;5;129;01min\u001b[39;00m [\u001b[38;5;124m'\u001b[39m\u001b[38;5;124mSpeed\u001b[39m\u001b[38;5;124m'\u001b[39m, \u001b[38;5;124m'\u001b[39m\u001b[38;5;124mRate\u001b[39m\u001b[38;5;124m'\u001b[39m, \u001b[38;5;124m'\u001b[39m\u001b[38;5;124mTime\u001b[39m\u001b[38;5;124m'\u001b[39m])]\n",
      "File \u001b[0;32m~/github/filehashcache/notebooks/../filehashcache/utils.py:118\u001b[0m, in \u001b[0;36mcached_result.<locals>.wrapper\u001b[0;34m(*args, **kwargs)\u001b[0m\n\u001b[1;32m    116\u001b[0m \u001b[38;5;66;03m# If _force is True or cache miss, call the function\u001b[39;00m\n\u001b[1;32m    117\u001b[0m logger\u001b[38;5;241m.\u001b[39mdebug(\u001b[38;5;124mf\u001b[39m\u001b[38;5;124m\"\u001b[39m\u001b[38;5;132;01m{\u001b[39;00m\u001b[38;5;124m'\u001b[39m\u001b[38;5;124mForced execution\u001b[39m\u001b[38;5;124m'\u001b[39m\u001b[38;5;250m \u001b[39m\u001b[38;5;28;01mif\u001b[39;00m\u001b[38;5;250m \u001b[39m_force\u001b[38;5;250m \u001b[39m\u001b[38;5;28;01melse\u001b[39;00m\u001b[38;5;250m \u001b[39m\u001b[38;5;124m'\u001b[39m\u001b[38;5;124mCache miss\u001b[39m\u001b[38;5;124m'\u001b[39m\u001b[38;5;132;01m}\u001b[39;00m\u001b[38;5;124m for \u001b[39m\u001b[38;5;132;01m{\u001b[39;00mfunc\u001b[38;5;241m.\u001b[39m\u001b[38;5;18m__name__\u001b[39m\u001b[38;5;132;01m}\u001b[39;00m\u001b[38;5;124m. Executing function.\u001b[39m\u001b[38;5;124m\"\u001b[39m)\n\u001b[0;32m--> 118\u001b[0m result \u001b[38;5;241m=\u001b[39m \u001b[43mfunc\u001b[49m\u001b[43m(\u001b[49m\u001b[38;5;241;43m*\u001b[39;49m\u001b[43margs\u001b[49m\u001b[43m,\u001b[49m\u001b[43m \u001b[49m\u001b[38;5;241;43m*\u001b[39;49m\u001b[38;5;241;43m*\u001b[39;49m\u001b[43mkwargs\u001b[49m\u001b[43m)\u001b[49m\n\u001b[1;32m    119\u001b[0m logger\u001b[38;5;241m.\u001b[39mdebug(\u001b[38;5;124mf\u001b[39m\u001b[38;5;124m\"\u001b[39m\u001b[38;5;124mCaching result for \u001b[39m\u001b[38;5;132;01m{\u001b[39;00mfunc\u001b[38;5;241m.\u001b[39m\u001b[38;5;18m__name__\u001b[39m\u001b[38;5;132;01m}\u001b[39;00m\u001b[38;5;124m.\u001b[39m\u001b[38;5;124m\"\u001b[39m)\n\u001b[1;32m    120\u001b[0m cache[key] \u001b[38;5;241m=\u001b[39m result\n",
      "File \u001b[0;32m~/github/filehashcache/notebooks/../filehashcache/etc/performance.py:169\u001b[0m, in \u001b[0;36mFileHashCacheProfiler.profile\u001b[0;34m(self, engine, compress, b64, size, iterations, verbose, num_proc, profile_by)\u001b[0m\n\u001b[1;32m    167\u001b[0m sizenow \u001b[38;5;241m=\u001b[39m \u001b[38;5;241m0\u001b[39m\n\u001b[1;32m    168\u001b[0m timestart \u001b[38;5;241m=\u001b[39m time\u001b[38;5;241m.\u001b[39mtime()\n\u001b[0;32m--> 169\u001b[0m \u001b[38;5;28;01mfor\u001b[39;00m res \u001b[38;5;129;01min\u001b[39;00m \u001b[38;5;28mself\u001b[39m\u001b[38;5;241m.\u001b[39mprofile_cache_nproc(tasks, nproc, group):\n\u001b[1;32m    170\u001b[0m     \u001b[38;5;28;01mif\u001b[39;00m res \u001b[38;5;129;01mis\u001b[39;00m \u001b[38;5;129;01mnot\u001b[39;00m \u001b[38;5;28;01mNone\u001b[39;00m:\n\u001b[1;32m    171\u001b[0m         writenum \u001b[38;5;241m+\u001b[39m\u001b[38;5;241m=\u001b[39m \u001b[38;5;241m1\u001b[39m\n",
      "File \u001b[0;32m~/github/filehashcache/notebooks/../filehashcache/etc/performance.py:192\u001b[0m, in \u001b[0;36mprofile_cache_nproc\u001b[0;34m(self, tasks, nproc, group)\u001b[0m\n\u001b[1;32m    190\u001b[0m \u001b[38;5;28;01mfor\u001b[39;00m group \u001b[38;5;129;01min\u001b[39;00m pbar:\n\u001b[1;32m    191\u001b[0m     pbar\u001b[38;5;241m.\u001b[39mset_description(\u001b[38;5;28mstr\u001b[39m(group))\n\u001b[0;32m--> 192\u001b[0m     tasks \u001b[38;5;241m=\u001b[39m []\n\u001b[1;32m    193\u001b[0m     \u001b[38;5;28;01mfor\u001b[39;00m _ \u001b[38;5;129;01min\u001b[39;00m \u001b[38;5;28mrange\u001b[39m(iterations):\n\u001b[1;32m    194\u001b[0m         task \u001b[38;5;241m=\u001b[39m {\n\u001b[1;32m    195\u001b[0m             \u001b[38;5;124m'\u001b[39m\u001b[38;5;124mengine\u001b[39m\u001b[38;5;124m'\u001b[39m: group\u001b[38;5;241m.\u001b[39mget(\u001b[38;5;124m'\u001b[39m\u001b[38;5;124mengine\u001b[39m\u001b[38;5;124m'\u001b[39m, random\u001b[38;5;241m.\u001b[39mchoice(engine)),\n\u001b[1;32m    196\u001b[0m             \u001b[38;5;124m'\u001b[39m\u001b[38;5;124mcompress\u001b[39m\u001b[38;5;124m'\u001b[39m: group\u001b[38;5;241m.\u001b[39mget(\u001b[38;5;124m'\u001b[39m\u001b[38;5;124mcompress\u001b[39m\u001b[38;5;124m'\u001b[39m, random\u001b[38;5;241m.\u001b[39mchoice(compress)),\n\u001b[0;32m   (...)\u001b[0m\n\u001b[1;32m    200\u001b[0m             \u001b[38;5;124m'\u001b[39m\u001b[38;5;124miter\u001b[39m\u001b[38;5;124m'\u001b[39m: _,\n\u001b[1;32m    201\u001b[0m         }\n",
      "File \u001b[0;32m~/github/filehashcache/notebooks/../filehashcache/etc/performance.py:183\u001b[0m, in \u001b[0;36mreturn_iter\u001b[0;34m(proc, numproc)\u001b[0m\n\u001b[1;32m    173\u001b[0m results \u001b[38;5;241m=\u001b[39m []\n\u001b[1;32m    175\u001b[0m \u001b[38;5;66;03m# Generate all possible group combinations\u001b[39;00m\n\u001b[1;32m    176\u001b[0m group_combinations \u001b[38;5;241m=\u001b[39m [\n\u001b[1;32m    177\u001b[0m     \u001b[38;5;28mdict\u001b[39m(\u001b[38;5;28mzip\u001b[39m(profile_by, values))\n\u001b[1;32m    178\u001b[0m     \u001b[38;5;28;01mfor\u001b[39;00m values \u001b[38;5;129;01min\u001b[39;00m itertools\u001b[38;5;241m.\u001b[39mproduct(\u001b[38;5;241m*\u001b[39m(\n\u001b[1;32m    179\u001b[0m         engine \u001b[38;5;28;01mif\u001b[39;00m param \u001b[38;5;241m==\u001b[39m \u001b[38;5;124m'\u001b[39m\u001b[38;5;124mengine\u001b[39m\u001b[38;5;124m'\u001b[39m \u001b[38;5;28;01melse\u001b[39;00m\n\u001b[1;32m    180\u001b[0m         compress \u001b[38;5;28;01mif\u001b[39;00m param \u001b[38;5;241m==\u001b[39m \u001b[38;5;124m'\u001b[39m\u001b[38;5;124mcompress\u001b[39m\u001b[38;5;124m'\u001b[39m \u001b[38;5;28;01melse\u001b[39;00m\n\u001b[1;32m    181\u001b[0m         b64 \u001b[38;5;28;01mif\u001b[39;00m param \u001b[38;5;241m==\u001b[39m \u001b[38;5;124m'\u001b[39m\u001b[38;5;124mb64\u001b[39m\u001b[38;5;124m'\u001b[39m \u001b[38;5;28;01melse\u001b[39;00m\n\u001b[1;32m    182\u001b[0m         size \u001b[38;5;28;01mif\u001b[39;00m param \u001b[38;5;241m==\u001b[39m \u001b[38;5;124m'\u001b[39m\u001b[38;5;124msize\u001b[39m\u001b[38;5;124m'\u001b[39m \u001b[38;5;28;01melse\u001b[39;00m\n\u001b[0;32m--> 183\u001b[0m         [\u001b[38;5;28;01mTrue\u001b[39;00m, \u001b[38;5;28;01mFalse\u001b[39;00m] \u001b[38;5;28;01mif\u001b[39;00m param \u001b[38;5;241m==\u001b[39m \u001b[38;5;124m'\u001b[39m\u001b[38;5;124mverbose\u001b[39m\u001b[38;5;124m'\u001b[39m \u001b[38;5;28;01melse\u001b[39;00m\n\u001b[1;32m    184\u001b[0m         [\u001b[38;5;28;01mNone\u001b[39;00m]  \u001b[38;5;66;03m# Default for any other parameter\u001b[39;00m\n\u001b[1;32m    185\u001b[0m         \u001b[38;5;28;01mfor\u001b[39;00m param \u001b[38;5;129;01min\u001b[39;00m profile_by\n\u001b[1;32m    186\u001b[0m     ))\n\u001b[1;32m    187\u001b[0m ]\n\u001b[1;32m    188\u001b[0m random\u001b[38;5;241m.\u001b[39mshuffle(group_combinations)\n\u001b[1;32m    189\u001b[0m pbar \u001b[38;5;241m=\u001b[39m tqdm(group_combinations, desc\u001b[38;5;241m=\u001b[39m\u001b[38;5;124m'\u001b[39m\u001b[38;5;124mGroup combinations\u001b[39m\u001b[38;5;124m'\u001b[39m, position\u001b[38;5;241m=\u001b[39m\u001b[38;5;241m0\u001b[39m, leave\u001b[38;5;241m=\u001b[39m\u001b[38;5;28;01mTrue\u001b[39;00m)\n",
      "\u001b[0;31mTypeError\u001b[0m: list indices must be integers or slices, not str"
     ]
    }
   ],
   "source": [
    "plot_sizes(profiler, x='Num Processes', y='MB/s', group_by=[\"Engine\", \"Num Processes\"], **profile_kwargs)"
   ]
  },
  {
   "cell_type": "code",
   "execution_count": null,
   "metadata": {},
   "outputs": [],
   "source": []
  },
  {
   "cell_type": "code",
   "execution_count": null,
   "metadata": {},
   "outputs": [],
   "source": []
  },
  {
   "cell_type": "code",
   "execution_count": null,
   "metadata": {},
   "outputs": [],
   "source": []
  },
  {
   "cell_type": "code",
   "execution_count": null,
   "metadata": {},
   "outputs": [],
   "source": []
  },
  {
   "cell_type": "code",
   "execution_count": null,
   "metadata": {},
   "outputs": [],
   "source": []
  },
  {
   "cell_type": "code",
   "execution_count": null,
   "metadata": {},
   "outputs": [],
   "source": []
  },
  {
   "cell_type": "code",
   "execution_count": null,
   "metadata": {},
   "outputs": [],
   "source": []
  },
  {
   "cell_type": "code",
   "execution_count": null,
   "metadata": {},
   "outputs": [],
   "source": []
  },
  {
   "cell_type": "code",
   "execution_count": null,
   "metadata": {},
   "outputs": [],
   "source": [
    "# # !pip install -U pip wheel\n",
    "# # !pip install scikit-misc\n",
    "# # You can then use this method in your plotting function\n",
    "# def plot_speed(self, y='Speed (MB/s)'):\n",
    "#     import plotnine as p9\n",
    "#     p9.options.figure_size = 9, 6\n",
    "#     kwargs={**profile_kwargs, 'num_proc':10}\n",
    "#     figdf = self.profile_df(group_by=['Engine', 'Encoding', 'Method', 'Num Processes', 'Speed Type'], by_speed=True, **kwargs).reset_index()\n",
    "#     figdf = figdf.sort_values('Num Processes')\n",
    "#     fig = p9.ggplot(figdf, p9.aes(x='Num Processes', y=y, size='Rate (it/s)',\n",
    "#                                   color='Encoding'))\n",
    "#     # fig += p9.geom_line(alpha=.5, size=2)\n",
    "#     fig += p9.geom_point(alpha=.5)\n",
    "#     fig += p9.geom_smooth()\n",
    "#     engine_order = figdf.groupby('Engine')[y].mean().sort_values(ascending=False).index\n",
    "#     figdf['Engine'] = pd.Categorical(figdf['Engine'], categories=engine_order)\n",
    "#     # fig += p9.facet_wrap('Engine',nrow=1)\n",
    "#     fig += p9.facet_grid('Speed Type~Engine', scales='free_y')\n",
    "#     # fig += p9.scale_y_log10()\n",
    "#     fig += p9.theme_classic()\n",
    "#     return fig\n",
    "\n",
    "# # profile_df_reshaped(profiler)\n",
    "# # To use the new plot:\n",
    "# plot_speed(profiler)"
   ]
  },
  {
   "cell_type": "code",
   "execution_count": null,
   "metadata": {},
   "outputs": [],
   "source": [
    "# # !pip install plotnine\n",
    "# def plot_by_num_proc(self, y='Speed (MB/s)'):\n",
    "#     import plotnine as p9\n",
    "#     p9.options.figure_size=9,9\n",
    "#     figdf = profile_reshaped(self)\n",
    "#     figdf = figdf.groupby('Num Processes']).mean(numeric_only=True).reset_index()\n",
    "#     return figdf\n",
    "#     fig = p9.ggplot(figdf, p9.aes(x='Num Processes', y=y, color='Encoding', shape='Speed Type', label='Method'))\n",
    "#     fig += p9.geom_line(alpha=.25, size=1)\n",
    "#     fig += p9.geom_point(alpha=.25, size=5)\n",
    "\n",
    "#     engine_order = figdf.groupby('Engine')[y].mean().sort_values(ascending=False).index\n",
    "#     figdf['Engine'] = pd.Categorical(figdf['Engine'], categories=engine_order)\n",
    "#     fig += p9.facet_wrap('Engine',nrow=1)\n",
    "#     fig += p9.scale_x_log10()\n",
    "#     fig += p9.scale_y_log10()\n",
    "#     # fig += p9.geom_text(size=12)\n",
    "#     fig += p9.theme_minimal()\n",
    "#     return fig\n",
    "\n",
    "\n",
    "\n",
    "# plot_by_num_proc(profiler)"
   ]
  },
  {
   "cell_type": "code",
   "execution_count": null,
   "metadata": {},
   "outputs": [],
   "source": [
    "# # !pip install plotnine\n",
    "# import plotnine as p9\n",
    "# p9.options.figure_size=9,9\n",
    "# figdf = df.reset_index()\n",
    "# fig = p9.ggplot(figdf, p9.aes(x='Read Speed (MB/s)', y='Write Speed (MB/s)', color='Engine', shape='Encoding', label='Method'))\n",
    "# fig += p9.geom_point(alpha=.25, size=5)\n",
    "# # fig += p9.scale_x_log10()\n",
    "# # fig += p9.scale_y_log10()\n",
    "# # fig += p9.geom_text(size=12)\n",
    "# fig += p9.theme_minimal()\n",
    "# fig"
   ]
  },
  {
   "cell_type": "code",
   "execution_count": null,
   "metadata": {},
   "outputs": [],
   "source": [
    "# # !pip install plotnine\n",
    "# import plotnine as p9\n",
    "# p9.options.figure_size=9,9\n",
    "# figdf = df.reset_index()\n",
    "# fig = p9.ggplot(figdf, p9.aes(x='Read Rate (it/s)', y='Write Rate (it/s)', color='Encoding', shape='Engine', label='Method'))\n",
    "# fig += p9.geom_point(alpha=.25, size=5)\n",
    "# fig += p9.scale_x_log10()\n",
    "# fig += p9.scale_y_log10()\n",
    "# # fig += p9.geom_text(size=12)\n",
    "# fig += p9.theme_minimal()\n",
    "# fig"
   ]
  }
 ],
 "metadata": {
  "kernelspec": {
   "display_name": "venv",
   "language": "python",
   "name": "python3"
  },
  "language_info": {
   "codemirror_mode": {
    "name": "ipython",
    "version": 3
   },
   "file_extension": ".py",
   "mimetype": "text/x-python",
   "name": "python",
   "nbconvert_exporter": "python",
   "pygments_lexer": "ipython3",
   "version": "3.8.14"
  }
 },
 "nbformat": 4,
 "nbformat_minor": 2
}
